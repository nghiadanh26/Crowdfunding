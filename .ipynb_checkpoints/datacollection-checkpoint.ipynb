{
 "cells": [
  {
   "cell_type": "markdown",
   "metadata": {
    "colab_type": "text",
    "id": "view-in-github"
   },
   "source": [
    "<a href=\"https://colab.research.google.com/github/nghiadanh26/Crowdfunding/blob/main/datacollection.ipynb\" target=\"_parent\"><img src=\"https://colab.research.google.com/assets/colab-badge.svg\" alt=\"Open In Colab\"/></a>"
   ]
  },
  {
   "cell_type": "markdown",
   "metadata": {
    "id": "N2x4LPh7GzQT"
   },
   "source": [
    "# **Finance: Determinants of success of crowdfunding projects.**\n",
    "Data collection\n",
    "\n",
    "URL: kisskissbankbank.com"
   ]
  },
  {
   "cell_type": "markdown",
   "metadata": {
    "id": "96JX4ZTIIFXS"
   },
   "source": [
    "#### **Packages**"
   ]
  },
  {
   "cell_type": "code",
   "execution_count": null,
   "metadata": {
    "id": "SYaC-XcgIEk9"
   },
   "outputs": [],
   "source": [
    "import pandas as pd\n",
    "import numpy as np\n",
    "from bs4 import BeautifulSoup\n",
    "import requests\n",
    "import re\n",
    "from urllib.request import urlopen\n",
    "import time"
   ]
  },
  {
   "cell_type": "markdown",
   "metadata": {
    "id": "KGTHoGyPO7yg"
   },
   "source": [
    "#### **Parsing data**"
   ]
  },
  {
   "cell_type": "code",
   "execution_count": null,
   "metadata": {
    "id": "Idg_ipO9GveF"
   },
   "outputs": [],
   "source": [
    "#function to get the html code from the requested url\n",
    "def download_from_the_internet(url):\n",
    "    try:\n",
    "        return urlopen(url).read().decode('utf-8')\n",
    "    except KeyboardInterrupt:\n",
    "        raise\n",
    "    except:\n",
    "        return None"
   ]
  },
  {
   "cell_type": "code",
   "execution_count": null,
   "metadata": {
    "id": "AlGkx7LDNQxf"
   },
   "outputs": [],
   "source": [
    "#function to return list of paginated pages \n",
    "def get_pages(number):\n",
    "  return ['https://www.kisskissbankbank.com/fr/discover?page='+p for p in range(1, number)]"
   ]
  },
  {
   "cell_type": "code",
   "execution_count": null,
   "metadata": {
    "id": "ue1kpoGzTbDN"
   },
   "outputs": [],
   "source": [
    "html = download_from_the_internet('https://www.kisskissbankbank.com/fr/discover')"
   ]
  },
  {
   "cell_type": "code",
   "execution_count": null,
   "metadata": {
    "id": "TdAd0dm4Tfhs"
   },
   "outputs": [],
   "source": [
    "soup = BeautifulSoup(html)"
   ]
  },
  {
   "cell_type": "code",
   "execution_count": null,
   "metadata": {
    "id": "hAAatW5Vdvsz"
   },
   "outputs": [],
   "source": [
    "def extract_links_from_html(html):  \n",
    "    parser = BeautifulSoup(html)\n",
    "    parser = parser.find('div', attrs = {'class':'styles__StyledGrid-xsvioa-0 iBEewj kiss-BrowsingGrid'})\n",
    "    return [link.get('href') for link in parser.findAll('a')]"
   ]
  },
  {
   "cell_type": "code",
   "execution_count": null,
   "metadata": {
    "id": "wJzDATSolo8m"
   },
   "outputs": [],
   "source": [
    "def get_all_projects(number):\n",
    "  links = []\n",
    "  for i in range(1,number):\n",
    "    html = download_from_the_internet('https://www.kisskissbankbank.com/fr/discover?page='+str(i))\n",
    "    links.extend(extract_links_from_html(html))\n",
    "  return links"
   ]
  },
  {
   "cell_type": "code",
   "execution_count": null,
   "metadata": {
    "id": "9tIQsOm7ThtP"
   },
   "outputs": [],
   "source": [
    "links = []\n",
    "for i in range(1,2624):\n",
    "  try:\n",
    "    html = download_from_the_internet('https://www.kisskissbankbank.com/fr/discover?page='+str(i))\n",
    "    links.extend(extract_links_from_html(html))\n",
    "  except:\n",
    "    print(i)"
   ]
  },
  {
   "cell_type": "code",
   "execution_count": null,
   "metadata": {
    "id": "TuFU6oyDg3Ba"
   },
   "outputs": [],
   "source": [
    "links"
   ]
  },
  {
   "cell_type": "code",
   "execution_count": null,
   "metadata": {
    "colab": {
     "base_uri": "https://localhost:8080/"
    },
    "id": "Hz-lR_hRTlIK",
    "outputId": "31d89c89-0e3c-42e3-b2e6-d271ac6cd615"
   },
   "outputs": [
    {
     "name": "stdout",
     "output_type": "stream",
     "text": [
      "326\n",
      "103\n",
      "186\n",
      "252\n",
      "105\n",
      "142\n",
      "105\n",
      "159\n",
      "123\n"
     ]
    }
   ],
   "source": [
    "for a in content.find_all('a'):\n",
    "  print(a.find('div', attrs={'class':'k-CrowdfundingCard__progressBar'}).text.split()[0])\n"
   ]
  },
  {
   "cell_type": "markdown",
   "metadata": {
    "id": "6Ucfr_v5U648"
   },
   "source": [
    "is_successful – True if the project is successful and False otherwise\n",
    "percentage_fund – Equal to 100*funded/target. If it is greater or equal than 100, the project is successful\n",
    "funded – Amount of money the project was funded, in euros\n",
    "target – Amount of money the project hopes to be funded, in euros\n",
    "in_2020 – If the end date of the project is in 2020, this variable will be True, and False otherwise\n",
    "backers – The number of backers for this project category – Category is one of these four categories: Music, Sport, Film, and theatre\n",
    "thumbnail_type – Image or Video\n",
    "number_rewards – The number of offered rewards for backers\n",
    "min_price – The minimum price of a reward that the backers can get, in euros\n",
    "max_price – The maximum price of a reward that the backers can get, in euros\n",
    "num_news – The number of news of the project\n",
    "num_comments – The number of comments of the project\n",
    "num_contributions– The number of contributions of the project\n",
    "num_creater_projects – The number of projects created by this project’s creator\n",
    "\n"
   ]
  },
  {
   "cell_type": "code",
   "execution_count": null,
   "metadata": {
    "id": "ytoF-Vs6KWu9"
   },
   "outputs": [],
   "source": [
    "#function to create a list of projects for future dataframe \n",
    "def extract_data_from_html(url, html):\n",
    "    data = []\n",
    "    soup = BeautifulSoup(html)\n",
    "    content = soup.find('div', attrs = {'class':'styles__StyledGrid-xsvioa-0 iBEewj kiss-BrowsingGrid'})\n",
    "    projects = content.find_all('a')\n",
    "    for project in projects:\n",
    "      #for every project creating a dictionary instance with the corresponding columns\n",
    "      title = project.find('div', attrs={'class':'k-CrowdfundingCard__titleAndDesc'}).text\n",
    "      category = project.find('div', attrs={'class':'k-CrowdfundingCard__subtitle__container'}).text\n",
    "      infos = a.find('div', attrs={'class':'k-CrowdfundingCard__informations__infoContainer'})\n",
    "      for i in infos:\n",
    "        if len(infos) == 2:\n",
    "          funded = infos[1].find('strong', attrs={'class':'text__StyledText-sc-1jqe2sw-0 kKHxol k-u-weight-regular info__StyledText-h7ofxb-0 jfWZBp'}).text\n",
    "          target = infos[1].find('span', attrs={'class':'k-u-hidden@m-up'}).text\n",
    "          num_contributions = infos[0].find('strong', attrs={'class':'text__StyledText-sc-1jqe2sw-0 kKHxol k-u-weight-regular info__StyledText-h7ofxb-0 jfWZBp'}).text\n",
    "        else:\n",
    "          funded = infos[2].find('strong', attrs={'class':'text__StyledText-sc-1jqe2sw-0 kKHxol k-u-weight-regular info__StyledText-h7ofxb-0 jfWZBp'}).text\n",
    "          target = infos[2].find('span', attrs={'class':'k-u-hidden@m-up'}).text\n",
    "          num_contributions = infos[0].find('strong', attrs={'class':'text__StyledText-sc-1jqe2sw-0 kKHxol k-u-weight-regular info__StyledText-h7ofxb-0 jfWZBp'}).text\n",
    "\n",
    "        percentage_fund = project..find('div', attrs={'class':'k-CrowdfundingCard__progressBar'}).text.split()[0]\n",
    "        if percentage_fund >= 100: is_successfull = True\n",
    "        else: is_successfull = False\n",
    "        url = project.get('href')\n",
    "        html = download_from_the_internet(url)\n",
    "        soup = BeautifulSoup(html)\n",
    "        in_2020 = \n",
    "        backers = \n",
    "        thumbnail_type = \n",
    "        number_rewards = \n",
    "        min_price = \n",
    "        max_price = \n",
    "        num_news =\n",
    "        num_comments = \n",
    "        num_creater_projects = \n",
    "\n",
    "      data.append({'title':title, \n",
    "                   'category':category,\n",
    "                   'is_successfull':is_successfull,\n",
    "                   'percentage_fund':percentage_fund,\n",
    "                   'funded':funded, \n",
    "                   'target':target, \n",
    "                   'in_2020':in_2020, \n",
    "                   'backers':backers, \n",
    "                   'thumbnail_type':thumbnail_type, \n",
    "                   'number_rewards':number_rewards, \n",
    "                   'min_price':min_price, \n",
    "                   'max_price':max_price, \n",
    "                   'num_news':num_news,\n",
    "                   'num_comments':num_comments, \n",
    "                   'num_contribution':num_contribution,\n",
    "                   'num_creater_projects':num_creater_projects})\n",
    "      \n",
    "    return data\n",
    "\n",
    "\n"
   ]
  },
  {
   "cell_type": "code",
   "execution_count": null,
   "metadata": {
    "id": "KCUAyAnMNQl3"
   },
   "outputs": [],
   "source": []
  },
  {
   "cell_type": "markdown",
   "metadata": {
    "id": "QrcSSj9lPH3k"
   },
   "source": [
    "#### **Final Dataframe**"
   ]
  },
  {
   "cell_type": "markdown",
   "metadata": {
    "id": "O5edY2dRLNjR"
   },
   "source": [
    "Dataset structure\n",
    "\n",
    "*   is_successful – True if the project is successful and False otherwise\n",
    "*   percentage_fund – Equal to 100*funded/target. If it is greater or equal than 100, the project is successful\n",
    "*   funded – Amount of money the project was funded, in euros\n",
    "*   target – Amount of money the project hopes to be funded, in euros\n",
    "*   in_2020 – If the end date of the project is in 2020, this variable will be True, and False otherwise\n",
    "*   backers – The number of backers for this project\n",
    "category – Category is one of these four categories: Music, Sport, Film, and theatre\n",
    "*   thumbnail_type – Image or Video\n",
    "*   number_rewards – The number of offered rewards for backers\n",
    "*   min_price – The minimum price of a reward that the backers can get, in euros\n",
    "*   max_price – The maximum price of a reward that the backers can get, in euros\n",
    "*   num_news – The number of news of the project\n",
    "*   num_comments – The number of comments of the project\n",
    "*   num_contributions– The number of contributions of the project\n",
    "*   num_creater_projects – The number of projects created by this project’s creator"
   ]
  },
  {
   "cell_type": "code",
   "execution_count": null,
   "metadata": {
    "id": "Y57fx1DaPMTS"
   },
   "outputs": [],
   "source": [
    "#creating a pandas dataframe with parsed data\n",
    "df = pd.Dataframe(content)\n",
    "df.head()"
   ]
  },
  {
   "cell_type": "code",
   "execution_count": null,
   "metadata": {
    "id": "plqph8axPYyv"
   },
   "outputs": [],
   "source": [
    "df.shape"
   ]
  },
  {
   "cell_type": "code",
   "execution_count": null,
   "metadata": {
    "id": "kd8CFu9EPVV3"
   },
   "outputs": [],
   "source": [
    "#exporting data to csv\n",
    "df.to_csv('output.csv')"
   ]
  }
 ],
 "metadata": {
  "colab": {
   "include_colab_link": true,
   "name": "datacollection.ipynb",
   "provenance": []
  },
  "kernelspec": {
   "display_name": "Python 3",
   "language": "python",
   "name": "python3"
  },
  "language_info": {
   "codemirror_mode": {
    "name": "ipython",
    "version": 3
   },
   "file_extension": ".py",
   "mimetype": "text/x-python",
   "name": "python",
   "nbconvert_exporter": "python",
   "pygments_lexer": "ipython3",
   "version": "3.8.3"
  }
 },
 "nbformat": 4,
 "nbformat_minor": 1
}
