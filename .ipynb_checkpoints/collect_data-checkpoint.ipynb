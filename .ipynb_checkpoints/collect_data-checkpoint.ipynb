{
 "cells": [
  {
   "cell_type": "markdown",
   "metadata": {},
   "source": [
    "### Import packages"
   ]
  },
  {
   "cell_type": "code",
   "execution_count": 3,
   "metadata": {},
   "outputs": [],
   "source": [
    "import pandas as pd\n",
    "import numpy as np\n",
    "from bs4 import BeautifulSoup\n",
    "import requests\n",
    "import re\n",
    "from urllib.request import urlopen\n",
    "from tqdm import tqdm\n",
    "import random\n",
    "import time\n",
    "from selenium import webdriver"
   ]
  },
  {
   "cell_type": "markdown",
   "metadata": {},
   "source": [
    "### Global variables"
   ]
  },
  {
   "cell_type": "code",
   "execution_count": 4,
   "metadata": {},
   "outputs": [],
   "source": [
    "categories = {'sport': 'adventure-and-sport',\n",
    "             'music': 'music',\n",
    "             'film': 'film-and-video',\n",
    "             'theatre': 'live-performance'}"
   ]
  },
  {
   "cell_type": "markdown",
   "metadata": {},
   "source": [
    "### Functions"
   ]
  },
  {
   "cell_type": "code",
   "execution_count": 71,
   "metadata": {},
   "outputs": [],
   "source": [
    "# Create an url\n",
    "def create_url(page, category):\n",
    "    _filter = '&categories[' + categories[category] + ']=on'\n",
    "    return 'https://www.kisskissbankbank.com/en/discover?project[successful]=on' + _filter + '&page=' + str(page)"
   ]
  },
  {
   "cell_type": "code",
   "execution_count": 79,
   "metadata": {},
   "outputs": [],
   "source": [
    "# Get a page from url\n",
    "def get_page(url):\n",
    "    ok = False\n",
    "    page = requests.get(url)\n",
    "    time.sleep(5)\n",
    "    page = requests.get(url)\n",
    "    if(page.status_code == 200):\n",
    "        ok = True\n",
    "    bs = BeautifulSoup(page.text, 'html.parser')\n",
    "    return bs, ok"
   ]
  },
  {
   "cell_type": "code",
   "execution_count": 7,
   "metadata": {},
   "outputs": [],
   "source": [
    "# Get the number of the projects from bs\n",
    "def get_num_of_projects(bs):\n",
    "    total_projects = bs.findAll('span', 'text__StyledText-sc-1jqe2sw-0 kKHxol k-u-color-font1 k-u-size-tiny k-u-weight-regular')\n",
    "    return int(total_projects[0].contents[0].split(' ')[0].replace(',','')) "
   ]
  },
  {
   "cell_type": "code",
   "execution_count": 8,
   "metadata": {},
   "outputs": [],
   "source": [
    "# Get the number of pages from bs\n",
    "def get_num_of_pages(bs):\n",
    "    num_pro = get_num_of_projects(bs)\n",
    "    return int(num_pro/9) + 1"
   ]
  },
  {
   "cell_type": "code",
   "execution_count": 83,
   "metadata": {},
   "outputs": [],
   "source": [
    "# Function to go to project page and get information\n",
    "def go_to_project(url_pro):\n",
    "    \n",
    "    # Load the website by driver\n",
    "    chrome_path = './chromedriver.exe'\n",
    "    driver = webdriver.Chrome(chrome_path)\n",
    "    driver.get(url_pro)\n",
    "    time.sleep(5)\n",
    "    \n",
    "    # Accept the cookie\n",
    "    cookie_question = driver.find_element_by_xpath(\"//*[@id=\\\"App-react-component\\\"]/div[1]/div/div/div/div/button[2]\")\n",
    "    cookie_question.click()\n",
    "    \n",
    "    # Load the html page\n",
    "    html = driver.page_source\n",
    "    bs = BeautifulSoup(html, 'html.parser')\n",
    "    \n",
    "    # Calculate num_news, num_comments, num_contributions\n",
    "    infos = bs.findAll('a', 'k-NavBar__link')\n",
    "    news_bs = infos[2].findAll('span', 'badge__StyledBadge-sc-7liuod-0 eucluz k-Badge k-Badge--spaced')\n",
    "    comments_bs = infos[3].findAll('span', 'badge__StyledBadge-sc-7liuod-0 eucluz k-Badge k-Badge--spaced')\n",
    "    contributions_bs = infos[4].findAll('span', 'badge__StyledBadge-sc-7liuod-0 eucluz k-Badge k-Badge--spaced')\n",
    "    \n",
    "    if(len(news_bs) == 0):\n",
    "        num_news = 0\n",
    "    else:\n",
    "        num_news = int(news_bs[0].contents[0])\n",
    "\n",
    "    if(len(comments_bs) == 0):\n",
    "        num_comments = 0\n",
    "    else:\n",
    "        num_comments = int(comments_bs[0].contents[0])\n",
    "\n",
    "    if(len(contributions_bs) == 0):\n",
    "        num_contributions = 0\n",
    "    else:\n",
    "        num_contributions = int(contributions_bs[0].contents[0])\n",
    "    \n",
    "    # Calculate num_rewards, min_price, max_price, and backers each price\n",
    "    rewards = bs.findAll('div','marger__StyledMarger-sc-1qqifp5-0 kXGmDY')\n",
    "    prices = []\n",
    "    backers = []\n",
    "    for j in range(len(rewards)):\n",
    "        rj = rewards[j]\n",
    "        price_j = rj.findAll('h2', 'title__StyledTitle-sc-46lshq-0 edmigd k-RewardCard__title k-u-margin-bottom-double k-u-margin-top-none')\n",
    "        if(len(price_j) == 0):\n",
    "            break\n",
    "        price_j = float(price_j[0].contents[0].replace('€','').replace(',',''))\n",
    "        prices.append(price_j)\n",
    "        backers_j = rj.findAll('span', 'text__StyledText-sc-1jqe2sw-0 kKHxol k-u-color-font1 k-u-size-micro k-u-weight-regular k-RewardCard__infos k-RewardCard__infos--hasBottomMargin k-RewardCard__infos--disabled')\n",
    "        bj = 0\n",
    "        if(len(backers_j) != 0 and backers_j[0].contents[0].replace(' ','').isnumeric()):\n",
    "            bj = int(backers_j[0].contents[0])\n",
    "        backers.append(bj)\n",
    "    prices_np = np.array(prices)\n",
    "    backers_np = np.array(backers)\n",
    "    min_price = np.min(prices_np)\n",
    "    max_price = np.max(prices_np)\n",
    "    num_rewards = len(prices_np)\n",
    "    #print(backers_np)\n",
    "    \n",
    "    # Calculate num_creator_projects\n",
    "    url_owner = bs.findAll('a', 'owner-info__StyledOwnerGrid-tqxc8c-0 jnrkmW')[0].get('href')\n",
    "    driver_owner = webdriver.Chrome(chrome_path)\n",
    "    driver_owner.get('https://www.kisskissbankbank.com'+ url_owner)\n",
    "    time.sleep(5)\n",
    "    cookie_question_owner = driver_owner.find_element_by_xpath('//*[@id=\"Header-react-component\"]/div[1]/div/div/div/div/button[2]')\n",
    "    cookie_question_owner.click()\n",
    "    html_owner = driver_owner.page_source\n",
    "    bs_owner = BeautifulSoup(html_owner, 'html.parser')\n",
    "    num_creator_projects = int(bs_owner.findAll('span', 'k-Badge k-HorizontalNav__badge')[0].contents[0])\n",
    "    #print(num_creator_projects)\n",
    "    \n",
    "    driver_owner.quit()\n",
    "    driver.quit()\n",
    "    return num_news, num_comments, num_contributions, num_rewards, min_price, max_price, prices_np, backers_np, num_creator_projects"
   ]
  },
  {
   "cell_type": "code",
   "execution_count": 110,
   "metadata": {},
   "outputs": [],
   "source": [
    "# Function to collect all features\n",
    "def collect_data(start = 1, end = 2, category = 'music'):\n",
    "    samples = []\n",
    "    reward_prices = []\n",
    "    count = (start - 1)*9\n",
    "    for i in tqdm(range(start,end)):\n",
    "        url_i = create_url(i,category)\n",
    "        #print(url_i)\n",
    "        #bs_i, ok = get_page(url_i)\n",
    "        # Load the website by driver\n",
    "        chrome_path = './chromedriver.exe'\n",
    "        driver_i = webdriver.Chrome(chrome_path)\n",
    "        driver_i.get(url_i)\n",
    "        time.sleep(5)\n",
    "\n",
    "        # Accept the cookie\n",
    "        cookie_question_i = driver_i.find_element_by_xpath(\"//*[@id=\\\"App-react-component\\\"]/div[1]/div/div/div/div/button[2]\")\n",
    "        cookie_question_i.click()\n",
    "\n",
    "        # Load the html page\n",
    "        html_i = driver_i.page_source\n",
    "        bs_i = BeautifulSoup(html_i, 'html.parser')\n",
    "        \n",
    "        projects = bs_i.findAll('a', 'styles__StyledCrowdfundingCard-sc-1dxuhb7-0 dOcwdr k-CrowdfundingCard k-Card k-Card--light k-Card--withoutBoxShadowOnHover k-CrowdfundingCard--titlesMinHeight')\n",
    "        for p in tqdm(projects):\n",
    "            # Extract is_successful\n",
    "            is_successful = p.findAll('span','state-badge__StyledState-sc-1ixvpgd-0 efdutF')[0].contents[1]\n",
    "\n",
    "            # Extract percentage_fund\n",
    "            percentage_fund = p.findAll('span', 'text__StyledText-sc-1jqe2sw-0 kKHxol k-u-color-font1 k-u-size-micro k-u-weight-regular k-CrowdfundingCard__progressBar__percent k-u-hidden@s-down')[0].contents[0]\n",
    "\n",
    "            # Extract funded, target, in_2020, backers\n",
    "            infos = p.findAll('div', 'k-CrowdfundingCard__informations__infoContainer')\n",
    "            funded = infos[2].findAll('strong', 'text__StyledText-sc-1jqe2sw-0 kKHxol k-u-weight-regular info__StyledText-h7ofxb-0 jfWZBp')[0].contents[0]\n",
    "            target = infos[2].findAll('span', 'k-u-hidden@s-down')[0].contents[0]\n",
    "            in_2020 = infos[1].findAll('strong', 'text__StyledText-sc-1jqe2sw-0 kKHxol k-u-weight-regular info__StyledText-h7ofxb-0 jfWZBp')[0].contents[0]\n",
    "            backers = p.findAll('strong', 'text__StyledText-sc-1jqe2sw-0 kKHxol k-u-weight-regular info__StyledText-h7ofxb-0 jfWZBp')[0].contents[0]\n",
    "\n",
    "            # Extract category\n",
    "\n",
    "            # Extract thumbnail type\n",
    "            img = p.findAll('div','k-CrowdfundingCard__image__imageContainer')[0]\n",
    "            thumbnail_type = img.find('img').get('src').split('.')[-1]\n",
    "\n",
    "            # Extract remaining features\n",
    "            url_pro = p.get('href')\n",
    "            num_news, num_comments, num_contributions, num_rewards, min_price, max_price, prices_np, backers_np, num_creator_projects = go_to_project(url_pro)\n",
    "\n",
    "            print(num_news, num_comments, num_contributions,num_rewards, min_price, max_price)\n",
    "            #print(backers_np)\n",
    "            #print(prices_np)\n",
    "            #print(num_creator_projects)\n",
    "            #print('----------------------------------')\n",
    "            sample_i = [\n",
    "                count,\n",
    "                is_successful,\n",
    "                percentage_fund,\n",
    "                funded,\n",
    "                target,\n",
    "                in_2020,\n",
    "                backers,\n",
    "                category,\n",
    "                thumbnail_type,\n",
    "                num_rewards,\n",
    "                min_price,\n",
    "                max_price,\n",
    "                num_news,\n",
    "                num_comments,\n",
    "                num_contributions,\n",
    "                num_creator_projects\n",
    "            ]\n",
    "            for j in range(len(prices_np)):\n",
    "                rp = [count, category, prices_np[j], backers_np[j]]\n",
    "                reward_prices.append(rp)\n",
    "            samples.append(sample_i)\n",
    "            count += 1\n",
    "            time.sleep(random.random()*2)\n",
    "        driver_i.quit()\n",
    "        time.sleep(random.random()*5)\n",
    "    return samples, reward_prices\n"
   ]
  },
  {
   "cell_type": "markdown",
   "metadata": {},
   "source": [
    "### Tests"
   ]
  },
  {
   "cell_type": "code",
   "execution_count": 72,
   "metadata": {},
   "outputs": [
    {
     "data": {
      "text/plain": [
       "('https://www.kisskissbankbank.com/en/discover?project[successful]=on&categories[music]=on&page=2',\n",
       " True)"
      ]
     },
     "execution_count": 72,
     "metadata": {},
     "output_type": "execute_result"
    }
   ],
   "source": [
    "url = create_url(2,'music')\n",
    "bs, ok = get_page(url)\n",
    "url, ok"
   ]
  },
  {
   "cell_type": "code",
   "execution_count": 11,
   "metadata": {},
   "outputs": [
    {
     "data": {
      "text/plain": [
       "5679"
      ]
     },
     "execution_count": 11,
     "metadata": {},
     "output_type": "execute_result"
    }
   ],
   "source": [
    "get_num_of_projects(bs)"
   ]
  },
  {
   "cell_type": "code",
   "execution_count": 12,
   "metadata": {},
   "outputs": [
    {
     "data": {
      "text/plain": [
       "632"
      ]
     },
     "execution_count": 12,
     "metadata": {},
     "output_type": "execute_result"
    }
   ],
   "source": [
    "num_pages = get_num_of_pages(bs)\n",
    "num_pages"
   ]
  },
  {
   "cell_type": "code",
   "execution_count": null,
   "metadata": {},
   "outputs": [],
   "source": []
  },
  {
   "cell_type": "markdown",
   "metadata": {},
   "source": [
    "### Main"
   ]
  },
  {
   "cell_type": "code",
   "execution_count": 60,
   "metadata": {},
   "outputs": [],
   "source": [
    "features_data = [\n",
    "    'id',\n",
    "    'is_successful',\n",
    "    'percentage_fund',\n",
    "    'funded',\n",
    "    'target',\n",
    "    'in_2020',\n",
    "    'backers',\n",
    "    'category',\n",
    "    'thumbnail_type',\n",
    "    'num_rewards',\n",
    "    'min_price',\n",
    "    'max_price',\n",
    "    'num_news',\n",
    "    'num_comments',\n",
    "    'num_contributions',\n",
    "    'num_creator_projects'\n",
    "]\n",
    "features_rewards = [\n",
    "    'id',\n",
    "    'category',\n",
    "    'price',\n",
    "    'backers'\n",
    "]"
   ]
  },
  {
   "cell_type": "code",
   "execution_count": 111,
   "metadata": {
    "scrolled": false
   },
   "outputs": [
    {
     "name": "stderr",
     "output_type": "stream",
     "text": [
      "  0%|          | 0/15 [00:00<?, ?it/s]\n",
      "  0%|          | 0/9 [00:00<?, ?it/s]\u001b[A"
     ]
    },
    {
     "name": "stdout",
     "output_type": "stream",
     "text": [
      "1 31 97 12 2.0 5000.0\n"
     ]
    },
    {
     "name": "stderr",
     "output_type": "stream",
     "text": [
      "\n",
      " 11%|█         | 1/9 [00:44<05:52, 44.12s/it]\u001b[A"
     ]
    },
    {
     "name": "stdout",
     "output_type": "stream",
     "text": [
      "2 23 86 4 30.0 200.0\n"
     ]
    },
    {
     "name": "stderr",
     "output_type": "stream",
     "text": [
      "\n",
      " 22%|██▏       | 2/9 [01:20<04:53, 41.94s/it]\u001b[A"
     ]
    },
    {
     "name": "stdout",
     "output_type": "stream",
     "text": [
      "0 25 126 9 6.0 800.0\n"
     ]
    },
    {
     "name": "stderr",
     "output_type": "stream",
     "text": [
      "\n",
      " 33%|███▎      | 3/9 [01:58<04:02, 40.47s/it]\u001b[A"
     ]
    },
    {
     "name": "stdout",
     "output_type": "stream",
     "text": [
      "0 14 79 7 5.0 200.0\n"
     ]
    },
    {
     "name": "stderr",
     "output_type": "stream",
     "text": [
      "\n",
      " 44%|████▍     | 4/9 [02:34<03:16, 39.29s/it]\u001b[A"
     ]
    },
    {
     "name": "stdout",
     "output_type": "stream",
     "text": [
      "2 26 86 12 20.0 1750.0\n"
     ]
    },
    {
     "name": "stderr",
     "output_type": "stream",
     "text": [
      "\n",
      " 56%|█████▌    | 5/9 [03:11<02:34, 38.62s/it]\u001b[A"
     ]
    },
    {
     "name": "stdout",
     "output_type": "stream",
     "text": [
      "2 18 89 10 10.0 800.0\n"
     ]
    },
    {
     "name": "stderr",
     "output_type": "stream",
     "text": [
      "\n",
      " 67%|██████▋   | 6/9 [03:50<01:56, 38.77s/it]\u001b[A"
     ]
    },
    {
     "name": "stdout",
     "output_type": "stream",
     "text": [
      "0 18 97 8 15.0 1000.0\n"
     ]
    },
    {
     "name": "stderr",
     "output_type": "stream",
     "text": [
      "\n",
      " 78%|███████▊  | 7/9 [04:29<01:17, 38.69s/it]\u001b[A"
     ]
    },
    {
     "name": "stdout",
     "output_type": "stream",
     "text": [
      "13 52 153 13 1.0 1000.0\n"
     ]
    },
    {
     "name": "stderr",
     "output_type": "stream",
     "text": [
      "\n",
      " 89%|████████▉ | 8/9 [05:06<00:38, 38.11s/it]\u001b[A\n",
      "100%|██████████| 9/9 [05:41<00:00, 37.89s/it]\u001b[A"
     ]
    },
    {
     "name": "stdout",
     "output_type": "stream",
     "text": [
      "0 43 174 5 20.0 500.0\n"
     ]
    },
    {
     "name": "stderr",
     "output_type": "stream",
     "text": [
      "\n",
      "  7%|▋         | 1/15 [06:00<1:24:07, 360.52s/it]\n",
      "  0%|          | 0/9 [00:00<?, ?it/s]\u001b[A"
     ]
    },
    {
     "name": "stdout",
     "output_type": "stream",
     "text": [
      "0 39 209 9 5.0 80.0\n"
     ]
    },
    {
     "name": "stderr",
     "output_type": "stream",
     "text": [
      "\n",
      " 11%|█         | 1/9 [00:39<05:16, 39.52s/it]\u001b[A"
     ]
    },
    {
     "name": "stdout",
     "output_type": "stream",
     "text": [
      "4 33 65 5 20.0 800.0\n"
     ]
    },
    {
     "name": "stderr",
     "output_type": "stream",
     "text": [
      "\n",
      " 22%|██▏       | 2/9 [01:17<04:33, 39.06s/it]\u001b[A"
     ]
    },
    {
     "name": "stdout",
     "output_type": "stream",
     "text": [
      "1 32 105 9 20.0 1000.0\n"
     ]
    },
    {
     "name": "stderr",
     "output_type": "stream",
     "text": [
      "\n",
      " 33%|███▎      | 3/9 [01:53<03:48, 38.14s/it]\u001b[A"
     ]
    },
    {
     "name": "stdout",
     "output_type": "stream",
     "text": [
      "4 23 104 5 15.0 180.0\n"
     ]
    },
    {
     "name": "stderr",
     "output_type": "stream",
     "text": [
      "\n",
      " 44%|████▍     | 4/9 [02:30<03:09, 37.83s/it]\u001b[A"
     ]
    },
    {
     "name": "stdout",
     "output_type": "stream",
     "text": [
      "2 25 118 8 20.0 3000.0\n"
     ]
    },
    {
     "name": "stderr",
     "output_type": "stream",
     "text": [
      "\n",
      " 56%|█████▌    | 5/9 [03:09<02:33, 38.28s/it]\u001b[A"
     ]
    },
    {
     "name": "stdout",
     "output_type": "stream",
     "text": [
      "2 10 103 3 20.0 60.0\n"
     ]
    },
    {
     "name": "stderr",
     "output_type": "stream",
     "text": [
      "\n",
      " 67%|██████▋   | 6/9 [03:44<01:51, 37.25s/it]\u001b[A"
     ]
    },
    {
     "name": "stdout",
     "output_type": "stream",
     "text": [
      "3 13 124 7 5.0 100.0\n"
     ]
    },
    {
     "name": "stderr",
     "output_type": "stream",
     "text": [
      "\n",
      " 78%|███████▊  | 7/9 [04:36<01:23, 41.65s/it]\u001b[A"
     ]
    },
    {
     "name": "stdout",
     "output_type": "stream",
     "text": [
      "0 12 81 9 12.0 1500.0\n"
     ]
    },
    {
     "name": "stderr",
     "output_type": "stream",
     "text": [
      "\n",
      " 89%|████████▉ | 8/9 [05:13<00:40, 40.28s/it]\u001b[A"
     ]
    },
    {
     "name": "stdout",
     "output_type": "stream",
     "text": [
      "0 20 103 3 15.0 40.0\n"
     ]
    },
    {
     "name": "stderr",
     "output_type": "stream",
     "text": [
      "\n",
      "100%|██████████| 9/9 [05:50<00:00, 38.93s/it]\u001b[A\n",
      " 13%|█▎        | 2/15 [12:19<1:19:18, 366.07s/it]\n",
      "  0%|          | 0/9 [00:00<?, ?it/s]\u001b[A"
     ]
    },
    {
     "name": "stdout",
     "output_type": "stream",
     "text": [
      "1 5 24 6 10.0 300.0\n"
     ]
    },
    {
     "name": "stderr",
     "output_type": "stream",
     "text": [
      "\n",
      " 11%|█         | 1/9 [00:36<04:52, 36.54s/it]\u001b[A"
     ]
    },
    {
     "name": "stdout",
     "output_type": "stream",
     "text": [
      "8 6 72 9 5.0 1000.0\n"
     ]
    },
    {
     "name": "stderr",
     "output_type": "stream",
     "text": [
      "\n",
      " 22%|██▏       | 2/9 [01:13<04:17, 36.74s/it]\u001b[A"
     ]
    },
    {
     "name": "stdout",
     "output_type": "stream",
     "text": [
      "2 7 53 10 5.0 1250.0\n"
     ]
    },
    {
     "name": "stderr",
     "output_type": "stream",
     "text": [
      "\n",
      " 33%|███▎      | 3/9 [01:49<03:39, 36.54s/it]\u001b[A"
     ]
    },
    {
     "name": "stdout",
     "output_type": "stream",
     "text": [
      "0 11 92 9 10.0 500.0\n"
     ]
    },
    {
     "name": "stderr",
     "output_type": "stream",
     "text": [
      "\n",
      " 44%|████▍     | 4/9 [02:26<03:03, 36.73s/it]\u001b[A"
     ]
    },
    {
     "name": "stdout",
     "output_type": "stream",
     "text": [
      "10 22 92 18 12.0 2000.0\n"
     ]
    },
    {
     "name": "stderr",
     "output_type": "stream",
     "text": [
      "\n",
      " 56%|█████▌    | 5/9 [03:08<02:32, 38.10s/it]\u001b[A"
     ]
    },
    {
     "name": "stdout",
     "output_type": "stream",
     "text": [
      "1 10 80 9 10.0 1000.0\n"
     ]
    },
    {
     "name": "stderr",
     "output_type": "stream",
     "text": [
      "\n",
      " 67%|██████▋   | 6/9 [03:44<01:52, 37.49s/it]\u001b[A"
     ]
    },
    {
     "name": "stdout",
     "output_type": "stream",
     "text": [
      "6 8 41 6 20.0 500.0\n"
     ]
    },
    {
     "name": "stderr",
     "output_type": "stream",
     "text": [
      "\n",
      " 78%|███████▊  | 7/9 [04:21<01:14, 37.39s/it]\u001b[A"
     ]
    },
    {
     "name": "stdout",
     "output_type": "stream",
     "text": [
      "1 15 104 9 5.0 600.0\n"
     ]
    },
    {
     "name": "stderr",
     "output_type": "stream",
     "text": [
      "\n",
      " 89%|████████▉ | 8/9 [04:57<00:37, 37.02s/it]\u001b[A"
     ]
    },
    {
     "name": "stdout",
     "output_type": "stream",
     "text": [
      "2 10 93 9 5.0 1000.0\n"
     ]
    },
    {
     "name": "stderr",
     "output_type": "stream",
     "text": [
      "\n",
      "100%|██████████| 9/9 [05:35<00:00, 37.24s/it]\u001b[A\n",
      " 20%|██        | 3/15 [18:12<1:12:27, 362.27s/it]\n",
      "  0%|          | 0/9 [00:00<?, ?it/s]\u001b[A"
     ]
    },
    {
     "name": "stdout",
     "output_type": "stream",
     "text": [
      "0 18 133 8 15.0 600.0\n"
     ]
    },
    {
     "name": "stderr",
     "output_type": "stream",
     "text": [
      "\n",
      " 11%|█         | 1/9 [00:37<05:01, 37.65s/it]\u001b[A"
     ]
    },
    {
     "name": "stdout",
     "output_type": "stream",
     "text": [
      "2 20 87 4 10.0 120.0\n"
     ]
    },
    {
     "name": "stderr",
     "output_type": "stream",
     "text": [
      "\n",
      " 22%|██▏       | 2/9 [01:14<04:20, 37.26s/it]\u001b[A"
     ]
    },
    {
     "name": "stdout",
     "output_type": "stream",
     "text": [
      "0 3 18 9 5.0 600.0\n"
     ]
    },
    {
     "name": "stderr",
     "output_type": "stream",
     "text": [
      "\n",
      " 33%|███▎      | 3/9 [01:51<03:43, 37.22s/it]\u001b[A"
     ]
    },
    {
     "name": "stdout",
     "output_type": "stream",
     "text": [
      "2 46 169 12 20.0 800.0\n"
     ]
    },
    {
     "name": "stderr",
     "output_type": "stream",
     "text": [
      "\n",
      " 44%|████▍     | 4/9 [02:29<03:07, 37.42s/it]\u001b[A"
     ]
    },
    {
     "name": "stdout",
     "output_type": "stream",
     "text": [
      "7 8 39 10 5.0 550.0\n"
     ]
    },
    {
     "name": "stderr",
     "output_type": "stream",
     "text": [
      "\n",
      " 56%|█████▌    | 5/9 [03:05<02:29, 37.27s/it]\u001b[A"
     ]
    },
    {
     "name": "stdout",
     "output_type": "stream",
     "text": [
      "4 41 560 11 10.0 450.0\n"
     ]
    },
    {
     "name": "stderr",
     "output_type": "stream",
     "text": [
      "\n",
      " 67%|██████▋   | 6/9 [03:42<01:51, 37.10s/it]\u001b[A"
     ]
    },
    {
     "name": "stdout",
     "output_type": "stream",
     "text": [
      "0 19 100 14 5.0 500.0\n"
     ]
    },
    {
     "name": "stderr",
     "output_type": "stream",
     "text": [
      "\n",
      " 78%|███████▊  | 7/9 [04:21<01:15, 37.58s/it]\u001b[A"
     ]
    },
    {
     "name": "stdout",
     "output_type": "stream",
     "text": [
      "1 11 32 5 5.0 600.0\n"
     ]
    },
    {
     "name": "stderr",
     "output_type": "stream",
     "text": [
      "\n",
      " 89%|████████▉ | 8/9 [04:58<00:37, 37.39s/it]\u001b[A"
     ]
    },
    {
     "name": "stdout",
     "output_type": "stream",
     "text": [
      "3 2 34 5 1.0 100.0\n"
     ]
    },
    {
     "name": "stderr",
     "output_type": "stream",
     "text": [
      "\n",
      "100%|██████████| 9/9 [05:34<00:00, 37.20s/it]\u001b[A\n",
      " 27%|██▋       | 4/15 [24:06<1:05:55, 359.61s/it]\n",
      "  0%|          | 0/9 [00:00<?, ?it/s]\u001b[A"
     ]
    },
    {
     "name": "stdout",
     "output_type": "stream",
     "text": [
      "2 4 38 6 10.0 250.0\n"
     ]
    },
    {
     "name": "stderr",
     "output_type": "stream",
     "text": [
      "\n",
      " 11%|█         | 1/9 [00:38<05:11, 38.96s/it]\u001b[A"
     ]
    },
    {
     "name": "stdout",
     "output_type": "stream",
     "text": [
      "0 11 63 7 5.0 500.0\n"
     ]
    },
    {
     "name": "stderr",
     "output_type": "stream",
     "text": [
      "\n",
      " 22%|██▏       | 2/9 [01:16<04:28, 38.39s/it]\u001b[A"
     ]
    },
    {
     "name": "stdout",
     "output_type": "stream",
     "text": [
      "6 12 79 5 10.0 100.0\n"
     ]
    },
    {
     "name": "stderr",
     "output_type": "stream",
     "text": [
      "\n",
      " 33%|███▎      | 3/9 [01:52<03:47, 37.94s/it]\u001b[A"
     ]
    },
    {
     "name": "stdout",
     "output_type": "stream",
     "text": [
      "2 11 87 10 10.0 600.0\n"
     ]
    },
    {
     "name": "stderr",
     "output_type": "stream",
     "text": [
      "\n",
      " 44%|████▍     | 4/9 [02:29<03:08, 37.63s/it]\u001b[A"
     ]
    },
    {
     "name": "stdout",
     "output_type": "stream",
     "text": [
      "0 2 41 11 10.0 10000.0\n"
     ]
    },
    {
     "name": "stderr",
     "output_type": "stream",
     "text": [
      "\n",
      " 56%|█████▌    | 5/9 [03:07<02:30, 37.61s/it]\u001b[A"
     ]
    },
    {
     "name": "stdout",
     "output_type": "stream",
     "text": [
      "23 15 110 10 5.0 250.0\n"
     ]
    },
    {
     "name": "stderr",
     "output_type": "stream",
     "text": [
      "\n",
      " 67%|██████▋   | 6/9 [03:43<01:51, 37.12s/it]\u001b[A"
     ]
    },
    {
     "name": "stdout",
     "output_type": "stream",
     "text": [
      "7 15 83 5 10.0 200.0\n"
     ]
    },
    {
     "name": "stderr",
     "output_type": "stream",
     "text": [
      "\n",
      " 78%|███████▊  | 7/9 [04:19<01:13, 36.85s/it]\u001b[A\n"
     ]
    },
    {
     "name": "stdout",
     "output_type": "stream",
     "text": [
      "2 54 243 7 5.0 150.0\n"
     ]
    },
    {
     "name": "stderr",
     "output_type": "stream",
     "text": [
      " 89%|████████▉ | 8/9 [04:54<00:36, 36.37s/it]\u001b[A"
     ]
    },
    {
     "name": "stdout",
     "output_type": "stream",
     "text": [
      "0 40 238 13 5.0 650.0\n"
     ]
    },
    {
     "name": "stderr",
     "output_type": "stream",
     "text": [
      "\n",
      "100%|██████████| 9/9 [05:32<00:00, 36.91s/it]\u001b[A\n",
      " 33%|███▎      | 5/15 [30:05<59:54, 359.48s/it]  \n",
      "  0%|          | 0/9 [00:00<?, ?it/s]\u001b[A"
     ]
    },
    {
     "name": "stdout",
     "output_type": "stream",
     "text": [
      "9 12 90 15 5.0 750.0\n"
     ]
    },
    {
     "name": "stderr",
     "output_type": "stream",
     "text": [
      "\n",
      " 11%|█         | 1/9 [00:38<05:04, 38.06s/it]\u001b[A"
     ]
    },
    {
     "name": "stdout",
     "output_type": "stream",
     "text": [
      "11 47 213 5 15.0 100.0\n"
     ]
    },
    {
     "name": "stderr",
     "output_type": "stream",
     "text": [
      "\n",
      " 22%|██▏       | 2/9 [01:15<04:24, 37.74s/it]\u001b[A"
     ]
    },
    {
     "name": "stdout",
     "output_type": "stream",
     "text": [
      "1 19 106 8 8.0 80.0\n"
     ]
    },
    {
     "name": "stderr",
     "output_type": "stream",
     "text": [
      "\n",
      " 33%|███▎      | 3/9 [01:52<03:46, 37.71s/it]\u001b[A"
     ]
    },
    {
     "name": "stdout",
     "output_type": "stream",
     "text": [
      "4 24 186 11 9.0 1200.0\n"
     ]
    },
    {
     "name": "stderr",
     "output_type": "stream",
     "text": [
      "\n",
      " 44%|████▍     | 4/9 [02:29<03:07, 37.41s/it]\u001b[A"
     ]
    },
    {
     "name": "stdout",
     "output_type": "stream",
     "text": [
      "23 41 398 36 12.0 5000.0\n"
     ]
    },
    {
     "name": "stderr",
     "output_type": "stream",
     "text": [
      "\n",
      " 56%|█████▌    | 5/9 [03:07<02:30, 37.70s/it]\u001b[A"
     ]
    },
    {
     "name": "stdout",
     "output_type": "stream",
     "text": [
      "6 20 109 7 7.0 300.0\n"
     ]
    },
    {
     "name": "stderr",
     "output_type": "stream",
     "text": [
      "\n",
      " 67%|██████▋   | 6/9 [03:43<01:51, 37.12s/it]\u001b[A"
     ]
    },
    {
     "name": "stdout",
     "output_type": "stream",
     "text": [
      "3 35 178 7 15.0 1000.0\n"
     ]
    },
    {
     "name": "stderr",
     "output_type": "stream",
     "text": [
      "\n",
      " 78%|███████▊  | 7/9 [04:20<01:14, 37.21s/it]\u001b[A"
     ]
    },
    {
     "name": "stdout",
     "output_type": "stream",
     "text": [
      "2 21 73 9 10.0 1000.0\n"
     ]
    },
    {
     "name": "stderr",
     "output_type": "stream",
     "text": [
      "\n",
      " 89%|████████▉ | 8/9 [04:57<00:36, 36.96s/it]\u001b[A"
     ]
    },
    {
     "name": "stdout",
     "output_type": "stream",
     "text": [
      "0 32 116 8 10.0 1000.0\n"
     ]
    },
    {
     "name": "stderr",
     "output_type": "stream",
     "text": [
      "\n",
      "100%|██████████| 9/9 [05:34<00:00, 37.20s/it]\u001b[A\n",
      " 40%|████      | 6/15 [36:00<53:42, 358.02s/it]\n",
      "  0%|          | 0/9 [00:00<?, ?it/s]\u001b[A\n",
      " 11%|█         | 1/9 [00:35<04:43, 35.45s/it]\u001b[A"
     ]
    },
    {
     "name": "stdout",
     "output_type": "stream",
     "text": [
      "2 17 121 6 10.0 500.0\n",
      "0 7 61 7 5.0 1000.0\n"
     ]
    },
    {
     "name": "stderr",
     "output_type": "stream",
     "text": [
      "\n",
      " 22%|██▏       | 2/9 [01:13<04:13, 36.18s/it]\u001b[A"
     ]
    },
    {
     "name": "stdout",
     "output_type": "stream",
     "text": [
      "0 22 76 6 15.0 200.0\n"
     ]
    },
    {
     "name": "stderr",
     "output_type": "stream",
     "text": [
      "\n",
      " 33%|███▎      | 3/9 [01:48<03:35, 35.92s/it]\u001b[A"
     ]
    },
    {
     "name": "stdout",
     "output_type": "stream",
     "text": [
      "0 21 157 7 10.0 3000.0\n"
     ]
    },
    {
     "name": "stderr",
     "output_type": "stream",
     "text": [
      "\n",
      " 44%|████▍     | 4/9 [02:25<03:00, 36.15s/it]\u001b[A"
     ]
    },
    {
     "name": "stdout",
     "output_type": "stream",
     "text": [
      "2 22 161 18 5.0 15000.0\n"
     ]
    },
    {
     "name": "stderr",
     "output_type": "stream",
     "text": [
      "\n",
      " 56%|█████▌    | 5/9 [03:03<02:27, 36.76s/it]\u001b[A"
     ]
    },
    {
     "name": "stdout",
     "output_type": "stream",
     "text": [
      "0 12 72 5 5.0 140.0\n"
     ]
    },
    {
     "name": "stderr",
     "output_type": "stream",
     "text": [
      "\n",
      " 67%|██████▋   | 6/9 [03:40<01:50, 36.68s/it]\u001b[A\n",
      " 78%|███████▊  | 7/9 [04:16<01:12, 36.47s/it]\u001b[A"
     ]
    },
    {
     "name": "stdout",
     "output_type": "stream",
     "text": [
      "0 21 67 6 10.0 1000.0\n",
      "0 32 158 5 20.0 1000.0\n"
     ]
    },
    {
     "name": "stderr",
     "output_type": "stream",
     "text": [
      "\n",
      " 89%|████████▉ | 8/9 [05:04<00:39, 39.93s/it]\u001b[A"
     ]
    },
    {
     "name": "stdout",
     "output_type": "stream",
     "text": [
      "0 21 99 6 2.0 100.0\n"
     ]
    },
    {
     "name": "stderr",
     "output_type": "stream",
     "text": [
      "\n",
      "100%|██████████| 9/9 [05:40<00:00, 37.86s/it]\u001b[A\n",
      " 47%|████▋     | 7/15 [42:00<47:49, 358.64s/it]\n",
      "  0%|          | 0/9 [00:00<?, ?it/s]\u001b[A"
     ]
    },
    {
     "name": "stdout",
     "output_type": "stream",
     "text": [
      "9 17 108 4 25.0 100.0\n"
     ]
    },
    {
     "name": "stderr",
     "output_type": "stream",
     "text": [
      "\n",
      " 11%|█         | 1/9 [00:37<04:56, 37.11s/it]\u001b[A"
     ]
    },
    {
     "name": "stdout",
     "output_type": "stream",
     "text": [
      "7 6 50 9 10.0 400.0\n"
     ]
    },
    {
     "name": "stderr",
     "output_type": "stream",
     "text": [
      "\n",
      " 22%|██▏       | 2/9 [01:14<04:19, 37.13s/it]\u001b[A"
     ]
    },
    {
     "name": "stdout",
     "output_type": "stream",
     "text": [
      "0 25 140 9 5.0 850.0\n"
     ]
    },
    {
     "name": "stderr",
     "output_type": "stream",
     "text": [
      "\n",
      " 33%|███▎      | 3/9 [01:49<03:39, 36.57s/it]\u001b[A"
     ]
    },
    {
     "name": "stdout",
     "output_type": "stream",
     "text": [
      "2 13 49 7 20.0 300.0\n"
     ]
    },
    {
     "name": "stderr",
     "output_type": "stream",
     "text": [
      "\n",
      " 44%|████▍     | 4/9 [02:27<03:04, 36.90s/it]\u001b[A\n",
      " 56%|█████▌    | 5/9 [03:02<02:25, 36.44s/it]\u001b[A"
     ]
    },
    {
     "name": "stdout",
     "output_type": "stream",
     "text": [
      "0 13 80 9 10.0 160.0\n",
      "4 17 70 9 10.0 1000.0\n"
     ]
    },
    {
     "name": "stderr",
     "output_type": "stream",
     "text": [
      "\n",
      " 67%|██████▋   | 6/9 [03:40<01:50, 36.93s/it]\u001b[A"
     ]
    },
    {
     "name": "stdout",
     "output_type": "stream",
     "text": [
      "0 10 45 8 5.0 1000.0\n"
     ]
    },
    {
     "name": "stderr",
     "output_type": "stream",
     "text": [
      "\n",
      " 78%|███████▊  | 7/9 [04:18<01:14, 37.11s/it]\u001b[A"
     ]
    },
    {
     "name": "stdout",
     "output_type": "stream",
     "text": [
      "0 11 85 9 15.0 1750.0\n"
     ]
    },
    {
     "name": "stderr",
     "output_type": "stream",
     "text": [
      "\n",
      " 89%|████████▉ | 8/9 [04:53<00:36, 36.69s/it]\u001b[A"
     ]
    },
    {
     "name": "stdout",
     "output_type": "stream",
     "text": [
      "34 32 101 11 5.0 150.0\n"
     ]
    },
    {
     "name": "stderr",
     "output_type": "stream",
     "text": [
      "\n",
      "100%|██████████| 9/9 [05:30<00:00, 36.70s/it]\u001b[A\n",
      " 53%|█████▎    | 8/15 [47:49<41:31, 355.94s/it]\n",
      "  0%|          | 0/9 [00:00<?, ?it/s]\u001b[A"
     ]
    },
    {
     "name": "stdout",
     "output_type": "stream",
     "text": [
      "0 18 133 8 15.0 600.0\n"
     ]
    },
    {
     "name": "stderr",
     "output_type": "stream",
     "text": [
      "\n",
      " 11%|█         | 1/9 [00:37<05:03, 37.98s/it]\u001b[A\n",
      " 22%|██▏       | 2/9 [01:12<04:19, 37.05s/it]\u001b[A"
     ]
    },
    {
     "name": "stdout",
     "output_type": "stream",
     "text": [
      "2 20 87 4 10.0 120.0\n",
      "0 3 18 9 5.0 600.0\n"
     ]
    },
    {
     "name": "stderr",
     "output_type": "stream",
     "text": [
      "\n",
      " 33%|███▎      | 3/9 [01:49<03:41, 36.93s/it]\u001b[A"
     ]
    },
    {
     "name": "stdout",
     "output_type": "stream",
     "text": [
      "2 46 169 12 20.0 800.0\n"
     ]
    },
    {
     "name": "stderr",
     "output_type": "stream",
     "text": [
      "\n",
      " 44%|████▍     | 4/9 [02:28<03:08, 37.67s/it]\u001b[A"
     ]
    },
    {
     "name": "stdout",
     "output_type": "stream",
     "text": [
      "7 8 39 10 5.0 550.0\n"
     ]
    },
    {
     "name": "stderr",
     "output_type": "stream",
     "text": [
      "\n",
      " 56%|█████▌    | 5/9 [03:05<02:29, 37.43s/it]\u001b[A"
     ]
    },
    {
     "name": "stdout",
     "output_type": "stream",
     "text": [
      "4 41 560 11 10.0 450.0\n"
     ]
    },
    {
     "name": "stderr",
     "output_type": "stream",
     "text": [
      "\n",
      " 67%|██████▋   | 6/9 [03:44<01:53, 37.76s/it]\u001b[A"
     ]
    },
    {
     "name": "stdout",
     "output_type": "stream",
     "text": [
      "0 19 100 14 5.0 500.0\n"
     ]
    },
    {
     "name": "stderr",
     "output_type": "stream",
     "text": [
      "\n",
      " 78%|███████▊  | 7/9 [04:34<01:23, 41.57s/it]\u001b[A"
     ]
    },
    {
     "name": "stdout",
     "output_type": "stream",
     "text": [
      "1 11 32 5 5.0 600.0\n"
     ]
    },
    {
     "name": "stderr",
     "output_type": "stream",
     "text": [
      "\n",
      " 89%|████████▉ | 8/9 [05:09<00:39, 39.55s/it]\u001b[A"
     ]
    },
    {
     "name": "stdout",
     "output_type": "stream",
     "text": [
      "3 2 34 5 1.0 100.0\n"
     ]
    },
    {
     "name": "stderr",
     "output_type": "stream",
     "text": [
      "\n",
      "100%|██████████| 9/9 [05:44<00:00, 38.29s/it]\u001b[A\n",
      " 60%|██████    | 9/15 [53:52<35:47, 357.91s/it]\n",
      "  0%|          | 0/9 [00:00<?, ?it/s]\u001b[A\n",
      " 11%|█         | 1/9 [00:37<05:03, 37.98s/it]\u001b[A"
     ]
    },
    {
     "name": "stdout",
     "output_type": "stream",
     "text": [
      "0 6 82 6 10.0 150.0\n",
      "1 19 78 9 5.0 650.0\n"
     ]
    },
    {
     "name": "stderr",
     "output_type": "stream",
     "text": [
      "\n",
      " 22%|██▏       | 2/9 [01:15<04:24, 37.72s/it]\u001b[A"
     ]
    },
    {
     "name": "stdout",
     "output_type": "stream",
     "text": [
      "21 41 209 13 5.0 1800.0\n"
     ]
    },
    {
     "name": "stderr",
     "output_type": "stream",
     "text": [
      "\n",
      " 33%|███▎      | 3/9 [01:53<03:47, 37.97s/it]\u001b[A"
     ]
    },
    {
     "name": "stdout",
     "output_type": "stream",
     "text": [
      "0 12 67 6 15.0 500.0\n"
     ]
    },
    {
     "name": "stderr",
     "output_type": "stream",
     "text": [
      "\n",
      " 44%|████▍     | 4/9 [02:32<03:11, 38.36s/it]\u001b[A"
     ]
    },
    {
     "name": "stdout",
     "output_type": "stream",
     "text": [
      "4 22 93 11 5.0 2000.0\n"
     ]
    },
    {
     "name": "stderr",
     "output_type": "stream",
     "text": [
      "\n",
      " 56%|█████▌    | 5/9 [03:09<02:31, 37.96s/it]\u001b[A"
     ]
    },
    {
     "name": "stdout",
     "output_type": "stream",
     "text": [
      "0 13 163 7 5.0 100.0\n"
     ]
    },
    {
     "name": "stderr",
     "output_type": "stream",
     "text": [
      "\n",
      " 67%|██████▋   | 6/9 [03:46<01:52, 37.44s/it]\u001b[A"
     ]
    },
    {
     "name": "stdout",
     "output_type": "stream",
     "text": [
      "0 25 210 10 10.0 3000.0\n"
     ]
    },
    {
     "name": "stderr",
     "output_type": "stream",
     "text": [
      "\n",
      " 78%|███████▊  | 7/9 [04:24<01:15, 37.83s/it]\u001b[A"
     ]
    },
    {
     "name": "stdout",
     "output_type": "stream",
     "text": [
      "0 12 60 17 10.0 300.0\n"
     ]
    },
    {
     "name": "stderr",
     "output_type": "stream",
     "text": [
      "\n",
      " 89%|████████▉ | 8/9 [05:02<00:37, 37.62s/it]\u001b[A"
     ]
    },
    {
     "name": "stdout",
     "output_type": "stream",
     "text": [
      "10 33 133 11 10.0 2000.0\n"
     ]
    },
    {
     "name": "stderr",
     "output_type": "stream",
     "text": [
      "\n",
      "100%|██████████| 9/9 [05:39<00:00, 37.74s/it]\u001b[A\n",
      " 67%|██████▋   | 10/15 [59:49<29:48, 357.78s/it]\n",
      "  0%|          | 0/9 [00:00<?, ?it/s]\u001b[A\n",
      " 11%|█         | 1/9 [00:36<04:52, 36.60s/it]\u001b[A"
     ]
    },
    {
     "name": "stdout",
     "output_type": "stream",
     "text": [
      "0 18 133 8 15.0 600.0\n",
      "2 20 87 4 10.0 120.0\n"
     ]
    },
    {
     "name": "stderr",
     "output_type": "stream",
     "text": [
      "\n",
      " 22%|██▏       | 2/9 [01:13<04:16, 36.59s/it]\u001b[A"
     ]
    },
    {
     "name": "stdout",
     "output_type": "stream",
     "text": [
      "0 3 18 9 5.0 600.0\n"
     ]
    },
    {
     "name": "stderr",
     "output_type": "stream",
     "text": [
      "\n",
      " 33%|███▎      | 3/9 [01:49<03:39, 36.50s/it]\u001b[A"
     ]
    },
    {
     "name": "stdout",
     "output_type": "stream",
     "text": [
      "2 46 169 12 20.0 800.0\n"
     ]
    },
    {
     "name": "stderr",
     "output_type": "stream",
     "text": [
      "\n",
      " 44%|████▍     | 4/9 [02:25<03:01, 36.32s/it]\u001b[A"
     ]
    },
    {
     "name": "stdout",
     "output_type": "stream",
     "text": [
      "7 8 39 10 5.0 550.0\n"
     ]
    },
    {
     "name": "stderr",
     "output_type": "stream",
     "text": [
      "\n",
      " 56%|█████▌    | 5/9 [03:01<02:25, 36.27s/it]\u001b[A"
     ]
    },
    {
     "name": "stdout",
     "output_type": "stream",
     "text": [
      "4 41 560 11 10.0 450.0\n"
     ]
    },
    {
     "name": "stderr",
     "output_type": "stream",
     "text": [
      "\n",
      " 67%|██████▋   | 6/9 [03:38<01:49, 36.50s/it]\u001b[A"
     ]
    },
    {
     "name": "stdout",
     "output_type": "stream",
     "text": [
      "0 19 100 14 5.0 500.0\n"
     ]
    },
    {
     "name": "stderr",
     "output_type": "stream",
     "text": [
      "\n",
      " 78%|███████▊  | 7/9 [04:17<01:14, 37.35s/it]\u001b[A"
     ]
    },
    {
     "name": "stdout",
     "output_type": "stream",
     "text": [
      "1 11 32 5 5.0 600.0\n"
     ]
    },
    {
     "name": "stderr",
     "output_type": "stream",
     "text": [
      "\n",
      " 89%|████████▉ | 8/9 [04:55<00:37, 37.35s/it]\u001b[A"
     ]
    },
    {
     "name": "stdout",
     "output_type": "stream",
     "text": [
      "3 2 34 5 1.0 100.0\n"
     ]
    },
    {
     "name": "stderr",
     "output_type": "stream",
     "text": [
      "\n",
      "100%|██████████| 9/9 [05:31<00:00, 36.84s/it]\u001b[A\n",
      " 73%|███████▎  | 11/15 [1:05:41<23:43, 355.87s/it]\n",
      "  0%|          | 0/9 [00:00<?, ?it/s]\u001b[A"
     ]
    },
    {
     "name": "stdout",
     "output_type": "stream",
     "text": [
      "0 7 84 6 5.0 700.0\n"
     ]
    },
    {
     "name": "stderr",
     "output_type": "stream",
     "text": [
      "\n",
      " 11%|█         | 1/9 [00:36<04:48, 36.11s/it]\u001b[A"
     ]
    },
    {
     "name": "stdout",
     "output_type": "stream",
     "text": [
      "0 4 40 3 5.0 50.0\n"
     ]
    },
    {
     "name": "stderr",
     "output_type": "stream",
     "text": [
      "\n",
      " 22%|██▏       | 2/9 [01:12<04:14, 36.33s/it]\u001b[A"
     ]
    },
    {
     "name": "stdout",
     "output_type": "stream",
     "text": [
      "0 17 111 13 5.0 100.0\n"
     ]
    },
    {
     "name": "stderr",
     "output_type": "stream",
     "text": [
      "\n",
      " 33%|███▎      | 3/9 [01:50<03:40, 36.77s/it]\u001b[A\n",
      " 44%|████▍     | 4/9 [02:31<03:09, 37.99s/it]\u001b[A"
     ]
    },
    {
     "name": "stdout",
     "output_type": "stream",
     "text": [
      "11 21 131 13 5.0 400.0\n"
     ]
    },
    {
     "name": "stderr",
     "output_type": "stream",
     "text": [
      "\n",
      " 56%|█████▌    | 5/9 [03:07<02:29, 37.33s/it]\u001b[A"
     ]
    },
    {
     "name": "stdout",
     "output_type": "stream",
     "text": [
      "13 5 63 8 5.0 1450.0\n",
      "2 16 123 17 5.0 1000.0\n"
     ]
    },
    {
     "name": "stderr",
     "output_type": "stream",
     "text": [
      "\n",
      " 67%|██████▋   | 6/9 [03:43<01:50, 36.88s/it]\u001b[A"
     ]
    },
    {
     "name": "stdout",
     "output_type": "stream",
     "text": [
      "0 8 65 17 15.0 3000.0\n"
     ]
    },
    {
     "name": "stderr",
     "output_type": "stream",
     "text": [
      "\n",
      " 78%|███████▊  | 7/9 [04:22<01:14, 37.47s/it]\u001b[A"
     ]
    },
    {
     "name": "stdout",
     "output_type": "stream",
     "text": [
      "4 17 150 7 10.0 600.0\n"
     ]
    },
    {
     "name": "stderr",
     "output_type": "stream",
     "text": [
      "\n",
      " 89%|████████▉ | 8/9 [04:58<00:37, 37.12s/it]\u001b[A"
     ]
    },
    {
     "name": "stdout",
     "output_type": "stream",
     "text": [
      "1 11 86 11 5.0 1200.0\n"
     ]
    },
    {
     "name": "stderr",
     "output_type": "stream",
     "text": [
      "\n",
      "100%|██████████| 9/9 [05:36<00:00, 37.39s/it]\u001b[A\n",
      " 80%|████████  | 12/15 [1:11:37<17:48, 356.05s/it]\n",
      "  0%|          | 0/9 [00:00<?, ?it/s]\u001b[A"
     ]
    },
    {
     "name": "stdout",
     "output_type": "stream",
     "text": [
      "4 17 150 7 10.0 600.0\n"
     ]
    },
    {
     "name": "stderr",
     "output_type": "stream",
     "text": [
      "\n",
      " 11%|█         | 1/9 [00:37<04:58, 37.27s/it]\u001b[A"
     ]
    },
    {
     "name": "stdout",
     "output_type": "stream",
     "text": [
      "1 11 86 11 5.0 1200.0\n"
     ]
    },
    {
     "name": "stderr",
     "output_type": "stream",
     "text": [
      "\n",
      " 22%|██▏       | 2/9 [01:13<04:19, 37.04s/it]\u001b[A"
     ]
    },
    {
     "name": "stdout",
     "output_type": "stream",
     "text": [
      "0 23 70 6 20.0 1500.0\n"
     ]
    },
    {
     "name": "stderr",
     "output_type": "stream",
     "text": [
      "\n",
      " 33%|███▎      | 3/9 [01:50<03:42, 37.03s/it]\u001b[A"
     ]
    },
    {
     "name": "stdout",
     "output_type": "stream",
     "text": [
      "0 9 79 8 10.0 1000.0\n"
     ]
    },
    {
     "name": "stderr",
     "output_type": "stream",
     "text": [
      "\n",
      " 44%|████▍     | 4/9 [02:26<03:03, 36.63s/it]\u001b[A\n",
      " 56%|█████▌    | 5/9 [03:02<02:26, 36.58s/it]\u001b[A"
     ]
    },
    {
     "name": "stdout",
     "output_type": "stream",
     "text": [
      "3 29 214 7 10.0 500.0\n",
      "0 15 96 9 7.0 300.0\n"
     ]
    },
    {
     "name": "stderr",
     "output_type": "stream",
     "text": [
      "\n",
      " 67%|██████▋   | 6/9 [03:38<01:49, 36.40s/it]\u001b[A"
     ]
    },
    {
     "name": "stdout",
     "output_type": "stream",
     "text": [
      "1 19 144 8 8.0 500.0\n"
     ]
    },
    {
     "name": "stderr",
     "output_type": "stream",
     "text": [
      "\n",
      " 78%|███████▊  | 7/9 [04:15<01:13, 36.58s/it]\u001b[A"
     ]
    },
    {
     "name": "stdout",
     "output_type": "stream",
     "text": [
      "1 21 105 7 5.0 500.0\n"
     ]
    },
    {
     "name": "stderr",
     "output_type": "stream",
     "text": [
      "\n",
      " 89%|████████▉ | 8/9 [04:53<00:37, 37.00s/it]\u001b[A"
     ]
    },
    {
     "name": "stdout",
     "output_type": "stream",
     "text": [
      "1 10 69 10 1.0 100.0\n"
     ]
    },
    {
     "name": "stderr",
     "output_type": "stream",
     "text": [
      "\n",
      "100%|██████████| 9/9 [05:51<00:00, 39.07s/it]\u001b[A\n",
      " 87%|████████▋ | 13/15 [1:17:55<12:04, 362.45s/it]\n",
      "  0%|          | 0/9 [00:00<?, ?it/s]\u001b[A"
     ]
    },
    {
     "name": "stdout",
     "output_type": "stream",
     "text": [
      "1 8 67 7 5.0 300.0\n"
     ]
    },
    {
     "name": "stderr",
     "output_type": "stream",
     "text": [
      "\n",
      " 11%|█         | 1/9 [00:37<05:00, 37.54s/it]\u001b[A"
     ]
    },
    {
     "name": "stdout",
     "output_type": "stream",
     "text": [
      "7 21 103 8 5.0 500.0\n"
     ]
    },
    {
     "name": "stderr",
     "output_type": "stream",
     "text": [
      "\n",
      " 22%|██▏       | 2/9 [01:13<04:20, 37.16s/it]\u001b[A"
     ]
    },
    {
     "name": "stdout",
     "output_type": "stream",
     "text": [
      "0 1 7 7 5.0 1000.0\n"
     ]
    },
    {
     "name": "stderr",
     "output_type": "stream",
     "text": [
      "\n",
      " 33%|███▎      | 3/9 [01:50<03:42, 37.04s/it]\u001b[A"
     ]
    },
    {
     "name": "stdout",
     "output_type": "stream",
     "text": [
      "0 13 62 12 5.0 500.0\n"
     ]
    },
    {
     "name": "stderr",
     "output_type": "stream",
     "text": [
      "\n",
      " 44%|████▍     | 4/9 [02:26<03:03, 36.74s/it]\u001b[A"
     ]
    },
    {
     "name": "stdout",
     "output_type": "stream",
     "text": [
      "0 13 103 5 18.0 100.0\n"
     ]
    },
    {
     "name": "stderr",
     "output_type": "stream",
     "text": [
      "\n",
      " 56%|█████▌    | 5/9 [03:03<02:27, 36.77s/it]\u001b[A"
     ]
    },
    {
     "name": "stdout",
     "output_type": "stream",
     "text": [
      "0 13 70 7 5.0 1000.0\n"
     ]
    },
    {
     "name": "stderr",
     "output_type": "stream",
     "text": [
      "\n",
      " 67%|██████▋   | 6/9 [03:40<01:50, 36.96s/it]\u001b[A"
     ]
    },
    {
     "name": "stdout",
     "output_type": "stream",
     "text": [
      "1 9 75 6 10.0 1000.0\n"
     ]
    },
    {
     "name": "stderr",
     "output_type": "stream",
     "text": [
      "\n",
      " 78%|███████▊  | 7/9 [04:17<01:13, 36.77s/it]\u001b[A"
     ]
    },
    {
     "name": "stdout",
     "output_type": "stream",
     "text": [
      "2 16 80 12 5.0 10000.0\n"
     ]
    },
    {
     "name": "stderr",
     "output_type": "stream",
     "text": [
      "\n",
      " 89%|████████▉ | 8/9 [04:58<00:38, 38.07s/it]\u001b[A"
     ]
    },
    {
     "name": "stdout",
     "output_type": "stream",
     "text": [
      "4 21 97 3 20.0 65.0\n"
     ]
    },
    {
     "name": "stderr",
     "output_type": "stream",
     "text": [
      "\n",
      "100%|██████████| 9/9 [05:34<00:00, 37.21s/it]\u001b[A\n",
      " 93%|█████████▎| 14/15 [1:23:51<06:00, 360.72s/it]\n",
      "  0%|          | 0/9 [00:00<?, ?it/s]\u001b[A"
     ]
    },
    {
     "name": "stdout",
     "output_type": "stream",
     "text": [
      "3 4 37 15 5.0 400.0\n"
     ]
    },
    {
     "name": "stderr",
     "output_type": "stream",
     "text": [
      "\n",
      " 11%|█         | 1/9 [00:47<06:19, 47.45s/it]\u001b[A"
     ]
    },
    {
     "name": "stdout",
     "output_type": "stream",
     "text": [
      "0 7 42 8 5.0 1000.0\n"
     ]
    },
    {
     "name": "stderr",
     "output_type": "stream",
     "text": [
      "\n",
      " 22%|██▏       | 2/9 [01:26<05:14, 44.89s/it]\u001b[A"
     ]
    },
    {
     "name": "stdout",
     "output_type": "stream",
     "text": [
      "0 28 185 7 10.0 500.0\n"
     ]
    },
    {
     "name": "stderr",
     "output_type": "stream",
     "text": [
      "\n",
      " 33%|███▎      | 3/9 [02:03<04:15, 42.51s/it]\u001b[A\n",
      " 44%|████▍     | 4/9 [02:38<03:21, 40.27s/it]\u001b[A"
     ]
    },
    {
     "name": "stdout",
     "output_type": "stream",
     "text": [
      "2 4 66 7 10.0 500.0\n",
      "0 8 93 8 10.0 500.0\n"
     ]
    },
    {
     "name": "stderr",
     "output_type": "stream",
     "text": [
      "\n",
      " 56%|█████▌    | 5/9 [03:15<02:37, 39.34s/it]\u001b[A"
     ]
    },
    {
     "name": "stdout",
     "output_type": "stream",
     "text": [
      "3 23 88 13 5.0 1000.0\n"
     ]
    },
    {
     "name": "stderr",
     "output_type": "stream",
     "text": [
      "\n",
      " 67%|██████▋   | 6/9 [03:53<01:57, 39.06s/it]\u001b[A"
     ]
    },
    {
     "name": "stdout",
     "output_type": "stream",
     "text": [
      "0 4 40 6 3.0 500.0\n"
     ]
    },
    {
     "name": "stderr",
     "output_type": "stream",
     "text": [
      "\n",
      " 78%|███████▊  | 7/9 [04:32<01:17, 38.94s/it]\u001b[A"
     ]
    },
    {
     "name": "stdout",
     "output_type": "stream",
     "text": [
      "0 5 26 12 5.0 1000.0\n"
     ]
    },
    {
     "name": "stderr",
     "output_type": "stream",
     "text": [
      "\n",
      " 89%|████████▉ | 8/9 [05:08<00:37, 37.96s/it]\u001b[A"
     ]
    },
    {
     "name": "stdout",
     "output_type": "stream",
     "text": [
      "1 18 58 6 20.0 900.0\n"
     ]
    },
    {
     "name": "stderr",
     "output_type": "stream",
     "text": [
      "\n",
      "100%|██████████| 9/9 [05:45<00:00, 38.34s/it]\u001b[A\n",
      "100%|██████████| 15/15 [1:30:03<00:00, 360.24s/it]\n"
     ]
    }
   ],
   "source": [
    "data, rewards = collect_data(10,25,'music')"
   ]
  },
  {
   "cell_type": "code",
   "execution_count": 112,
   "metadata": {},
   "outputs": [
    {
     "data": {
      "text/html": [
       "<div>\n",
       "<style scoped>\n",
       "    .dataframe tbody tr th:only-of-type {\n",
       "        vertical-align: middle;\n",
       "    }\n",
       "\n",
       "    .dataframe tbody tr th {\n",
       "        vertical-align: top;\n",
       "    }\n",
       "\n",
       "    .dataframe thead th {\n",
       "        text-align: right;\n",
       "    }\n",
       "</style>\n",
       "<table border=\"1\" class=\"dataframe\">\n",
       "  <thead>\n",
       "    <tr style=\"text-align: right;\">\n",
       "      <th></th>\n",
       "      <th>id</th>\n",
       "      <th>is_successful</th>\n",
       "      <th>percentage_fund</th>\n",
       "      <th>funded</th>\n",
       "      <th>target</th>\n",
       "      <th>in_2020</th>\n",
       "      <th>backers</th>\n",
       "      <th>category</th>\n",
       "      <th>thumbnail_type</th>\n",
       "      <th>num_rewards</th>\n",
       "      <th>min_price</th>\n",
       "      <th>max_price</th>\n",
       "      <th>num_news</th>\n",
       "      <th>num_comments</th>\n",
       "      <th>num_contributions</th>\n",
       "      <th>num_creator_projects</th>\n",
       "    </tr>\n",
       "  </thead>\n",
       "  <tbody>\n",
       "    <tr>\n",
       "      <th>0</th>\n",
       "      <td>81</td>\n",
       "      <td>successful</td>\n",
       "      <td>114 %</td>\n",
       "      <td>€5,679</td>\n",
       "      <td>Out of €5,000</td>\n",
       "      <td>8/5/2020</td>\n",
       "      <td>92</td>\n",
       "      <td>music</td>\n",
       "      <td>png</td>\n",
       "      <td>12</td>\n",
       "      <td>2.0</td>\n",
       "      <td>5000.0</td>\n",
       "      <td>1</td>\n",
       "      <td>31</td>\n",
       "      <td>97</td>\n",
       "      <td>1</td>\n",
       "    </tr>\n",
       "    <tr>\n",
       "      <th>1</th>\n",
       "      <td>82</td>\n",
       "      <td>successful</td>\n",
       "      <td>100 %</td>\n",
       "      <td>€9,000</td>\n",
       "      <td>Out of €9,000</td>\n",
       "      <td>8/4/2020</td>\n",
       "      <td>80</td>\n",
       "      <td>music</td>\n",
       "      <td>jpg</td>\n",
       "      <td>4</td>\n",
       "      <td>30.0</td>\n",
       "      <td>200.0</td>\n",
       "      <td>2</td>\n",
       "      <td>23</td>\n",
       "      <td>86</td>\n",
       "      <td>1</td>\n",
       "    </tr>\n",
       "    <tr>\n",
       "      <th>2</th>\n",
       "      <td>83</td>\n",
       "      <td>successful</td>\n",
       "      <td>125 %</td>\n",
       "      <td>€3,124</td>\n",
       "      <td>Out of €2,500</td>\n",
       "      <td>8/4/2020</td>\n",
       "      <td>124</td>\n",
       "      <td>music</td>\n",
       "      <td>jpg</td>\n",
       "      <td>9</td>\n",
       "      <td>6.0</td>\n",
       "      <td>800.0</td>\n",
       "      <td>0</td>\n",
       "      <td>25</td>\n",
       "      <td>126</td>\n",
       "      <td>1</td>\n",
       "    </tr>\n",
       "    <tr>\n",
       "      <th>3</th>\n",
       "      <td>84</td>\n",
       "      <td>successful</td>\n",
       "      <td>103 %</td>\n",
       "      <td>€4,115</td>\n",
       "      <td>Out of €4,000</td>\n",
       "      <td>8/2/2020</td>\n",
       "      <td>73</td>\n",
       "      <td>music</td>\n",
       "      <td>jpg</td>\n",
       "      <td>7</td>\n",
       "      <td>5.0</td>\n",
       "      <td>200.0</td>\n",
       "      <td>0</td>\n",
       "      <td>14</td>\n",
       "      <td>79</td>\n",
       "      <td>1</td>\n",
       "    </tr>\n",
       "    <tr>\n",
       "      <th>4</th>\n",
       "      <td>85</td>\n",
       "      <td>successful</td>\n",
       "      <td>101 %</td>\n",
       "      <td>€9,089</td>\n",
       "      <td>Out of €9,000</td>\n",
       "      <td>8/1/2020</td>\n",
       "      <td>76</td>\n",
       "      <td>music</td>\n",
       "      <td>JPG</td>\n",
       "      <td>12</td>\n",
       "      <td>20.0</td>\n",
       "      <td>1750.0</td>\n",
       "      <td>2</td>\n",
       "      <td>26</td>\n",
       "      <td>86</td>\n",
       "      <td>2</td>\n",
       "    </tr>\n",
       "    <tr>\n",
       "      <th>...</th>\n",
       "      <td>...</td>\n",
       "      <td>...</td>\n",
       "      <td>...</td>\n",
       "      <td>...</td>\n",
       "      <td>...</td>\n",
       "      <td>...</td>\n",
       "      <td>...</td>\n",
       "      <td>...</td>\n",
       "      <td>...</td>\n",
       "      <td>...</td>\n",
       "      <td>...</td>\n",
       "      <td>...</td>\n",
       "      <td>...</td>\n",
       "      <td>...</td>\n",
       "      <td>...</td>\n",
       "      <td>...</td>\n",
       "    </tr>\n",
       "    <tr>\n",
       "      <th>130</th>\n",
       "      <td>211</td>\n",
       "      <td>successful</td>\n",
       "      <td>111 %</td>\n",
       "      <td>€4,440</td>\n",
       "      <td>Out of €4,000</td>\n",
       "      <td>2/17/2020</td>\n",
       "      <td>88</td>\n",
       "      <td>music</td>\n",
       "      <td>png</td>\n",
       "      <td>8</td>\n",
       "      <td>10.0</td>\n",
       "      <td>500.0</td>\n",
       "      <td>0</td>\n",
       "      <td>8</td>\n",
       "      <td>93</td>\n",
       "      <td>5</td>\n",
       "    </tr>\n",
       "    <tr>\n",
       "      <th>131</th>\n",
       "      <td>212</td>\n",
       "      <td>successful</td>\n",
       "      <td>113 %</td>\n",
       "      <td>€4,520</td>\n",
       "      <td>Out of €4,000</td>\n",
       "      <td>2/16/2020</td>\n",
       "      <td>86</td>\n",
       "      <td>music</td>\n",
       "      <td>jpg</td>\n",
       "      <td>13</td>\n",
       "      <td>5.0</td>\n",
       "      <td>1000.0</td>\n",
       "      <td>3</td>\n",
       "      <td>23</td>\n",
       "      <td>88</td>\n",
       "      <td>1</td>\n",
       "    </tr>\n",
       "    <tr>\n",
       "      <th>132</th>\n",
       "      <td>213</td>\n",
       "      <td>successful</td>\n",
       "      <td>103 %</td>\n",
       "      <td>€3,618</td>\n",
       "      <td>Out of €3,500</td>\n",
       "      <td>2/10/2020</td>\n",
       "      <td>37</td>\n",
       "      <td>music</td>\n",
       "      <td>png</td>\n",
       "      <td>6</td>\n",
       "      <td>3.0</td>\n",
       "      <td>500.0</td>\n",
       "      <td>0</td>\n",
       "      <td>4</td>\n",
       "      <td>40</td>\n",
       "      <td>1</td>\n",
       "    </tr>\n",
       "    <tr>\n",
       "      <th>133</th>\n",
       "      <td>214</td>\n",
       "      <td>successful</td>\n",
       "      <td>100 %</td>\n",
       "      <td>€3,000</td>\n",
       "      <td>Out of €3,000</td>\n",
       "      <td>2/7/2020</td>\n",
       "      <td>20</td>\n",
       "      <td>music</td>\n",
       "      <td>png</td>\n",
       "      <td>12</td>\n",
       "      <td>5.0</td>\n",
       "      <td>1000.0</td>\n",
       "      <td>0</td>\n",
       "      <td>5</td>\n",
       "      <td>26</td>\n",
       "      <td>1</td>\n",
       "    </tr>\n",
       "    <tr>\n",
       "      <th>134</th>\n",
       "      <td>215</td>\n",
       "      <td>successful</td>\n",
       "      <td>106 %</td>\n",
       "      <td>€3,190</td>\n",
       "      <td>Out of €3,000</td>\n",
       "      <td>2/4/2020</td>\n",
       "      <td>45</td>\n",
       "      <td>music</td>\n",
       "      <td>jpg</td>\n",
       "      <td>6</td>\n",
       "      <td>20.0</td>\n",
       "      <td>900.0</td>\n",
       "      <td>1</td>\n",
       "      <td>18</td>\n",
       "      <td>58</td>\n",
       "      <td>1</td>\n",
       "    </tr>\n",
       "  </tbody>\n",
       "</table>\n",
       "<p>135 rows × 16 columns</p>\n",
       "</div>"
      ],
      "text/plain": [
       "      id is_successful percentage_fund  funded         target    in_2020  \\\n",
       "0     81    successful           114 %  €5,679  Out of €5,000   8/5/2020   \n",
       "1     82    successful           100 %  €9,000  Out of €9,000   8/4/2020   \n",
       "2     83    successful           125 %  €3,124  Out of €2,500   8/4/2020   \n",
       "3     84    successful           103 %  €4,115  Out of €4,000   8/2/2020   \n",
       "4     85    successful           101 %  €9,089  Out of €9,000   8/1/2020   \n",
       "..   ...           ...             ...     ...            ...        ...   \n",
       "130  211    successful           111 %  €4,440  Out of €4,000  2/17/2020   \n",
       "131  212    successful           113 %  €4,520  Out of €4,000  2/16/2020   \n",
       "132  213    successful           103 %  €3,618  Out of €3,500  2/10/2020   \n",
       "133  214    successful           100 %  €3,000  Out of €3,000   2/7/2020   \n",
       "134  215    successful           106 %  €3,190  Out of €3,000   2/4/2020   \n",
       "\n",
       "    backers category thumbnail_type  num_rewards  min_price  max_price  \\\n",
       "0        92    music            png           12        2.0     5000.0   \n",
       "1        80    music            jpg            4       30.0      200.0   \n",
       "2       124    music            jpg            9        6.0      800.0   \n",
       "3        73    music            jpg            7        5.0      200.0   \n",
       "4        76    music            JPG           12       20.0     1750.0   \n",
       "..      ...      ...            ...          ...        ...        ...   \n",
       "130      88    music            png            8       10.0      500.0   \n",
       "131      86    music            jpg           13        5.0     1000.0   \n",
       "132      37    music            png            6        3.0      500.0   \n",
       "133      20    music            png           12        5.0     1000.0   \n",
       "134      45    music            jpg            6       20.0      900.0   \n",
       "\n",
       "     num_news  num_comments  num_contributions  num_creator_projects  \n",
       "0           1            31                 97                     1  \n",
       "1           2            23                 86                     1  \n",
       "2           0            25                126                     1  \n",
       "3           0            14                 79                     1  \n",
       "4           2            26                 86                     2  \n",
       "..        ...           ...                ...                   ...  \n",
       "130         0             8                 93                     5  \n",
       "131         3            23                 88                     1  \n",
       "132         0             4                 40                     1  \n",
       "133         0             5                 26                     1  \n",
       "134         1            18                 58                     1  \n",
       "\n",
       "[135 rows x 16 columns]"
      ]
     },
     "execution_count": 112,
     "metadata": {},
     "output_type": "execute_result"
    }
   ],
   "source": [
    "data_df = pd.DataFrame(data, columns = features_data)\n",
    "data_df"
   ]
  },
  {
   "cell_type": "code",
   "execution_count": 113,
   "metadata": {},
   "outputs": [
    {
     "data": {
      "text/html": [
       "<div>\n",
       "<style scoped>\n",
       "    .dataframe tbody tr th:only-of-type {\n",
       "        vertical-align: middle;\n",
       "    }\n",
       "\n",
       "    .dataframe tbody tr th {\n",
       "        vertical-align: top;\n",
       "    }\n",
       "\n",
       "    .dataframe thead th {\n",
       "        text-align: right;\n",
       "    }\n",
       "</style>\n",
       "<table border=\"1\" class=\"dataframe\">\n",
       "  <thead>\n",
       "    <tr style=\"text-align: right;\">\n",
       "      <th></th>\n",
       "      <th>id</th>\n",
       "      <th>category</th>\n",
       "      <th>price</th>\n",
       "      <th>backers</th>\n",
       "    </tr>\n",
       "  </thead>\n",
       "  <tbody>\n",
       "    <tr>\n",
       "      <th>0</th>\n",
       "      <td>0</td>\n",
       "      <td>music</td>\n",
       "      <td>15.0</td>\n",
       "      <td>25</td>\n",
       "    </tr>\n",
       "    <tr>\n",
       "      <th>1</th>\n",
       "      <td>0</td>\n",
       "      <td>music</td>\n",
       "      <td>25.0</td>\n",
       "      <td>42</td>\n",
       "    </tr>\n",
       "    <tr>\n",
       "      <th>2</th>\n",
       "      <td>0</td>\n",
       "      <td>music</td>\n",
       "      <td>35.0</td>\n",
       "      <td>25</td>\n",
       "    </tr>\n",
       "    <tr>\n",
       "      <th>3</th>\n",
       "      <td>0</td>\n",
       "      <td>music</td>\n",
       "      <td>55.0</td>\n",
       "      <td>19</td>\n",
       "    </tr>\n",
       "    <tr>\n",
       "      <th>4</th>\n",
       "      <td>0</td>\n",
       "      <td>music</td>\n",
       "      <td>80.0</td>\n",
       "      <td>5</td>\n",
       "    </tr>\n",
       "    <tr>\n",
       "      <th>...</th>\n",
       "      <td>...</td>\n",
       "      <td>...</td>\n",
       "      <td>...</td>\n",
       "      <td>...</td>\n",
       "    </tr>\n",
       "    <tr>\n",
       "      <th>877</th>\n",
       "      <td>98</td>\n",
       "      <td>music</td>\n",
       "      <td>1.0</td>\n",
       "      <td>1</td>\n",
       "    </tr>\n",
       "    <tr>\n",
       "      <th>878</th>\n",
       "      <td>98</td>\n",
       "      <td>music</td>\n",
       "      <td>10.0</td>\n",
       "      <td>6</td>\n",
       "    </tr>\n",
       "    <tr>\n",
       "      <th>879</th>\n",
       "      <td>98</td>\n",
       "      <td>music</td>\n",
       "      <td>30.0</td>\n",
       "      <td>8</td>\n",
       "    </tr>\n",
       "    <tr>\n",
       "      <th>880</th>\n",
       "      <td>98</td>\n",
       "      <td>music</td>\n",
       "      <td>50.0</td>\n",
       "      <td>1</td>\n",
       "    </tr>\n",
       "    <tr>\n",
       "      <th>881</th>\n",
       "      <td>98</td>\n",
       "      <td>music</td>\n",
       "      <td>100.0</td>\n",
       "      <td>6</td>\n",
       "    </tr>\n",
       "  </tbody>\n",
       "</table>\n",
       "<p>882 rows × 4 columns</p>\n",
       "</div>"
      ],
      "text/plain": [
       "     id category  price  backers\n",
       "0     0    music   15.0       25\n",
       "1     0    music   25.0       42\n",
       "2     0    music   35.0       25\n",
       "3     0    music   55.0       19\n",
       "4     0    music   80.0        5\n",
       "..   ..      ...    ...      ...\n",
       "877  98    music    1.0        1\n",
       "878  98    music   10.0        6\n",
       "879  98    music   30.0        8\n",
       "880  98    music   50.0        1\n",
       "881  98    music  100.0        6\n",
       "\n",
       "[882 rows x 4 columns]"
      ]
     },
     "execution_count": 113,
     "metadata": {},
     "output_type": "execute_result"
    }
   ],
   "source": [
    "rewards_df_ = pd.DataFrame(rewards, columns = features_rewards)\n",
    "rewards_df"
   ]
  },
  {
   "cell_type": "code",
   "execution_count": 114,
   "metadata": {},
   "outputs": [],
   "source": [
    "data_df.to_csv('./data/data_music_2.csv', index=False)\n",
    "rewards_df.to_csv('./data/rewards_music_2.csv', index=False)"
   ]
  },
  {
   "cell_type": "code",
   "execution_count": null,
   "metadata": {},
   "outputs": [],
   "source": []
  }
 ],
 "metadata": {
  "kernelspec": {
   "display_name": "Python 3",
   "language": "python",
   "name": "python3"
  },
  "language_info": {
   "codemirror_mode": {
    "name": "ipython",
    "version": 3
   },
   "file_extension": ".py",
   "mimetype": "text/x-python",
   "name": "python",
   "nbconvert_exporter": "python",
   "pygments_lexer": "ipython3",
   "version": "3.8.3"
  }
 },
 "nbformat": 4,
 "nbformat_minor": 4
}
