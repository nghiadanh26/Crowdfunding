{
 "cells": [
  {
   "cell_type": "markdown",
   "metadata": {
    "id": "SBR3rZC97IeM"
   },
   "source": [
    "### 1. Import packages"
   ]
  },
  {
   "cell_type": "code",
   "execution_count": 4,
   "metadata": {
    "colab": {
     "base_uri": "https://localhost:8080/"
    },
    "id": "WQZrmZP47IeQ",
    "outputId": "11328030-e113-4db9-bada-dc69a86a2f95"
   },
   "outputs": [],
   "source": [
    "import pandas as pd\n",
    "import numpy as np\n",
    "import re\n",
    "import nltk\n",
    "nltk.download('stopwords')\n",
    "from nltk.corpus import stopwords\n",
    "from langdetect import detect"
   ]
  },
  {
   "cell_type": "code",
   "execution_count": 31,
   "metadata": {
    "id": "t71DCKaw7IeU"
   },
   "outputs": [],
   "source": [
    "#!pip install pymorphy2\n",
    "from pymorphy2 import MorphAnalyzer\n",
    "pymorphy2_analyzer = MorphAnalyzer()"
   ]
  },
  {
   "cell_type": "markdown",
   "metadata": {
    "id": "Mq_1E8Y97IeV"
   },
   "source": [
    "### 2. Functions"
   ]
  },
  {
   "cell_type": "markdown",
   "metadata": {},
   "source": [
    "#### Merge data"
   ]
  },
  {
   "cell_type": "code",
   "execution_count": 1,
   "metadata": {},
   "outputs": [],
   "source": [
    "import os"
   ]
  },
  {
   "cell_type": "code",
   "execution_count": 3,
   "metadata": {},
   "outputs": [],
   "source": [
    "def concat_data(folder):\n",
    "    files = os.listdir('data/'+str(folder))\n",
    "    df = pd.read_csv('data/'+str(folder)+'/'+str(files[0]))\n",
    "    for i in range(len(files)):\n",
    "        df2 = pd.read_csv('data/'+str(folder)+'/'+str(files[i]))\n",
    "        df = pd.concat([df,df2])\n",
    "    print(df.shape)\n",
    "    print('/...Export the data')\n",
    "    df.to_csv('./data/'+str(folder)+'/'+str(folder)+'_full')"
   ]
  },
  {
   "cell_type": "code",
   "execution_count": null,
   "metadata": {},
   "outputs": [],
   "source": [
    "#give the function the name of the folder where the samples stored\n",
    "concat_data('rewards')"
   ]
  },
  {
   "cell_type": "code",
   "execution_count": 16,
   "metadata": {},
   "outputs": [],
   "source": [
    "df1 = pd.read_csv('./data/projects/projects_1_800.csv')\n",
    "df2 = pd.read_csv('./data/projects/projects_801_1600.csv')"
   ]
  },
  {
   "cell_type": "code",
   "execution_count": 17,
   "metadata": {},
   "outputs": [
    {
     "name": "stderr",
     "output_type": "stream",
     "text": [
      "/Library/Frameworks/Python.framework/Versions/3.5/lib/python3.5/site-packages/ipykernel_launcher.py:1: FutureWarning: Sorting because non-concatenation axis is not aligned. A future version\n",
      "of pandas will change to not sort by default.\n",
      "\n",
      "To accept the future behavior, pass 'sort=False'.\n",
      "\n",
      "To retain the current behavior and silence the warning, pass 'sort=True'.\n",
      "\n",
      "  \"\"\"Entry point for launching an IPython kernel.\n"
     ]
    }
   ],
   "source": [
    "projects = pd.concat([df1,df2])"
   ]
  },
  {
   "cell_type": "code",
   "execution_count": 18,
   "metadata": {},
   "outputs": [],
   "source": [
    "projects.to_csv('./data/projects/projects_full.csv')"
   ]
  },
  {
   "cell_type": "markdown",
   "metadata": {
    "id": "5pMej7Oy7IeW"
   },
   "source": [
    "#### Clean projects"
   ]
  },
  {
   "cell_type": "code",
   "execution_count": null,
   "metadata": {},
   "outputs": [],
   "source": [
    "#upload data\n",
    "projects = pd.read_csv('./data/projects/projects_full.csv')\n",
    "creaters = pd.read_csv('./data/creaters/creaters_full.csv')\n",
    "rewards = pd.read_csv('./data/rewards/rewards_full.csv')"
   ]
  },
  {
   "cell_type": "code",
   "execution_count": 40,
   "metadata": {
    "id": "TV_10eW_7IeW"
   },
   "outputs": [],
   "source": [
    "def tokenize(text):\n",
    "    lang = {'de': 'dutch',\n",
    "            'en': 'english',\n",
    "            'fi': 'finnish',\n",
    "            'fr': 'french',\n",
    "            'no': 'norwegian'}\n",
    "    words = text.lower().split()\n",
    "    words_normalized = []\n",
    "    language = detect(text)\n",
    "    if language in lang.keys():\n",
    "        words = [word for word in words if word not in stopwords.words(lang[language])]\n",
    "\n",
    "    for w in words:\n",
    "        lemma = pymorphy2_analyzer.parse(w)\n",
    "        words_normalized.append(lemma[0].normal_form)\n",
    "    return ', '.join(words_normalized)"
   ]
  },
  {
   "cell_type": "code",
   "execution_count": null,
   "metadata": {},
   "outputs": [],
   "source": [
    "#reset_index\n",
    "projects.drop(['Unnamed: 0', 'Unnamed: 0.1', 'Unnamed: 0.1.1'], inplace=True)\n",
    "creaters.drop(['Unnamed: 0', 'Unnamed: 0.1', 'Unnamed: 0.1.1'], inplace=True)\n",
    "rewards.drop(['Unnamed: 0', 'Unnamed: 0.1', 'Unnamed: 0.1.1', 'Unnamed: 0.1.1.1'], inplace=True)"
   ]
  },
  {
   "cell_type": "code",
   "execution_count": 41,
   "metadata": {
    "id": "dsIZ6qYh7IeY"
   },
   "outputs": [],
   "source": [
    "#run to clean the data\n",
    "projects['funded'] = projects['funded'].apply(lambda x: ''.join(re.findall(r'\\d', x))).astype('float64')\n",
    "projects['target'] = projects['target'].apply(lambda x: ''.join(re.findall(r'\\d', x))).astype('float64')\n",
    "projects['end_date'] = pd.to_datetime(projects['end_date'])\n",
    "projects['short_des'] = projects['short_des'].apply(lambda x: tokenize(str(x)))"
   ]
  },
  {
   "cell_type": "code",
   "execution_count": null,
   "metadata": {},
   "outputs": [],
   "source": [
    "#export data\n",
    "projects.to_csv('./data/projects/projects_cleaned.csv')\n",
    "rewards.to_csv('./data/rewards/rewards_cleaned.csv')\n",
    "creaters.to_csv('./data/creaters/creaters_cleaned.csv')"
   ]
  },
  {
   "cell_type": "code",
   "execution_count": 43,
   "metadata": {
    "colab": {
     "base_uri": "https://localhost:8080/",
     "height": 894
    },
    "id": "dEbHZ6h_7IeZ",
    "outputId": "7b63947a-df72-42da-8b63-269735249de1"
   },
   "outputs": [
    {
     "data": {
      "text/html": [
       "<div>\n",
       "<style scoped>\n",
       "    .dataframe tbody tr th:only-of-type {\n",
       "        vertical-align: middle;\n",
       "    }\n",
       "\n",
       "    .dataframe tbody tr th {\n",
       "        vertical-align: top;\n",
       "    }\n",
       "\n",
       "    .dataframe thead th {\n",
       "        text-align: right;\n",
       "    }\n",
       "</style>\n",
       "<table border=\"1\" class=\"dataframe\">\n",
       "  <thead>\n",
       "    <tr style=\"text-align: right;\">\n",
       "      <th></th>\n",
       "      <th>Unnamed: 0</th>\n",
       "      <th>pro_link</th>\n",
       "      <th>title</th>\n",
       "      <th>status</th>\n",
       "      <th>percentage_fund</th>\n",
       "      <th>funded</th>\n",
       "      <th>target</th>\n",
       "      <th>end_date</th>\n",
       "      <th>backers</th>\n",
       "      <th>subcategory</th>\n",
       "      <th>thumbnail_type</th>\n",
       "      <th>number_rewards</th>\n",
       "      <th>min_price</th>\n",
       "      <th>max_price</th>\n",
       "      <th>num_news</th>\n",
       "      <th>num_comments</th>\n",
       "      <th>num_contributions</th>\n",
       "      <th>creater_link</th>\n",
       "      <th>language</th>\n",
       "      <th>short_des</th>\n",
       "    </tr>\n",
       "  </thead>\n",
       "  <tbody>\n",
       "    <tr>\n",
       "      <th>0</th>\n",
       "      <td>0</td>\n",
       "      <td>https://www.kisskissbankbank.com/en/projects/t...</td>\n",
       "      <td>Cassava, table &amp; boulangerie artisanale engagée</td>\n",
       "      <td>Successful</td>\n",
       "      <td>106</td>\n",
       "      <td>4225.0</td>\n",
       "      <td>4000.0</td>\n",
       "      <td>2021-01-12</td>\n",
       "      <td>42</td>\n",
       "      <td>Organic,Locavore,Local Development</td>\n",
       "      <td>png</td>\n",
       "      <td>8</td>\n",
       "      <td>10.0</td>\n",
       "      <td>400.0</td>\n",
       "      <td>1</td>\n",
       "      <td>16</td>\n",
       "      <td>46</td>\n",
       "      <td>https://www.kisskissbankbank.com/en/users/vale...</td>\n",
       "      <td>fr</td>\n",
       "      <td>participez, naissance, cassava, réunion!, mari...</td>\n",
       "    </tr>\n",
       "    <tr>\n",
       "      <th>1</th>\n",
       "      <td>1</td>\n",
       "      <td>https://www.kisskissbankbank.com/en/projects/i...</td>\n",
       "      <td>IBIZA HORSE VALLEY</td>\n",
       "      <td>Successful</td>\n",
       "      <td>104</td>\n",
       "      <td>20880.0</td>\n",
       "      <td>20000.0</td>\n",
       "      <td>2021-01-12</td>\n",
       "      <td>175</td>\n",
       "      <td>Animal Welfare</td>\n",
       "      <td>png</td>\n",
       "      <td>4</td>\n",
       "      <td>10.0</td>\n",
       "      <td>500.0</td>\n",
       "      <td>6</td>\n",
       "      <td>71</td>\n",
       "      <td>190</td>\n",
       "      <td>https://www.kisskissbankbank.com/en/users/jean...</td>\n",
       "      <td>fr</td>\n",
       "      <td>sauvons, ensemble, \"ibiza, horse, valley\",, sa...</td>\n",
       "    </tr>\n",
       "    <tr>\n",
       "      <th>2</th>\n",
       "      <td>2</td>\n",
       "      <td>https://www.kisskissbankbank.com/en/projects/ob2</td>\n",
       "      <td>ENREGISTREMENT DE L'ALBUM OB2 GREGORY OTT ET V...</td>\n",
       "      <td>Successful</td>\n",
       "      <td>108</td>\n",
       "      <td>10750.0</td>\n",
       "      <td>10000.0</td>\n",
       "      <td>2021-01-12</td>\n",
       "      <td>211</td>\n",
       "      <td>Indie</td>\n",
       "      <td>jpg</td>\n",
       "      <td>7</td>\n",
       "      <td>10.0</td>\n",
       "      <td>500.0</td>\n",
       "      <td>0</td>\n",
       "      <td>53</td>\n",
       "      <td>222</td>\n",
       "      <td>https://www.kisskissbankbank.com/en/users/vinc...</td>\n",
       "      <td>hr</td>\n",
       "      <td>soutenez, le, projet, sur, kisskissbankbank, !</td>\n",
       "    </tr>\n",
       "    <tr>\n",
       "      <th>3</th>\n",
       "      <td>3</td>\n",
       "      <td>https://www.kisskissbankbank.com/en/projects/p...</td>\n",
       "      <td>Playschool l'album : LA GARDERIE</td>\n",
       "      <td>Successful</td>\n",
       "      <td>120</td>\n",
       "      <td>3595.0</td>\n",
       "      <td>3000.0</td>\n",
       "      <td>2021-01-12</td>\n",
       "      <td>95</td>\n",
       "      <td>Indie</td>\n",
       "      <td>jpg</td>\n",
       "      <td>7</td>\n",
       "      <td>10.0</td>\n",
       "      <td>1000.0</td>\n",
       "      <td>4</td>\n",
       "      <td>22</td>\n",
       "      <td>98</td>\n",
       "      <td>https://www.kisskissbankbank.com/en/users/emma...</td>\n",
       "      <td>fr</td>\n",
       "      <td>collectif, d’artistes,, playschool, a, besoin,...</td>\n",
       "    </tr>\n",
       "    <tr>\n",
       "      <th>4</th>\n",
       "      <td>4</td>\n",
       "      <td>https://www.kisskissbankbank.com/en/projects/s...</td>\n",
       "      <td>S!CK soutient l'indépendance avec le double-nu...</td>\n",
       "      <td>Successful</td>\n",
       "      <td>876</td>\n",
       "      <td>876.0</td>\n",
       "      <td>100.0</td>\n",
       "      <td>2021-01-12</td>\n",
       "      <td>312</td>\n",
       "      <td>French manufacturing,Independent media</td>\n",
       "      <td>gif</td>\n",
       "      <td>12</td>\n",
       "      <td>14.0</td>\n",
       "      <td>225.0</td>\n",
       "      <td>10</td>\n",
       "      <td>41</td>\n",
       "      <td>325</td>\n",
       "      <td>https://www.kisskissbankbank.com/en/users/yoan...</td>\n",
       "      <td>fr</td>\n",
       "      <td>164, pages,, 2, couvertures, 0, publicité, !</td>\n",
       "    </tr>\n",
       "    <tr>\n",
       "      <th>5</th>\n",
       "      <td>5</td>\n",
       "      <td>https://www.kisskissbankbank.com/en/projects/t...</td>\n",
       "      <td>TEASER Long-métrage \"L'APPÂT\"</td>\n",
       "      <td>Successful</td>\n",
       "      <td>169</td>\n",
       "      <td>3642.0</td>\n",
       "      <td>2160.0</td>\n",
       "      <td>2021-01-11</td>\n",
       "      <td>62</td>\n",
       "      <td>Anti racism,International solidarity,Independe...</td>\n",
       "      <td>jpg</td>\n",
       "      <td>5</td>\n",
       "      <td>5.0</td>\n",
       "      <td>80.0</td>\n",
       "      <td>0</td>\n",
       "      <td>11</td>\n",
       "      <td>64</td>\n",
       "      <td>https://www.kisskissbankbank.com/en/users/teas...</td>\n",
       "      <td>en</td>\n",
       "      <td>soutenez, le, tournage, du, teaser, du, long-m...</td>\n",
       "    </tr>\n",
       "    <tr>\n",
       "      <th>6</th>\n",
       "      <td>6</td>\n",
       "      <td>https://www.kisskissbankbank.com/en/projects/e...</td>\n",
       "      <td>En immersion Engagée</td>\n",
       "      <td>Successful</td>\n",
       "      <td>682</td>\n",
       "      <td>13639.0</td>\n",
       "      <td>2000.0</td>\n",
       "      <td>2021-01-10</td>\n",
       "      <td>72</td>\n",
       "      <td>Local Development,Indie,French manufacturing</td>\n",
       "      <td>png</td>\n",
       "      <td>7</td>\n",
       "      <td>20.0</td>\n",
       "      <td>500.0</td>\n",
       "      <td>1</td>\n",
       "      <td>14</td>\n",
       "      <td>74</td>\n",
       "      <td>https://www.kisskissbankbank.com/en/users/loic...</td>\n",
       "      <td>fr</td>\n",
       "      <td>pré-réservez, aujourd’hui, prochaine, micro-im...</td>\n",
       "    </tr>\n",
       "    <tr>\n",
       "      <th>7</th>\n",
       "      <td>7</td>\n",
       "      <td>https://www.kisskissbankbank.com/en/projects/r...</td>\n",
       "      <td>Route 64, la revue francophone du jeu d'échecs...</td>\n",
       "      <td>Successful</td>\n",
       "      <td>203</td>\n",
       "      <td>406.0</td>\n",
       "      <td>200.0</td>\n",
       "      <td>2021-01-10</td>\n",
       "      <td>172</td>\n",
       "      <td>Independent media</td>\n",
       "      <td>jpg</td>\n",
       "      <td>7</td>\n",
       "      <td>25.0</td>\n",
       "      <td>5000.0</td>\n",
       "      <td>26</td>\n",
       "      <td>34</td>\n",
       "      <td>177</td>\n",
       "      <td>https://www.kisskissbankbank.com/en/users/fabr...</td>\n",
       "      <td>fr</td>\n",
       "      <td>soutenez, création, route, 64,, nouveau, média...</td>\n",
       "    </tr>\n",
       "    <tr>\n",
       "      <th>8</th>\n",
       "      <td>8</td>\n",
       "      <td>https://www.kisskissbankbank.com/en/projects/c...</td>\n",
       "      <td>Caremitou®, maison de santé connectée qui pren...</td>\n",
       "      <td>Successful</td>\n",
       "      <td>108</td>\n",
       "      <td>27.0</td>\n",
       "      <td>25.0</td>\n",
       "      <td>2021-01-10</td>\n",
       "      <td>16</td>\n",
       "      <td>Animal Welfare,Recycling,French manufacturing</td>\n",
       "      <td>gif</td>\n",
       "      <td>8</td>\n",
       "      <td>5.0</td>\n",
       "      <td>710.0</td>\n",
       "      <td>1</td>\n",
       "      <td>2</td>\n",
       "      <td>19</td>\n",
       "      <td>https://www.kisskissbankbank.com/en/users/phil...</td>\n",
       "      <td>fr</td>\n",
       "      <td>bac, litière, connecté,, esthétique, performan...</td>\n",
       "    </tr>\n",
       "    <tr>\n",
       "      <th>9</th>\n",
       "      <td>9</td>\n",
       "      <td>https://www.kisskissbankbank.com/en/projects/n...</td>\n",
       "      <td>NOMANK, les super-tisanes bio 100% françaises !</td>\n",
       "      <td>Successful</td>\n",
       "      <td>110</td>\n",
       "      <td>549.0</td>\n",
       "      <td>500.0</td>\n",
       "      <td>2021-01-10</td>\n",
       "      <td>122</td>\n",
       "      <td>Organic,French manufacturing</td>\n",
       "      <td>gif</td>\n",
       "      <td>6</td>\n",
       "      <td>18.0</td>\n",
       "      <td>70.0</td>\n",
       "      <td>4</td>\n",
       "      <td>16</td>\n",
       "      <td>129</td>\n",
       "      <td>https://www.kisskissbankbank.com/en/users/mano...</td>\n",
       "      <td>fr</td>\n",
       "      <td>soutenez-nous, remettons, ensemble, goût, jour...</td>\n",
       "    </tr>\n",
       "  </tbody>\n",
       "</table>\n",
       "</div>"
      ],
      "text/plain": [
       "   Unnamed: 0  ...                                          short_des\n",
       "0           0  ...  participez, naissance, cassava, réunion!, mari...\n",
       "1           1  ...  sauvons, ensemble, \"ibiza, horse, valley\",, sa...\n",
       "2           2  ...     soutenez, le, projet, sur, kisskissbankbank, !\n",
       "3           3  ...  collectif, d’artistes,, playschool, a, besoin,...\n",
       "4           4  ...       164, pages,, 2, couvertures, 0, publicité, !\n",
       "5           5  ...  soutenez, le, tournage, du, teaser, du, long-m...\n",
       "6           6  ...  pré-réservez, aujourd’hui, prochaine, micro-im...\n",
       "7           7  ...  soutenez, création, route, 64,, nouveau, média...\n",
       "8           8  ...  bac, litière, connecté,, esthétique, performan...\n",
       "9           9  ...  soutenez-nous, remettons, ensemble, goût, jour...\n",
       "\n",
       "[10 rows x 20 columns]"
      ]
     },
     "execution_count": 43,
     "metadata": {
      "tags": []
     },
     "output_type": "execute_result"
    }
   ],
   "source": [
    "projects.head(10)"
   ]
  },
  {
   "cell_type": "code",
   "execution_count": null,
   "metadata": {
    "id": "givJDm177Ied"
   },
   "outputs": [],
   "source": []
  }
 ],
 "metadata": {
  "colab": {
   "name": "clean_data.ipynb",
   "provenance": [],
   "toc_visible": true
  },
  "kernelspec": {
   "display_name": "Python 3",
   "language": "python",
   "name": "python3"
  },
  "language_info": {
   "codemirror_mode": {
    "name": "ipython",
    "version": 3
   },
   "file_extension": ".py",
   "mimetype": "text/x-python",
   "name": "python",
   "nbconvert_exporter": "python",
   "pygments_lexer": "ipython3",
   "version": "3.5.2"
  }
 },
 "nbformat": 4,
 "nbformat_minor": 1
}
