{
 "cells": [
  {
   "cell_type": "markdown",
   "metadata": {},
   "source": [
    "Our expectations: https://docs.google.com/document/d/1GYsmMG-CwEwakkOSN-LFgtitBdbR00y5iBy99sZl-BU/edit\n",
    "### 1. Import packages"
   ]
  },
  {
   "cell_type": "code",
   "execution_count": 2,
   "metadata": {},
   "outputs": [],
   "source": [
    "import numpy as np\n",
    "import pandas as pd\n",
    "import matplotlib.pyplot as plt"
   ]
  },
  {
   "cell_type": "markdown",
   "metadata": {},
   "source": [
    "### 2. Load data"
   ]
  },
  {
   "cell_type": "code",
   "execution_count": 100,
   "metadata": {},
   "outputs": [],
   "source": [
    "# Load cleaned successful data\n",
    "s_projects = pd.read_csv('./data/projects/projects_cleaned.csv')\n",
    "s_rewards = pd.read_csv('./data/rewards/rewards_cleaned.csv')\n",
    "s_creaters = pd.read_csv('./data/creaters/creaters_cleaned.csv')\n",
    "\n",
    "# Clear two unamed columns\n",
    "s_projects.drop('Unnamed: 0', inplace = True, axis=1)\n",
    "s_rewards.drop('Unnamed: 0', inplace = True, axis=1)\n",
    "s_creaters.drop('Unnamed: 0', inplace = True, axis=1)\n",
    "\n",
    "# Drop duplicates\n",
    "s_projects = s_projects.drop_duplicates()\n",
    "s_creaters = s_creaters.drop_duplicates()\n",
    "s_rewards = s_rewards.drop_duplicates()\n"
   ]
  },
  {
   "cell_type": "code",
   "execution_count": 101,
   "metadata": {},
   "outputs": [],
   "source": [
    "# Load cleaned failed data\n",
    "f_projects = pd.read_csv('./data/failed/projects_cleaned.csv')\n",
    "f_rewards = pd.read_csv('./data/failed/rewards.csv')\n",
    "f_creaters = pd.read_csv('./data/failed/creaters.csv')\n",
    "\n",
    "# Clear two unamed columns\n",
    "f_projects.drop('Unnamed: 0', inplace = True, axis=1)\n",
    "f_rewards.drop('Unnamed: 0', inplace = True, axis=1)\n",
    "f_creaters.drop('Unnamed: 0', inplace = True, axis=1)\n",
    "\n",
    "# Filter some successful projects\n",
    "filter_ = f_projects[f_projects['status'] == 'Successful']\n",
    "s_links = filter_[['pro_link','creater_link']]\n",
    "f_projects = f_projects[f_projects['status'] == 'Failed']\n",
    "for _,l in s_links.iterrows():\n",
    "    f_rewards = f_rewards[f_rewards['pro_link'] != l['pro_link']]\n",
    "    f_creaters = f_creaters[f_creaters['creater_link'] != l['creater_link']]\n",
    "\n",
    "# Drop duplicates\n",
    "f_projects = f_projects.drop_duplicates()\n",
    "f_creaters = f_creaters.drop_duplicates()\n",
    "f_rewards = f_rewards.drop_duplicates()\n"
   ]
  },
  {
   "cell_type": "markdown",
   "metadata": {},
   "source": [
    "#### Clean data again"
   ]
  },
  {
   "cell_type": "code",
   "execution_count": 126,
   "metadata": {},
   "outputs": [],
   "source": [
    "# Remove outliers of data\n",
    "s_projects = s_projects[s_projects['percentage_fund'] < 1000] # some projects have millions percentage funds\n"
   ]
  },
  {
   "cell_type": "code",
   "execution_count": 127,
   "metadata": {},
   "outputs": [],
   "source": [
    "# Clean backers, because some of them will be greater than 1000, ex: 1,160\n",
    "def clean_backers(backers):\n",
    "    try:\n",
    "        res = float(backers)\n",
    "    except:\n",
    "        res = float(backers.replace(',',''))\n",
    "    return res"
   ]
  },
  {
   "cell_type": "code",
   "execution_count": 143,
   "metadata": {},
   "outputs": [],
   "source": [
    "s_projects['backers'] = s_projects['backers'].apply(lambda x: clean_backers(x))\n",
    "f_projects['backers'] = s_projects['backers'].apply(lambda x: clean_backers(x))\n",
    "s_rewards['num_backers'] = s_rewards['num_backers'].apply(lambda x: clean_backers(x))\n",
    "f_rewards['num_backers'] = s_rewards['num_backers'].apply(lambda x: clean_backers(x))"
   ]
  },
  {
   "cell_type": "code",
   "execution_count": 148,
   "metadata": {},
   "outputs": [],
   "source": [
    "# Change all of thumnail_type to lower case\n",
    "s_projects['thumbnail_type'] = s_projects['thumbnail_type'].apply(lambda x: x.lower())"
   ]
  },
  {
   "cell_type": "markdown",
   "metadata": {},
   "source": [
    "### 3. Data descriptions"
   ]
  },
  {
   "cell_type": "markdown",
   "metadata": {},
   "source": [
    "#### 3.1 Number of projects, rewards, creators we have, both successful and failed"
   ]
  },
  {
   "cell_type": "code",
   "execution_count": 149,
   "metadata": {},
   "outputs": [
    {
     "name": "stdout",
     "output_type": "stream",
     "text": [
      "The number of successful projects: 11818\n",
      "The number of successful rewards: 110993\n",
      "The number of successful creaters: 11181\n",
      "The number of failed projects: 221\n",
      "The number of failed rewards: 1535\n",
      "The number of failed creaters: 220\n"
     ]
    }
   ],
   "source": [
    "print('The number of successful projects: {}'.format(s_projects.shape[0]))\n",
    "print('The number of successful rewards: {}'.format(s_rewards.shape[0]))\n",
    "print('The number of successful creaters: {}'.format(s_creaters.shape[0]))\n",
    "\n",
    "print('The number of failed projects: {}'.format(f_projects.shape[0]))\n",
    "print('The number of failed rewards: {}'.format(f_rewards.shape[0]))\n",
    "print('The number of failed creaters: {}'.format(f_creaters.shape[0]))"
   ]
  },
  {
   "cell_type": "markdown",
   "metadata": {},
   "source": [
    "#### 3.2 The average, median, standard deviation of percentage_fund"
   ]
  },
  {
   "cell_type": "code",
   "execution_count": 135,
   "metadata": {},
   "outputs": [
    {
     "name": "stdout",
     "output_type": "stream",
     "text": [
      "Mean of percentage_fund: 120.4745410748401\n",
      "Standard deviation of percentage_fund: 52.77545554511748\n",
      "Max of percentage_fund: 956.0\n",
      "Min of percentage_fund: 0.0\n",
      "Median of percentage_fund: 107.0\n"
     ]
    }
   ],
   "source": [
    "percentage_fund = pd.concat([s_projects['percentage_fund'],f_projects['percentage_fund']])\n",
    "print('Mean of percentage_fund: {}'.format(percentage_fund.mean()))\n",
    "print('Standard deviation of percentage_fund: {}'.format(percentage_fund.std()))\n",
    "print('Max of percentage_fund: {}'.format(percentage_fund.max()))\n",
    "print('Min of percentage_fund: {}'.format(percentage_fund.min()))\n",
    "print('Median of percentage_fund: {}'.format(percentage_fund.median()))"
   ]
  },
  {
   "cell_type": "code",
   "execution_count": 136,
   "metadata": {},
   "outputs": [
    {
     "data": {
      "image/png": "[encoded data removed]",
      "text/plain": [
       "<Figure size 432x288 with 1 Axes>"
      ]
     },
     "metadata": {
      "needs_background": "light"
     },
     "output_type": "display_data"
    }
   ],
   "source": [
    "plt.hist(percentage_fund,bins=50)\n",
    "plt.xlabel('Percentage funded')\n",
    "plt.ylabel('Number of projects')\n",
    "plt.title('Histogram of percentage_fund')\n",
    "plt.show()"
   ]
  },
  {
   "cell_type": "markdown",
   "metadata": {},
   "source": [
    "#### 3.3 The average, median, standard deviation of funded, target"
   ]
  },
  {
   "cell_type": "code",
   "execution_count": 137,
   "metadata": {},
   "outputs": [
    {
     "name": "stdout",
     "output_type": "stream",
     "text": [
      "Mean of funded: 6327.1797491486\n",
      "Standard deviation of funded: 11416.380325185257\n",
      "Max of funded: 444390.0\n",
      "Min of funded: 0.0\n",
      "Median of funded: 4320.0\n"
     ]
    }
   ],
   "source": [
    "funded = pd.concat([s_projects['funded'],f_projects['funded']])\n",
    "print('Mean of funded: {}'.format(funded.mean()))\n",
    "print('Standard deviation of funded: {}'.format(funded.std()))\n",
    "print('Max of funded: {}'.format(funded.max()))\n",
    "print('Min of funded: {}'.format(funded.min()))\n",
    "print('Median of funded: {}'.format(funded.median()))"
   ]
  },
  {
   "cell_type": "code",
   "execution_count": 138,
   "metadata": {},
   "outputs": [
    {
     "data": {
      "image/png": "[encoded data removed]",
      "text/plain": [
       "<Figure size 432x288 with 1 Axes>"
      ]
     },
     "metadata": {
      "needs_background": "light"
     },
     "output_type": "display_data"
    }
   ],
   "source": [
    "plt.hist(funded,bins=50)\n",
    "plt.xlabel('Funded money in Euros')\n",
    "plt.ylabel('Number of projects')\n",
    "plt.title('Histogram of funded')\n",
    "plt.show()"
   ]
  },
  {
   "cell_type": "code",
   "execution_count": 144,
   "metadata": {},
   "outputs": [
    {
     "name": "stdout",
     "output_type": "stream",
     "text": [
      "Mean of target: 5316.945178170944\n",
      "Standard deviation of target: 8138.254335788316\n",
      "Max of target: 360000.0\n",
      "Min of target: 5.0\n",
      "Median of target: 4000.0\n"
     ]
    }
   ],
   "source": [
    "target = pd.concat([s_projects['target'],f_projects['target']])\n",
    "print('Mean of target: {}'.format(target.mean()))\n",
    "print('Standard deviation of target: {}'.format(target.std()))\n",
    "print('Max of target: {}'.format(target.max()))\n",
    "print('Min of target: {}'.format(target.min()))\n",
    "print('Median of target: {}'.format(target.median()))"
   ]
  },
  {
   "cell_type": "code",
   "execution_count": 145,
   "metadata": {},
   "outputs": [
    {
     "data": {
      "image/png": "[encoded data removed]",
      "text/plain": [
       "<Figure size 432x288 with 1 Axes>"
      ]
     },
     "metadata": {
      "needs_background": "light"
     },
     "output_type": "display_data"
    }
   ],
   "source": [
    "plt.hist(target,bins=50)\n",
    "plt.xlabel('Target money in Euros')\n",
    "plt.ylabel('Number of projects')\n",
    "plt.title('Histogram of target')\n",
    "plt.show()"
   ]
  },
  {
   "cell_type": "markdown",
   "metadata": {},
   "source": [
    "#### 3.4 The average, median, standard deviation of backers"
   ]
  },
  {
   "cell_type": "code",
   "execution_count": 140,
   "metadata": {},
   "outputs": [
    {
     "name": "stdout",
     "output_type": "stream",
     "text": [
      "Mean of backers: 97.34927949061662\n",
      "Standard deviation of backers: 205.6162643503152\n",
      "Max of backers: 10266.0\n",
      "Min of backers: 1.0\n",
      "Median of backers: 66.0\n"
     ]
    }
   ],
   "source": [
    "backers = pd.concat([s_projects['backers'],f_projects['backers']])\n",
    "print('Mean of backers: {}'.format(backers.mean()))\n",
    "print('Standard deviation of backers: {}'.format(backers.std()))\n",
    "print('Max of backers: {}'.format(backers.max()))\n",
    "print('Min of backers: {}'.format(backers.min()))\n",
    "print('Median of backers: {}'.format(backers.median()))"
   ]
  },
  {
   "cell_type": "code",
   "execution_count": 142,
   "metadata": {},
   "outputs": [
    {
     "data": {
      "image/png": "[encoded data removed]",
      "text/plain": [
       "<Figure size 432x288 with 1 Axes>"
      ]
     },
     "metadata": {
      "needs_background": "light"
     },
     "output_type": "display_data"
    }
   ],
   "source": [
    "plt.figure()\n",
    "plt.hist(backers,bins=50)\n",
    "plt.xlabel('Number of backers')\n",
    "plt.ylabel('Number of projects')\n",
    "plt.title('Histogram of backers')\n",
    "plt.show()"
   ]
  },
  {
   "cell_type": "markdown",
   "metadata": {},
   "source": [
    "#### 3.5 The number of projects that have thumbnail is an jpeg, png, gif, or svg"
   ]
  },
  {
   "cell_type": "code",
   "execution_count": 155,
   "metadata": {},
   "outputs": [
    {
     "name": "stdout",
     "output_type": "stream",
     "text": [
      "The number of projects with jpeg thumbnail: 8560\n",
      "The number of projects with png thumbnail: 2582\n",
      "The number of projects with gif thumbnail: 497\n",
      "The number of projects with svg thumbnail: 1\n"
     ]
    }
   ],
   "source": [
    "thumbnail_type = pd.concat([s_projects['thumbnail_type'],f_projects['thumbnail_type']])\n",
    "print('The number of projects with jpeg thumbnail: {}'.format(len(thumbnail_type[(thumbnail_type == 'jpg') | (thumbnail_type == 'jpg')])))\n",
    "print('The number of projects with png thumbnail: {}'.format(len(thumbnail_type[thumbnail_type == 'png'])))\n",
    "print('The number of projects with gif thumbnail: {}'.format(len(thumbnail_type[thumbnail_type == 'gif'])))\n",
    "print('The number of projects with svg thumbnail: {}'.format(len(thumbnail_type[thumbnail_type == 'svg'])))\n"
   ]
  },
  {
   "cell_type": "markdown",
   "metadata": {},
   "source": [
    "#### 3.6 The average, median, standard deviation of the number of rewards"
   ]
  },
  {
   "cell_type": "code",
   "execution_count": null,
   "metadata": {},
   "outputs": [],
   "source": []
  },
  {
   "cell_type": "markdown",
   "metadata": {},
   "source": [
    "#### 3.7 The average, median, standard deviation of the number of comments"
   ]
  },
  {
   "cell_type": "code",
   "execution_count": null,
   "metadata": {},
   "outputs": [],
   "source": []
  },
  {
   "cell_type": "markdown",
   "metadata": {},
   "source": [
    "#### 3.8 The number of words in each text, the most frequent words, the number of spelling errors"
   ]
  },
  {
   "cell_type": "code",
   "execution_count": null,
   "metadata": {},
   "outputs": [],
   "source": []
  },
  {
   "cell_type": "markdown",
   "metadata": {},
   "source": [
    "### 4. Analysis"
   ]
  },
  {
   "cell_type": "markdown",
   "metadata": {},
   "source": [
    "#### 4.1 Tables"
   ]
  },
  {
   "cell_type": "code",
   "execution_count": null,
   "metadata": {},
   "outputs": [],
   "source": []
  },
  {
   "cell_type": "markdown",
   "metadata": {},
   "source": [
    "#### 4.2 Graphs"
   ]
  },
  {
   "cell_type": "code",
   "execution_count": null,
   "metadata": {},
   "outputs": [],
   "source": []
  },
  {
   "cell_type": "markdown",
   "metadata": {},
   "source": [
    "#### 4.3 Linear Regression"
   ]
  },
  {
   "cell_type": "code",
   "execution_count": null,
   "metadata": {},
   "outputs": [],
   "source": []
  }
 ],
 "metadata": {
  "kernelspec": {
   "display_name": "Python 3",
   "language": "python",
   "name": "python3"
  },
  "language_info": {
   "codemirror_mode": {
    "name": "ipython",
    "version": 3
   },
   "file_extension": ".py",
   "mimetype": "text/x-python",
   "name": "python",
   "nbconvert_exporter": "python",
   "pygments_lexer": "ipython3",
   "version": "3.8.3"
  }
 },
 "nbformat": 4,
 "nbformat_minor": 4
}
