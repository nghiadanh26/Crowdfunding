{
 "cells": [
  {
   "cell_type": "markdown",
   "metadata": {},
   "source": [
    "Our expectations: https://docs.google.com/document/d/1GYsmMG-CwEwakkOSN-LFgtitBdbR00y5iBy99sZl-BU/edit\n",
    "### 1. Import packages"
   ]
  },
  {
   "cell_type": "code",
   "execution_count": 2,
   "metadata": {},
   "outputs": [],
   "source": [
    "import numpy as np\n",
    "import pandas as pd\n",
    "import matplotlib.pyplot as plt"
   ]
  },
  {
   "cell_type": "markdown",
   "metadata": {},
   "source": [
    "### 2. Load data"
   ]
  },
  {
   "cell_type": "code",
   "execution_count": 100,
   "metadata": {},
   "outputs": [],
   "source": [
    "# Load cleaned successful data\n",
    "s_projects = pd.read_csv('./data/projects/projects_cleaned.csv')\n",
    "s_rewards = pd.read_csv('./data/rewards/rewards_cleaned.csv')\n",
    "s_creaters = pd.read_csv('./data/creaters/creaters_cleaned.csv')\n",
    "\n",
    "# Clear two unamed columns\n",
    "s_projects.drop('Unnamed: 0', inplace = True, axis=1)\n",
    "s_rewards.drop('Unnamed: 0', inplace = True, axis=1)\n",
    "s_creaters.drop('Unnamed: 0', inplace = True, axis=1)\n",
    "\n",
    "# Drop duplicates\n",
    "s_projects = s_projects.drop_duplicates()\n",
    "s_creaters = s_creaters.drop_duplicates()\n",
    "s_rewards = s_rewards.drop_duplicates()\n"
   ]
  },
  {
   "cell_type": "code",
   "execution_count": 101,
   "metadata": {},
   "outputs": [],
   "source": [
    "# Load cleaned failed data\n",
    "f_projects = pd.read_csv('./data/failed/projects_cleaned.csv')\n",
    "f_rewards = pd.read_csv('./data/failed/rewards.csv')\n",
    "f_creaters = pd.read_csv('./data/failed/creaters.csv')\n",
    "\n",
    "# Clear two unamed columns\n",
    "f_projects.drop('Unnamed: 0', inplace = True, axis=1)\n",
    "f_rewards.drop('Unnamed: 0', inplace = True, axis=1)\n",
    "f_creaters.drop('Unnamed: 0', inplace = True, axis=1)\n",
    "\n",
    "# Filter some successful projects\n",
    "filter_ = f_projects[f_projects['status'] == 'Successful']\n",
    "s_links = filter_[['pro_link','creater_link']]\n",
    "f_projects = f_projects[f_projects['status'] == 'Failed']\n",
    "for _,l in s_links.iterrows():\n",
    "    f_rewards = f_rewards[f_rewards['pro_link'] != l['pro_link']]\n",
    "    f_creaters = f_creaters[f_creaters['creater_link'] != l['creater_link']]\n",
    "\n",
    "# Drop duplicates\n",
    "f_projects = f_projects.drop_duplicates()\n",
    "f_creaters = f_creaters.drop_duplicates()\n",
    "f_rewards = f_rewards.drop_duplicates()\n"
   ]
  },
  {
   "cell_type": "markdown",
   "metadata": {},
   "source": [
    "#### Clean data again"
   ]
  },
  {
   "cell_type": "code",
   "execution_count": 126,
   "metadata": {},
   "outputs": [],
   "source": [
    "# Remove outliers of data\n",
    "s_projects = s_projects[s_projects['percentage_fund'] < 1000] # some projects have millions percentage funds\n"
   ]
  },
  {
   "cell_type": "code",
   "execution_count": 127,
   "metadata": {},
   "outputs": [],
   "source": [
    "# Clean backers, because some of them will be greater than 1000, ex: 1,160\n",
    "def clean_backers(backers):\n",
    "    try:\n",
    "        res = float(backers)\n",
    "    except:\n",
    "        res = float(backers.replace(',',''))\n",
    "    return res"
   ]
  },
  {
   "cell_type": "code",
   "execution_count": 143,
   "metadata": {},
   "outputs": [],
   "source": [
    "s_projects['backers'] = s_projects['backers'].apply(lambda x: clean_backers(x))\n",
    "f_projects['backers'] = s_projects['backers'].apply(lambda x: clean_backers(x))\n",
    "s_rewards['num_backers'] = s_rewards['num_backers'].apply(lambda x: clean_backers(x))\n",
    "f_rewards['num_backers'] = s_rewards['num_backers'].apply(lambda x: clean_backers(x))"
   ]
  },
  {
   "cell_type": "code",
   "execution_count": 148,
   "metadata": {},
   "outputs": [],
   "source": [
    "# Change all of thumnail_type to lower case\n",
    "s_projects['thumbnail_type'] = s_projects['thumbnail_type'].apply(lambda x: x.lower())"
   ]
  },
  {
   "cell_type": "code",
   "execution_count": 156,
   "metadata": {},
   "outputs": [
    {
     "data": {
      "text/html": [
       "<div>\n",
       "<style scoped>\n",
       "    .dataframe tbody tr th:only-of-type {\n",
       "        vertical-align: middle;\n",
       "    }\n",
       "\n",
       "    .dataframe tbody tr th {\n",
       "        vertical-align: top;\n",
       "    }\n",
       "\n",
       "    .dataframe thead th {\n",
       "        text-align: right;\n",
       "    }\n",
       "</style>\n",
       "<table border=\"1\" class=\"dataframe\">\n",
       "  <thead>\n",
       "    <tr style=\"text-align: right;\">\n",
       "      <th></th>\n",
       "      <th>backers</th>\n",
       "      <th>creater_link</th>\n",
       "      <th>end_date</th>\n",
       "      <th>funded</th>\n",
       "      <th>language</th>\n",
       "      <th>max_price</th>\n",
       "      <th>min_price</th>\n",
       "      <th>num_comments</th>\n",
       "      <th>num_contributions</th>\n",
       "      <th>num_news</th>\n",
       "      <th>number_rewards</th>\n",
       "      <th>percentage_fund</th>\n",
       "      <th>pro_link</th>\n",
       "      <th>short_des</th>\n",
       "      <th>status</th>\n",
       "      <th>subcategory</th>\n",
       "      <th>target</th>\n",
       "      <th>thumbnail_type</th>\n",
       "      <th>title</th>\n",
       "    </tr>\n",
       "  </thead>\n",
       "  <tbody>\n",
       "    <tr>\n",
       "      <th>0</th>\n",
       "      <td>244.0</td>\n",
       "      <td>https://www.kisskissbankbank.com/en/users/chic...</td>\n",
       "      <td>2018-12-06</td>\n",
       "      <td>13345.0</td>\n",
       "      <td>fr</td>\n",
       "      <td>10001.0</td>\n",
       "      <td>5.0</td>\n",
       "      <td>49.0</td>\n",
       "      <td>244.0</td>\n",
       "      <td>3.0</td>\n",
       "      <td>13.0</td>\n",
       "      <td>111.0</td>\n",
       "      <td>https://www.kisskissbankbank.com/en/projects/c...</td>\n",
       "      <td>aidez, atteindre, 15, 000e, chiche, mobile, no...</td>\n",
       "      <td>Successful</td>\n",
       "      <td>NaN</td>\n",
       "      <td>12000.0</td>\n",
       "      <td>jpg</td>\n",
       "      <td>CHICHE se lance dans le pois chiche chocolaté !</td>\n",
       "    </tr>\n",
       "    <tr>\n",
       "      <th>1</th>\n",
       "      <td>49.0</td>\n",
       "      <td>https://www.kisskissbankbank.com/en/users/van-...</td>\n",
       "      <td>2018-12-06</td>\n",
       "      <td>3848.0</td>\n",
       "      <td>fr</td>\n",
       "      <td>100.0</td>\n",
       "      <td>5.0</td>\n",
       "      <td>6.0</td>\n",
       "      <td>49.0</td>\n",
       "      <td>0.0</td>\n",
       "      <td>4.0</td>\n",
       "      <td>101.0</td>\n",
       "      <td>https://www.kisskissbankbank.com/en/projects/r...</td>\n",
       "      <td>trouver, seul, clic, tous, évènements, automob...</td>\n",
       "      <td>Successful</td>\n",
       "      <td>NaN</td>\n",
       "      <td>3800.0</td>\n",
       "      <td>png</td>\n",
       "      <td>RDV! Le site qui appartient aux passionnés d'a...</td>\n",
       "    </tr>\n",
       "    <tr>\n",
       "      <th>2</th>\n",
       "      <td>823.0</td>\n",
       "      <td>https://www.kisskissbankbank.com/en/users/mc4--2</td>\n",
       "      <td>2018-12-05</td>\n",
       "      <td>47400.0</td>\n",
       "      <td>fr</td>\n",
       "      <td>200.0</td>\n",
       "      <td>5.0</td>\n",
       "      <td>169.0</td>\n",
       "      <td>823.0</td>\n",
       "      <td>7.0</td>\n",
       "      <td>3.0</td>\n",
       "      <td>237.0</td>\n",
       "      <td>https://www.kisskissbankbank.com/en/projects/l...</td>\n",
       "      <td>après, avoir, disparu, pendant, près, 80, ans,...</td>\n",
       "      <td>Successful</td>\n",
       "      <td>NaN</td>\n",
       "      <td>20000.0</td>\n",
       "      <td>jpg</td>\n",
       "      <td>LA MARCHE DES LOUPS</td>\n",
       "    </tr>\n",
       "    <tr>\n",
       "      <th>3</th>\n",
       "      <td>96.0</td>\n",
       "      <td>https://www.kisskissbankbank.com/en/users/baln...</td>\n",
       "      <td>2018-12-05</td>\n",
       "      <td>115.0</td>\n",
       "      <td>fr</td>\n",
       "      <td>1500.0</td>\n",
       "      <td>30.0</td>\n",
       "      <td>24.0</td>\n",
       "      <td>106.0</td>\n",
       "      <td>3.0</td>\n",
       "      <td>11.0</td>\n",
       "      <td>128.0</td>\n",
       "      <td>https://www.kisskissbankbank.com/en/projects/b...</td>\n",
       "      <td>découvrez, marque, balnoir, paris, lancement, ...</td>\n",
       "      <td>Successful</td>\n",
       "      <td>NaN</td>\n",
       "      <td>90.0</td>\n",
       "      <td>png</td>\n",
       "      <td>Balnoir Paris, la parfaite petite robe noire</td>\n",
       "    </tr>\n",
       "    <tr>\n",
       "      <th>4</th>\n",
       "      <td>228.0</td>\n",
       "      <td>https://www.kisskissbankbank.com/en/users/luci...</td>\n",
       "      <td>2018-12-05</td>\n",
       "      <td>20511.0</td>\n",
       "      <td>en</td>\n",
       "      <td>1200.0</td>\n",
       "      <td>5.0</td>\n",
       "      <td>34.0</td>\n",
       "      <td>205.0</td>\n",
       "      <td>18.0</td>\n",
       "      <td>11.0</td>\n",
       "      <td>137.0</td>\n",
       "      <td>https://www.kisskissbankbank.com/en/projects/h...</td>\n",
       "      <td>israeli, palestinian, doctors, work, together,...</td>\n",
       "      <td>Successful</td>\n",
       "      <td>NaN</td>\n",
       "      <td>15000.0</td>\n",
       "      <td>jpg</td>\n",
       "      <td>HEALING HEARTS // UNE HISTOIRE DE COEURS</td>\n",
       "    </tr>\n",
       "  </tbody>\n",
       "</table>\n",
       "</div>"
      ],
      "text/plain": [
       "   backers                                       creater_link    end_date  \\\n",
       "0    244.0  https://www.kisskissbankbank.com/en/users/chic...  2018-12-06   \n",
       "1     49.0  https://www.kisskissbankbank.com/en/users/van-...  2018-12-06   \n",
       "2    823.0   https://www.kisskissbankbank.com/en/users/mc4--2  2018-12-05   \n",
       "3     96.0  https://www.kisskissbankbank.com/en/users/baln...  2018-12-05   \n",
       "4    228.0  https://www.kisskissbankbank.com/en/users/luci...  2018-12-05   \n",
       "\n",
       "    funded language  max_price  min_price  num_comments  num_contributions  \\\n",
       "0  13345.0       fr    10001.0        5.0          49.0              244.0   \n",
       "1   3848.0       fr      100.0        5.0           6.0               49.0   \n",
       "2  47400.0       fr      200.0        5.0         169.0              823.0   \n",
       "3    115.0       fr     1500.0       30.0          24.0              106.0   \n",
       "4  20511.0       en     1200.0        5.0          34.0              205.0   \n",
       "\n",
       "   num_news  number_rewards  percentage_fund  \\\n",
       "0       3.0            13.0            111.0   \n",
       "1       0.0             4.0            101.0   \n",
       "2       7.0             3.0            237.0   \n",
       "3       3.0            11.0            128.0   \n",
       "4      18.0            11.0            137.0   \n",
       "\n",
       "                                            pro_link  \\\n",
       "0  https://www.kisskissbankbank.com/en/projects/c...   \n",
       "1  https://www.kisskissbankbank.com/en/projects/r...   \n",
       "2  https://www.kisskissbankbank.com/en/projects/l...   \n",
       "3  https://www.kisskissbankbank.com/en/projects/b...   \n",
       "4  https://www.kisskissbankbank.com/en/projects/h...   \n",
       "\n",
       "                                           short_des      status subcategory  \\\n",
       "0  aidez, atteindre, 15, 000e, chiche, mobile, no...  Successful         NaN   \n",
       "1  trouver, seul, clic, tous, évènements, automob...  Successful         NaN   \n",
       "2  après, avoir, disparu, pendant, près, 80, ans,...  Successful         NaN   \n",
       "3  découvrez, marque, balnoir, paris, lancement, ...  Successful         NaN   \n",
       "4  israeli, palestinian, doctors, work, together,...  Successful         NaN   \n",
       "\n",
       "    target thumbnail_type                                              title  \n",
       "0  12000.0            jpg    CHICHE se lance dans le pois chiche chocolaté !  \n",
       "1   3800.0            png  RDV! Le site qui appartient aux passionnés d'a...  \n",
       "2  20000.0            jpg                                LA MARCHE DES LOUPS  \n",
       "3     90.0            png       Balnoir Paris, la parfaite petite robe noire  \n",
       "4  15000.0            jpg           HEALING HEARTS // UNE HISTOIRE DE COEURS  "
      ]
     },
     "execution_count": 156,
     "metadata": {},
     "output_type": "execute_result"
    }
   ],
   "source": [
    "s_projects.head()"
   ]
  },
  {
   "cell_type": "markdown",
   "metadata": {},
   "source": [
    "### 3. Data descriptions"
   ]
  },
  {
   "cell_type": "markdown",
   "metadata": {},
   "source": [
    "#### 3.1 Number of projects, rewards, creators we have, both successful and failed"
   ]
  },
  {
   "cell_type": "code",
   "execution_count": 149,
   "metadata": {},
   "outputs": [
    {
     "name": "stdout",
     "output_type": "stream",
     "text": [
      "The number of successful projects: 11818\n",
      "The number of successful rewards: 110993\n",
      "The number of successful creaters: 11181\n",
      "The number of failed projects: 221\n",
      "The number of failed rewards: 1535\n",
      "The number of failed creaters: 220\n"
     ]
    }
   ],
   "source": [
    "print('The number of successful projects: {}'.format(s_projects.shape[0]))\n",
    "print('The number of successful rewards: {}'.format(s_rewards.shape[0]))\n",
    "print('The number of successful creaters: {}'.format(s_creaters.shape[0]))\n",
    "\n",
    "print('The number of failed projects: {}'.format(f_projects.shape[0]))\n",
    "print('The number of failed rewards: {}'.format(f_rewards.shape[0]))\n",
    "print('The number of failed creaters: {}'.format(f_creaters.shape[0]))"
   ]
  },
  {
   "cell_type": "markdown",
   "metadata": {},
   "source": [
    "#### 3.2 The average, median, standard deviation of percentage_fund"
   ]
  },
  {
   "cell_type": "code",
   "execution_count": 135,
   "metadata": {},
   "outputs": [
    {
     "name": "stdout",
     "output_type": "stream",
     "text": [
      "Mean of percentage_fund: 120.4745410748401\n",
      "Standard deviation of percentage_fund: 52.77545554511748\n",
      "Max of percentage_fund: 956.0\n",
      "Min of percentage_fund: 0.0\n",
      "Median of percentage_fund: 107.0\n"
     ]
    }
   ],
   "source": [
    "percentage_fund = pd.concat([s_projects['percentage_fund'],f_projects['percentage_fund']])\n",
    "print('Mean of percentage_fund: {}'.format(percentage_fund.mean()))\n",
    "print('Standard deviation of percentage_fund: {}'.format(percentage_fund.std()))\n",
    "print('Max of percentage_fund: {}'.format(percentage_fund.max()))\n",
    "print('Min of percentage_fund: {}'.format(percentage_fund.min()))\n",
    "print('Median of percentage_fund: {}'.format(percentage_fund.median()))"
   ]
  },
  {
   "cell_type": "code",
   "execution_count": 164,
   "metadata": {},
   "outputs": [
    {
     "data": {
      "image/png": "[encoded data removed]",
      "text/plain": [
       "<Figure size 432x288 with 1 Axes>"
      ]
     },
     "metadata": {
      "needs_background": "light"
     },
     "output_type": "display_data"
    }
   ],
   "source": [
    "plt.hist(np.log(percentage_fund[percentage_fund != 0]),bins=50)\n",
    "plt.xlabel('Percentage funded')\n",
    "plt.ylabel('Number of projects')\n",
    "plt.title('Histogram of percentage_fund')\n",
    "plt.show()"
   ]
  },
  {
   "cell_type": "markdown",
   "metadata": {},
   "source": [
    "#### 3.3 The average, median, standard deviation of funded, target"
   ]
  },
  {
   "cell_type": "code",
   "execution_count": 137,
   "metadata": {},
   "outputs": [
    {
     "name": "stdout",
     "output_type": "stream",
     "text": [
      "Mean of funded: 6327.1797491486\n",
      "Standard deviation of funded: 11416.380325185257\n",
      "Max of funded: 444390.0\n",
      "Min of funded: 0.0\n",
      "Median of funded: 4320.0\n"
     ]
    }
   ],
   "source": [
    "funded = pd.concat([s_projects['funded'],f_projects['funded']])\n",
    "print('Mean of funded: {}'.format(funded.mean()))\n",
    "print('Standard deviation of funded: {}'.format(funded.std()))\n",
    "print('Max of funded: {}'.format(funded.max()))\n",
    "print('Min of funded: {}'.format(funded.min()))\n",
    "print('Median of funded: {}'.format(funded.median()))"
   ]
  },
  {
   "cell_type": "code",
   "execution_count": 163,
   "metadata": {},
   "outputs": [
    {
     "data": {
      "image/png": "[encoded data removed]",
      "text/plain": [
       "<Figure size 432x288 with 1 Axes>"
      ]
     },
     "metadata": {
      "needs_background": "light"
     },
     "output_type": "display_data"
    }
   ],
   "source": [
    "plt.hist(np.log(funded[funded != 0]),bins=50)\n",
    "plt.xlabel('Funded money in Euros')\n",
    "plt.ylabel('Number of projects')\n",
    "plt.title('Histogram of funded')\n",
    "plt.show()"
   ]
  },
  {
   "cell_type": "code",
   "execution_count": 144,
   "metadata": {},
   "outputs": [
    {
     "name": "stdout",
     "output_type": "stream",
     "text": [
      "Mean of target: 5316.945178170944\n",
      "Standard deviation of target: 8138.254335788316\n",
      "Max of target: 360000.0\n",
      "Min of target: 5.0\n",
      "Median of target: 4000.0\n"
     ]
    }
   ],
   "source": [
    "target = pd.concat([s_projects['target'],f_projects['target']])\n",
    "print('Mean of target: {}'.format(target.mean()))\n",
    "print('Standard deviation of target: {}'.format(target.std()))\n",
    "print('Max of target: {}'.format(target.max()))\n",
    "print('Min of target: {}'.format(target.min()))\n",
    "print('Median of target: {}'.format(target.median()))"
   ]
  },
  {
   "cell_type": "code",
   "execution_count": 161,
   "metadata": {},
   "outputs": [
    {
     "data": {
      "image/png": "[encoded data removed]",
      "text/plain": [
       "<Figure size 432x288 with 1 Axes>"
      ]
     },
     "metadata": {
      "needs_background": "light"
     },
     "output_type": "display_data"
    }
   ],
   "source": [
    "plt.hist(np.log(target),bins=50)\n",
    "plt.xlabel('Target money in Euros')\n",
    "plt.ylabel('Number of projects')\n",
    "plt.title('Histogram of target')\n",
    "plt.show()"
   ]
  },
  {
   "cell_type": "markdown",
   "metadata": {},
   "source": [
    "#### 3.4 The average, median, standard deviation of backers"
   ]
  },
  {
   "cell_type": "code",
   "execution_count": 140,
   "metadata": {},
   "outputs": [
    {
     "name": "stdout",
     "output_type": "stream",
     "text": [
      "Mean of backers: 97.34927949061662\n",
      "Standard deviation of backers: 205.6162643503152\n",
      "Max of backers: 10266.0\n",
      "Min of backers: 1.0\n",
      "Median of backers: 66.0\n"
     ]
    }
   ],
   "source": [
    "backers = pd.concat([s_projects['backers'],f_projects['backers']])\n",
    "print('Mean of backers: {}'.format(backers.mean()))\n",
    "print('Standard deviation of backers: {}'.format(backers.std()))\n",
    "print('Max of backers: {}'.format(backers.max()))\n",
    "print('Min of backers: {}'.format(backers.min()))\n",
    "print('Median of backers: {}'.format(backers.median()))"
   ]
  },
  {
   "cell_type": "code",
   "execution_count": 160,
   "metadata": {},
   "outputs": [
    {
     "name": "stderr",
     "output_type": "stream",
     "text": [
      "D:\\Anaconda\\Install\\lib\\site-packages\\numpy\\lib\\histograms.py:839: RuntimeWarning: invalid value encountered in greater_equal\n",
      "  keep = (tmp_a >= first_edge)\n",
      "D:\\Anaconda\\Install\\lib\\site-packages\\numpy\\lib\\histograms.py:840: RuntimeWarning: invalid value encountered in less_equal\n",
      "  keep &= (tmp_a <= last_edge)\n"
     ]
    },
    {
     "data": {
      "image/png": "[encoded data removed]",
      "text/plain": [
       "<Figure size 432x288 with 1 Axes>"
      ]
     },
     "metadata": {
      "needs_background": "light"
     },
     "output_type": "display_data"
    }
   ],
   "source": [
    "plt.figure()\n",
    "plt.hist(np.log(backers),bins=50)\n",
    "plt.xlabel('Number of backers')\n",
    "plt.ylabel('Number of projects')\n",
    "plt.title('Histogram of backers')\n",
    "plt.show()"
   ]
  },
  {
   "cell_type": "markdown",
   "metadata": {},
   "source": [
    "#### 3.5 The number of projects that have thumbnail is an jpeg, png, gif, or svg"
   ]
  },
  {
   "cell_type": "code",
   "execution_count": 155,
   "metadata": {},
   "outputs": [
    {
     "name": "stdout",
     "output_type": "stream",
     "text": [
      "The number of projects with jpeg thumbnail: 8560\n",
      "The number of projects with png thumbnail: 2582\n",
      "The number of projects with gif thumbnail: 497\n",
      "The number of projects with svg thumbnail: 1\n"
     ]
    }
   ],
   "source": [
    "thumbnail_type = pd.concat([s_projects['thumbnail_type'],f_projects['thumbnail_type']])\n",
    "print('The number of projects with jpeg thumbnail: {}'.format(len(thumbnail_type[(thumbnail_type == 'jpg') | (thumbnail_type == 'jpg')])))\n",
    "print('The number of projects with png thumbnail: {}'.format(len(thumbnail_type[thumbnail_type == 'png'])))\n",
    "print('The number of projects with gif thumbnail: {}'.format(len(thumbnail_type[thumbnail_type == 'gif'])))\n",
    "print('The number of projects with svg thumbnail: {}'.format(len(thumbnail_type[thumbnail_type == 'svg'])))\n"
   ]
  },
  {
   "cell_type": "markdown",
   "metadata": {},
   "source": [
    "#### 3.6 The average, median, standard deviation of the number of rewards"
   ]
  },
  {
   "cell_type": "code",
   "execution_count": 157,
   "metadata": {},
   "outputs": [
    {
     "name": "stdout",
     "output_type": "stream",
     "text": [
      "Mean of number_rewards: 8.560096353517734\n",
      "Standard deviation of number_rewards: 4.15237948434103\n",
      "Max of number_rewards: 143.0\n",
      "Min of number_rewards: 0.0\n",
      "Median of number_rewards: 8.0\n"
     ]
    }
   ],
   "source": [
    "number_rewards = pd.concat([s_projects['number_rewards'],f_projects['number_rewards']])\n",
    "print('Mean of number_rewards: {}'.format(number_rewards.mean()))\n",
    "print('Standard deviation of number_rewards: {}'.format(number_rewards.std()))\n",
    "print('Max of number_rewards: {}'.format(number_rewards.max()))\n",
    "print('Min of number_rewards: {}'.format(number_rewards.min()))\n",
    "print('Median of number_rewards: {}'.format(number_rewards.median()))"
   ]
  },
  {
   "cell_type": "markdown",
   "metadata": {},
   "source": [
    "#### 3.7 The average, median, standard deviation of the number of comments"
   ]
  },
  {
   "cell_type": "code",
   "execution_count": 159,
   "metadata": {},
   "outputs": [
    {
     "name": "stdout",
     "output_type": "stream",
     "text": [
      "Mean of num_comments: 19.595398288894426\n",
      "Standard deviation of num_comments: 50.22404711104708\n",
      "Max of num_comments: 4394.0\n",
      "Min of num_comments: 0.0\n",
      "Median of num_comments: 13.0\n"
     ]
    }
   ],
   "source": [
    "num_comments = pd.concat([s_projects['num_comments'],f_projects['num_comments']])\n",
    "print('Mean of num_comments: {}'.format(num_comments.mean()))\n",
    "print('Standard deviation of num_comments: {}'.format(num_comments.std()))\n",
    "print('Max of num_comments: {}'.format(num_comments.max()))\n",
    "print('Min of num_comments: {}'.format(num_comments.min()))\n",
    "print('Median of num_comments: {}'.format(num_comments.median()))"
   ]
  },
  {
   "cell_type": "markdown",
   "metadata": {},
   "source": [
    "#### 3.8 The number of words in each text, the most frequent words, the number of spelling errors"
   ]
  },
  {
   "cell_type": "code",
   "execution_count": null,
   "metadata": {},
   "outputs": [],
   "source": []
  },
  {
   "cell_type": "markdown",
   "metadata": {},
   "source": [
    "### 4. Analysis"
   ]
  },
  {
   "cell_type": "markdown",
   "metadata": {},
   "source": [
    "#### 4.1 Tables"
   ]
  },
  {
   "cell_type": "markdown",
   "metadata": {},
   "source": [
    "##### 4.1.1 The number of successful and failed projects by year & The number of projects that have subcategories by year\n"
   ]
  },
  {
   "cell_type": "code",
   "execution_count": null,
   "metadata": {},
   "outputs": [],
   "source": []
  },
  {
   "cell_type": "markdown",
   "metadata": {},
   "source": [
    "##### 4.1.2 The average number of comments regarding the language"
   ]
  },
  {
   "cell_type": "code",
   "execution_count": null,
   "metadata": {},
   "outputs": [],
   "source": []
  },
  {
   "cell_type": "markdown",
   "metadata": {},
   "source": [
    "##### 4.1.3 Comparing 2020 with other years, due to COVID 19:"
   ]
  },
  {
   "cell_type": "code",
   "execution_count": null,
   "metadata": {},
   "outputs": [],
   "source": []
  },
  {
   "cell_type": "markdown",
   "metadata": {},
   "source": [
    "#### 4.2 Graphs"
   ]
  },
  {
   "cell_type": "markdown",
   "metadata": {},
   "source": [
    "##### 4.2.1 Bar chart: The number of successful and failed projects for each language\n"
   ]
  },
  {
   "cell_type": "code",
   "execution_count": null,
   "metadata": {},
   "outputs": [],
   "source": []
  },
  {
   "cell_type": "markdown",
   "metadata": {},
   "source": [
    "##### 4.2.2 Bar chart, line: Total funded by year, a total of successful projects per year"
   ]
  },
  {
   "cell_type": "code",
   "execution_count": null,
   "metadata": {},
   "outputs": [],
   "source": []
  },
  {
   "cell_type": "markdown",
   "metadata": {},
   "source": [
    "##### 4.2.3 Bar chart: The number of backers per year"
   ]
  },
  {
   "cell_type": "code",
   "execution_count": null,
   "metadata": {},
   "outputs": [],
   "source": []
  },
  {
   "cell_type": "markdown",
   "metadata": {},
   "source": [
    "##### 4.2.4 Correlation map"
   ]
  },
  {
   "cell_type": "code",
   "execution_count": null,
   "metadata": {},
   "outputs": [],
   "source": []
  },
  {
   "cell_type": "markdown",
   "metadata": {},
   "source": [
    "#### 4.3 Linear Regression"
   ]
  },
  {
   "cell_type": "markdown",
   "metadata": {},
   "source": [
    "##### 4.3.1 y = percentage_fund, x = the remaining features, except: pro_link, title, is_successful, end_date, num_contributions, and creater_link"
   ]
  },
  {
   "cell_type": "code",
   "execution_count": null,
   "metadata": {},
   "outputs": [],
   "source": []
  },
  {
   "cell_type": "markdown",
   "metadata": {},
   "source": [
    "##### 4.3.2 y = is_successful, x = the remaining features, except: pro_link, title, percentage_fund, end_date, num_contributions, and creater_link\n"
   ]
  },
  {
   "cell_type": "code",
   "execution_count": null,
   "metadata": {},
   "outputs": [],
   "source": []
  },
  {
   "cell_type": "markdown",
   "metadata": {},
   "source": [
    "##### 4.3.3 y = num_backers, x = price, min_price, max_price, has_media"
   ]
  },
  {
   "cell_type": "code",
   "execution_count": null,
   "metadata": {},
   "outputs": [],
   "source": []
  },
  {
   "cell_type": "markdown",
   "metadata": {},
   "source": [
    "##### 4.3.4 y = percentage_fund, x = num_created, num_backed, num_follwed"
   ]
  },
  {
   "cell_type": "code",
   "execution_count": null,
   "metadata": {},
   "outputs": [],
   "source": []
  }
 ],
 "metadata": {
  "kernelspec": {
   "display_name": "Python 3",
   "language": "python",
   "name": "python3"
  },
  "language_info": {
   "codemirror_mode": {
    "name": "ipython",
    "version": 3
   },
   "file_extension": ".py",
   "mimetype": "text/x-python",
   "name": "python",
   "nbconvert_exporter": "python",
   "pygments_lexer": "ipython3",
   "version": "3.8.3"
  }
 },
 "nbformat": 4,
 "nbformat_minor": 4
}
