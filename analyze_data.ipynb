{
 "cells": [
  {
   "cell_type": "markdown",
   "metadata": {},
   "source": [
    "### 1. Import packages"
   ]
  },
  {
   "cell_type": "code",
   "execution_count": 2,
   "metadata": {},
   "outputs": [],
   "source": [
    "import numpy as np\n",
    "import pandas as pd\n",
    "import matplotlib.pyplot as plt"
   ]
  },
  {
   "cell_type": "markdown",
   "metadata": {},
   "source": [
    "### 2. Load data"
   ]
  },
  {
   "cell_type": "code",
   "execution_count": 60,
   "metadata": {},
   "outputs": [],
   "source": [
    "# Load cleaned successful data\n",
    "s_projects = pd.read_csv('./data/projects/projects_cleaned.csv')\n",
    "s_rewards = pd.read_csv('./data/rewards/rewards_cleaned.csv')\n",
    "s_creaters = pd.read_csv('./data/creaters/creaters_cleaned.csv')\n",
    "\n",
    "# Clear two unamed columns\n",
    "s_projects.drop('Unnamed: 0', inplace = True, axis=1)\n",
    "s_rewards.drop('Unnamed: 0', inplace = True, axis=1)\n",
    "s_creaters.drop('Unnamed: 0', inplace = True, axis=1)\n",
    "\n",
    "# Drop duplicates\n",
    "s_projects = s_projects.drop_duplicates()\n",
    "s_creaters = s_creaters.drop_duplicates()\n",
    "s_rewards = s_rewards.drop_duplicates()\n"
   ]
  },
  {
   "cell_type": "code",
   "execution_count": 62,
   "metadata": {},
   "outputs": [],
   "source": [
    "# Load cleaned failed data\n",
    "f_projects = pd.read_csv('./data/failed/projects_cleaned.csv')\n",
    "f_rewards = pd.read_csv('./data/failed/rewards.csv')\n",
    "f_creaters = pd.read_csv('./data/failed/creaters.csv')\n",
    "\n",
    "# Clear two unamed columns\n",
    "f_projects.drop('Unnamed: 0', inplace = True, axis=1)\n",
    "f_rewards.drop('Unnamed: 0', inplace = True, axis=1)\n",
    "f_creaters.drop('Unnamed: 0', inplace = True, axis=1)\n",
    "\n",
    "# Filter some successful projects\n",
    "filter_ = f_projects[f_projects['status'] == 'Successful']\n",
    "s_links = filter_[['pro_link','creater_link']]\n",
    "f_projects = f_projects[f_projects['status'] == 'Failed']\n",
    "for _,l in s_links.iterrows():\n",
    "    f_rewards = f_rewards[f_rewards['pro_link'] != l['pro_link']]\n",
    "    f_creaters = f_creaters[f_creaters['creater_link'] != l['creater_link']]\n",
    "\n",
    "# Drop duplicates\n",
    "f_projects = f_projects.drop_duplicates()\n",
    "f_creaters = f_creaters.drop_duplicates()\n",
    "f_rewards = f_rewards.drop_duplicates()\n"
   ]
  },
  {
   "cell_type": "code",
   "execution_count": null,
   "metadata": {},
   "outputs": [],
   "source": [
    "f_creaters"
   ]
  },
  {
   "cell_type": "markdown",
   "metadata": {},
   "source": [
    "### 3. Data descriptions"
   ]
  },
  {
   "cell_type": "markdown",
   "metadata": {},
   "source": [
    "#### 3.1 Number of projects, rewards, creators we have, both successful and failed"
   ]
  },
  {
   "cell_type": "code",
   "execution_count": 63,
   "metadata": {},
   "outputs": [
    {
     "name": "stdout",
     "output_type": "stream",
     "text": [
      "The number of successful projects: 11843\n",
      "The number of successful rewards: 110993\n",
      "The number of successful creaters: 11181\n",
      "The number of failed projects: 221\n",
      "The number of failed rewards: 1535\n",
      "The number of failed creaters: 220\n"
     ]
    }
   ],
   "source": [
    "print('The number of successful projects: {}'.format(s_projects.shape[0]))\n",
    "print('The number of successful rewards: {}'.format(s_rewards.shape[0]))\n",
    "print('The number of successful creaters: {}'.format(s_creaters.shape[0]))\n",
    "\n",
    "print('The number of failed projects: {}'.format(f_projects.shape[0]))\n",
    "print('The number of failed rewards: {}'.format(f_rewards.shape[0]))\n",
    "print('The number of failed creaters: {}'.format(f_creaters.shape[0]))"
   ]
  },
  {
   "cell_type": "markdown",
   "metadata": {},
   "source": [
    "#### 3.2 The average, median, standard deviation of percentage_fund"
   ]
  },
  {
   "cell_type": "code",
   "execution_count": null,
   "metadata": {},
   "outputs": [],
   "source": []
  },
  {
   "cell_type": "markdown",
   "metadata": {},
   "source": [
    "#### 3.3 The average, median, standard deviation of funded, target"
   ]
  },
  {
   "cell_type": "code",
   "execution_count": null,
   "metadata": {},
   "outputs": [],
   "source": []
  },
  {
   "cell_type": "markdown",
   "metadata": {},
   "source": [
    "#### 3.4 The average, median, standard deviation of backers"
   ]
  },
  {
   "cell_type": "code",
   "execution_count": null,
   "metadata": {},
   "outputs": [],
   "source": []
  },
  {
   "cell_type": "markdown",
   "metadata": {},
   "source": [
    "#### 3.5 The number of projects that have thumbnail is an image, video, gif"
   ]
  },
  {
   "cell_type": "code",
   "execution_count": null,
   "metadata": {},
   "outputs": [],
   "source": []
  },
  {
   "cell_type": "markdown",
   "metadata": {},
   "source": [
    "#### 3.6 The average, median, standard deviation of the number of rewards"
   ]
  },
  {
   "cell_type": "code",
   "execution_count": null,
   "metadata": {},
   "outputs": [],
   "source": []
  },
  {
   "cell_type": "markdown",
   "metadata": {},
   "source": [
    "#### 3.7 The average, median, standard deviation of the number of comments"
   ]
  },
  {
   "cell_type": "code",
   "execution_count": null,
   "metadata": {},
   "outputs": [],
   "source": []
  },
  {
   "cell_type": "markdown",
   "metadata": {},
   "source": [
    "#### 3.8 The number of words in each text, the most frequent words, the number of spelling errors"
   ]
  },
  {
   "cell_type": "code",
   "execution_count": null,
   "metadata": {},
   "outputs": [],
   "source": []
  },
  {
   "cell_type": "markdown",
   "metadata": {},
   "source": [
    "### 4. Analysis"
   ]
  },
  {
   "cell_type": "markdown",
   "metadata": {},
   "source": [
    "#### 4.1 Tables"
   ]
  },
  {
   "cell_type": "code",
   "execution_count": null,
   "metadata": {},
   "outputs": [],
   "source": []
  },
  {
   "cell_type": "markdown",
   "metadata": {},
   "source": [
    "#### 4.2 Graphs"
   ]
  },
  {
   "cell_type": "code",
   "execution_count": null,
   "metadata": {},
   "outputs": [],
   "source": []
  },
  {
   "cell_type": "markdown",
   "metadata": {},
   "source": [
    "#### 4.3 Linear Regression"
   ]
  },
  {
   "cell_type": "code",
   "execution_count": null,
   "metadata": {},
   "outputs": [],
   "source": []
  }
 ],
 "metadata": {
  "kernelspec": {
   "display_name": "Python 3",
   "language": "python",
   "name": "python3"
  },
  "language_info": {
   "codemirror_mode": {
    "name": "ipython",
    "version": 3
   },
   "file_extension": ".py",
   "mimetype": "text/x-python",
   "name": "python",
   "nbconvert_exporter": "python",
   "pygments_lexer": "ipython3",
   "version": "3.8.3"
  }
 },
 "nbformat": 4,
 "nbformat_minor": 4
}
