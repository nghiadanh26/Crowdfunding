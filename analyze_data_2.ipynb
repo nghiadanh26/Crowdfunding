{
 "cells": [
  {
   "cell_type": "markdown",
   "metadata": {},
   "source": [
    "Our expectations: https://docs.google.com/document/d/1GYsmMG-CwEwakkOSN-LFgtitBdbR00y5iBy99sZl-BU/edit\n",
    "### 1. Import packages"
   ]
  },
  {
   "cell_type": "code",
   "execution_count": 1,
   "metadata": {},
   "outputs": [],
   "source": [
    "import numpy as np\n",
    "import pandas as pd\n",
    "import matplotlib.pyplot as plt\n",
    "import seaborn as sns\n",
    "import statsmodels.api as sm"
   ]
  },
  {
   "cell_type": "markdown",
   "metadata": {},
   "source": [
    "### 2. Load data"
   ]
  },
  {
   "cell_type": "code",
   "execution_count": 2,
   "metadata": {},
   "outputs": [],
   "source": [
    "# Load cleaned successful data\n",
    "s_projects = pd.read_csv('./data/projects/projects_cleaned.csv')\n",
    "s_rewards = pd.read_csv('./data/rewards/rewards_cleaned.csv')\n",
    "s_creaters = pd.read_csv('./data/creaters/creaters_cleaned.csv')\n",
    "\n",
    "# Clear two unamed columns\n",
    "s_projects.drop('Unnamed: 0', inplace = True, axis=1)\n",
    "s_rewards.drop('Unnamed: 0', inplace = True, axis=1)\n",
    "s_creaters.drop('Unnamed: 0', inplace = True, axis=1)\n",
    "\n",
    "# Drop duplicates\n",
    "s_projects = s_projects.drop_duplicates()\n",
    "s_creaters = s_creaters.drop_duplicates()\n",
    "s_rewards = s_rewards.drop_duplicates()\n"
   ]
  },
  {
   "cell_type": "code",
   "execution_count": 3,
   "metadata": {},
   "outputs": [],
   "source": [
    "# Load cleaned failed data\n",
    "f_projects = pd.read_csv('./data/failed/projects_cleaned.csv')\n",
    "f_rewards = pd.read_csv('./data/failed/rewards.csv')\n",
    "f_creaters = pd.read_csv('./data/failed/creaters.csv')\n",
    "\n",
    "# Clear two unamed columns\n",
    "f_projects.drop('Unnamed: 0', inplace = True, axis=1)\n",
    "f_rewards.drop('Unnamed: 0', inplace = True, axis=1)\n",
    "f_creaters.drop('Unnamed: 0', inplace = True, axis=1)\n",
    "\n",
    "# Filter some successful projects\n",
    "filter_ = f_projects[f_projects['status'] == 'Successful']\n",
    "s_links = filter_[['pro_link','creater_link']]\n",
    "f_projects = f_projects[f_projects['status'] == 'Failed']\n",
    "for _,l in s_links.iterrows():\n",
    "    f_rewards = f_rewards[f_rewards['pro_link'] != l['pro_link']]\n",
    "    f_creaters = f_creaters[f_creaters['creater_link'] != l['creater_link']]\n",
    "\n",
    "# Drop duplicates\n",
    "f_projects = f_projects.drop_duplicates()\n",
    "f_creaters = f_creaters.drop_duplicates()\n",
    "f_rewards = f_rewards.drop_duplicates()\n"
   ]
  },
  {
   "cell_type": "markdown",
   "metadata": {},
   "source": [
    "#### Clean data again"
   ]
  },
  {
   "cell_type": "code",
   "execution_count": 4,
   "metadata": {},
   "outputs": [],
   "source": [
    "# Remove outliers of data\n",
    "s_projects = s_projects[s_projects['percentage_fund'] < 1000] # some projects have millions percentage funds\n"
   ]
  },
  {
   "cell_type": "code",
   "execution_count": 5,
   "metadata": {},
   "outputs": [],
   "source": [
    "# Clean backers, because some of them will be greater than 1000, ex: 1,160\n",
    "def clean_backers(backers):\n",
    "    try:\n",
    "        res = float(backers)\n",
    "    except:\n",
    "        res = float(backers.replace(',',''))\n",
    "    return res"
   ]
  },
  {
   "cell_type": "code",
   "execution_count": 6,
   "metadata": {},
   "outputs": [],
   "source": [
    "s_projects['backers'] = s_projects['backers'].apply(lambda x: clean_backers(x))\n",
    "f_projects['backers'] = s_projects['backers'].apply(lambda x: clean_backers(x))\n",
    "s_rewards['num_backers'] = s_rewards['num_backers'].apply(lambda x: clean_backers(x))\n",
    "f_rewards['num_backers'] = s_rewards['num_backers'].apply(lambda x: clean_backers(x))"
   ]
  },
  {
   "cell_type": "code",
   "execution_count": 7,
   "metadata": {},
   "outputs": [],
   "source": [
    "# Change all of thumnail_type to lower case\n",
    "s_projects['thumbnail_type'] = s_projects['thumbnail_type'].apply(lambda x: x.lower())"
   ]
  },
  {
   "cell_type": "code",
   "execution_count": 8,
   "metadata": {},
   "outputs": [
    {
     "data": {
      "text/html": [
       "<div>\n",
       "<style scoped>\n",
       "    .dataframe tbody tr th:only-of-type {\n",
       "        vertical-align: middle;\n",
       "    }\n",
       "\n",
       "    .dataframe tbody tr th {\n",
       "        vertical-align: top;\n",
       "    }\n",
       "\n",
       "    .dataframe thead th {\n",
       "        text-align: right;\n",
       "    }\n",
       "</style>\n",
       "<table border=\"1\" class=\"dataframe\">\n",
       "  <thead>\n",
       "    <tr style=\"text-align: right;\">\n",
       "      <th></th>\n",
       "      <th>backers</th>\n",
       "      <th>creater_link</th>\n",
       "      <th>end_date</th>\n",
       "      <th>funded</th>\n",
       "      <th>language</th>\n",
       "      <th>max_price</th>\n",
       "      <th>min_price</th>\n",
       "      <th>num_comments</th>\n",
       "      <th>num_contributions</th>\n",
       "      <th>num_news</th>\n",
       "      <th>number_rewards</th>\n",
       "      <th>percentage_fund</th>\n",
       "      <th>pro_link</th>\n",
       "      <th>short_des</th>\n",
       "      <th>status</th>\n",
       "      <th>subcategory</th>\n",
       "      <th>target</th>\n",
       "      <th>thumbnail_type</th>\n",
       "      <th>title</th>\n",
       "    </tr>\n",
       "  </thead>\n",
       "  <tbody>\n",
       "    <tr>\n",
       "      <th>0</th>\n",
       "      <td>244.0</td>\n",
       "      <td>https://www.kisskissbankbank.com/en/users/chic...</td>\n",
       "      <td>2018-12-06</td>\n",
       "      <td>13345.0</td>\n",
       "      <td>fr</td>\n",
       "      <td>10001.0</td>\n",
       "      <td>5.0</td>\n",
       "      <td>49.0</td>\n",
       "      <td>244.0</td>\n",
       "      <td>3.0</td>\n",
       "      <td>13.0</td>\n",
       "      <td>111.0</td>\n",
       "      <td>https://www.kisskissbankbank.com/en/projects/c...</td>\n",
       "      <td>aidez, atteindre, 15, 000e, chiche, mobile, no...</td>\n",
       "      <td>Successful</td>\n",
       "      <td>NaN</td>\n",
       "      <td>12000.0</td>\n",
       "      <td>jpg</td>\n",
       "      <td>CHICHE se lance dans le pois chiche chocolaté !</td>\n",
       "    </tr>\n",
       "    <tr>\n",
       "      <th>1</th>\n",
       "      <td>49.0</td>\n",
       "      <td>https://www.kisskissbankbank.com/en/users/van-...</td>\n",
       "      <td>2018-12-06</td>\n",
       "      <td>3848.0</td>\n",
       "      <td>fr</td>\n",
       "      <td>100.0</td>\n",
       "      <td>5.0</td>\n",
       "      <td>6.0</td>\n",
       "      <td>49.0</td>\n",
       "      <td>0.0</td>\n",
       "      <td>4.0</td>\n",
       "      <td>101.0</td>\n",
       "      <td>https://www.kisskissbankbank.com/en/projects/r...</td>\n",
       "      <td>trouver, seul, clic, tous, évènements, automob...</td>\n",
       "      <td>Successful</td>\n",
       "      <td>NaN</td>\n",
       "      <td>3800.0</td>\n",
       "      <td>png</td>\n",
       "      <td>RDV! Le site qui appartient aux passionnés d'a...</td>\n",
       "    </tr>\n",
       "    <tr>\n",
       "      <th>2</th>\n",
       "      <td>823.0</td>\n",
       "      <td>https://www.kisskissbankbank.com/en/users/mc4--2</td>\n",
       "      <td>2018-12-05</td>\n",
       "      <td>47400.0</td>\n",
       "      <td>fr</td>\n",
       "      <td>200.0</td>\n",
       "      <td>5.0</td>\n",
       "      <td>169.0</td>\n",
       "      <td>823.0</td>\n",
       "      <td>7.0</td>\n",
       "      <td>3.0</td>\n",
       "      <td>237.0</td>\n",
       "      <td>https://www.kisskissbankbank.com/en/projects/l...</td>\n",
       "      <td>après, avoir, disparu, pendant, près, 80, ans,...</td>\n",
       "      <td>Successful</td>\n",
       "      <td>NaN</td>\n",
       "      <td>20000.0</td>\n",
       "      <td>jpg</td>\n",
       "      <td>LA MARCHE DES LOUPS</td>\n",
       "    </tr>\n",
       "    <tr>\n",
       "      <th>3</th>\n",
       "      <td>96.0</td>\n",
       "      <td>https://www.kisskissbankbank.com/en/users/baln...</td>\n",
       "      <td>2018-12-05</td>\n",
       "      <td>115.0</td>\n",
       "      <td>fr</td>\n",
       "      <td>1500.0</td>\n",
       "      <td>30.0</td>\n",
       "      <td>24.0</td>\n",
       "      <td>106.0</td>\n",
       "      <td>3.0</td>\n",
       "      <td>11.0</td>\n",
       "      <td>128.0</td>\n",
       "      <td>https://www.kisskissbankbank.com/en/projects/b...</td>\n",
       "      <td>découvrez, marque, balnoir, paris, lancement, ...</td>\n",
       "      <td>Successful</td>\n",
       "      <td>NaN</td>\n",
       "      <td>90.0</td>\n",
       "      <td>png</td>\n",
       "      <td>Balnoir Paris, la parfaite petite robe noire</td>\n",
       "    </tr>\n",
       "    <tr>\n",
       "      <th>4</th>\n",
       "      <td>228.0</td>\n",
       "      <td>https://www.kisskissbankbank.com/en/users/luci...</td>\n",
       "      <td>2018-12-05</td>\n",
       "      <td>20511.0</td>\n",
       "      <td>en</td>\n",
       "      <td>1200.0</td>\n",
       "      <td>5.0</td>\n",
       "      <td>34.0</td>\n",
       "      <td>205.0</td>\n",
       "      <td>18.0</td>\n",
       "      <td>11.0</td>\n",
       "      <td>137.0</td>\n",
       "      <td>https://www.kisskissbankbank.com/en/projects/h...</td>\n",
       "      <td>israeli, palestinian, doctors, work, together,...</td>\n",
       "      <td>Successful</td>\n",
       "      <td>NaN</td>\n",
       "      <td>15000.0</td>\n",
       "      <td>jpg</td>\n",
       "      <td>HEALING HEARTS // UNE HISTOIRE DE COEURS</td>\n",
       "    </tr>\n",
       "  </tbody>\n",
       "</table>\n",
       "</div>"
      ],
      "text/plain": [
       "   backers                                       creater_link    end_date  \\\n",
       "0    244.0  https://www.kisskissbankbank.com/en/users/chic...  2018-12-06   \n",
       "1     49.0  https://www.kisskissbankbank.com/en/users/van-...  2018-12-06   \n",
       "2    823.0   https://www.kisskissbankbank.com/en/users/mc4--2  2018-12-05   \n",
       "3     96.0  https://www.kisskissbankbank.com/en/users/baln...  2018-12-05   \n",
       "4    228.0  https://www.kisskissbankbank.com/en/users/luci...  2018-12-05   \n",
       "\n",
       "    funded language  max_price  min_price  num_comments  num_contributions  \\\n",
       "0  13345.0       fr    10001.0        5.0          49.0              244.0   \n",
       "1   3848.0       fr      100.0        5.0           6.0               49.0   \n",
       "2  47400.0       fr      200.0        5.0         169.0              823.0   \n",
       "3    115.0       fr     1500.0       30.0          24.0              106.0   \n",
       "4  20511.0       en     1200.0        5.0          34.0              205.0   \n",
       "\n",
       "   num_news  number_rewards  percentage_fund  \\\n",
       "0       3.0            13.0            111.0   \n",
       "1       0.0             4.0            101.0   \n",
       "2       7.0             3.0            237.0   \n",
       "3       3.0            11.0            128.0   \n",
       "4      18.0            11.0            137.0   \n",
       "\n",
       "                                            pro_link  \\\n",
       "0  https://www.kisskissbankbank.com/en/projects/c...   \n",
       "1  https://www.kisskissbankbank.com/en/projects/r...   \n",
       "2  https://www.kisskissbankbank.com/en/projects/l...   \n",
       "3  https://www.kisskissbankbank.com/en/projects/b...   \n",
       "4  https://www.kisskissbankbank.com/en/projects/h...   \n",
       "\n",
       "                                           short_des      status subcategory  \\\n",
       "0  aidez, atteindre, 15, 000e, chiche, mobile, no...  Successful         NaN   \n",
       "1  trouver, seul, clic, tous, évènements, automob...  Successful         NaN   \n",
       "2  après, avoir, disparu, pendant, près, 80, ans,...  Successful         NaN   \n",
       "3  découvrez, marque, balnoir, paris, lancement, ...  Successful         NaN   \n",
       "4  israeli, palestinian, doctors, work, together,...  Successful         NaN   \n",
       "\n",
       "    target thumbnail_type                                              title  \n",
       "0  12000.0            jpg    CHICHE se lance dans le pois chiche chocolaté !  \n",
       "1   3800.0            png  RDV! Le site qui appartient aux passionnés d'a...  \n",
       "2  20000.0            jpg                                LA MARCHE DES LOUPS  \n",
       "3     90.0            png       Balnoir Paris, la parfaite petite robe noire  \n",
       "4  15000.0            jpg           HEALING HEARTS // UNE HISTOIRE DE COEURS  "
      ]
     },
     "execution_count": 8,
     "metadata": {},
     "output_type": "execute_result"
    }
   ],
   "source": [
    "s_projects.head()"
   ]
  },
  {
   "cell_type": "markdown",
   "metadata": {},
   "source": [
    "### 3. Data descriptions"
   ]
  },
  {
   "cell_type": "markdown",
   "metadata": {},
   "source": [
    "#### 3.1 Number of projects, rewards, creators we have, both successful and failed"
   ]
  },
  {
   "cell_type": "code",
   "execution_count": 9,
   "metadata": {},
   "outputs": [
    {
     "name": "stdout",
     "output_type": "stream",
     "text": [
      "The number of successful projects: 11818\n",
      "The number of successful rewards: 110993\n",
      "The number of successful creaters: 11181\n",
      "The number of failed projects: 221\n",
      "The number of failed rewards: 1535\n",
      "The number of failed creaters: 220\n"
     ]
    }
   ],
   "source": [
    "print('The number of successful projects: {}'.format(s_projects.shape[0]))\n",
    "print('The number of successful rewards: {}'.format(s_rewards.shape[0]))\n",
    "print('The number of successful creaters: {}'.format(s_creaters.shape[0]))\n",
    "\n",
    "print('The number of failed projects: {}'.format(f_projects.shape[0]))\n",
    "print('The number of failed rewards: {}'.format(f_rewards.shape[0]))\n",
    "print('The number of failed creaters: {}'.format(f_creaters.shape[0]))"
   ]
  },
  {
   "cell_type": "markdown",
   "metadata": {},
   "source": [
    "#### 3.2 The average, median, standard deviation of percentage_fund"
   ]
  },
  {
   "cell_type": "code",
   "execution_count": 10,
   "metadata": {},
   "outputs": [
    {
     "name": "stdout",
     "output_type": "stream",
     "text": [
      "Mean of percentage_fund: 120.4745410748401\n",
      "Standard deviation of percentage_fund: 52.77545554511748\n",
      "Max of percentage_fund: 956.0\n",
      "Min of percentage_fund: 0.0\n",
      "Median of percentage_fund: 107.0\n"
     ]
    }
   ],
   "source": [
    "percentage_fund = pd.concat([s_projects['percentage_fund'],f_projects['percentage_fund']])\n",
    "print('Mean of percentage_fund: {}'.format(percentage_fund.mean()))\n",
    "print('Standard deviation of percentage_fund: {}'.format(percentage_fund.std()))\n",
    "print('Max of percentage_fund: {}'.format(percentage_fund.max()))\n",
    "print('Min of percentage_fund: {}'.format(percentage_fund.min()))\n",
    "print('Median of percentage_fund: {}'.format(percentage_fund.median()))"
   ]
  },
  {
   "cell_type": "code",
   "execution_count": 11,
   "metadata": {},
   "outputs": [
    {
     "data": {
      "image/png": "[encoded data removed]",
      "text/plain": [
       "<Figure size 432x288 with 1 Axes>"
      ]
     },
     "metadata": {
      "needs_background": "light"
     },
     "output_type": "display_data"
    }
   ],
   "source": [
    "plt.hist(np.log(percentage_fund[percentage_fund != 0]),bins=50)\n",
    "plt.xlabel('Percentage funded')\n",
    "plt.ylabel('Number of projects')\n",
    "plt.title('Histogram of percentage_fund')\n",
    "plt.show()"
   ]
  },
  {
   "cell_type": "markdown",
   "metadata": {},
   "source": [
    "#### 3.3 The average, median, standard deviation of funded, target"
   ]
  },
  {
   "cell_type": "code",
   "execution_count": 15,
   "metadata": {},
   "outputs": [
    {
     "name": "stdout",
     "output_type": "stream",
     "text": [
      "Mean of funded: 6327.1797491486\n",
      "Standard deviation of funded: 11416.380325185257\n",
      "Max of funded: 444390.0\n",
      "Min of funded: 0.0\n",
      "Median of funded: 4320.0\n"
     ]
    }
   ],
   "source": [
    "funded = pd.concat([s_projects['funded'],f_projects['funded']])\n",
    "s_funded = s_projects['funded']\n",
    "f_funded = f_projects['funded']\n",
    "print('Mean of funded: {}'.format(funded.mean()))\n",
    "print('Standard deviation of funded: {}'.format(funded.std()))\n",
    "print('Max of funded: {}'.format(funded.max()))\n",
    "print('Min of funded: {}'.format(funded.min()))\n",
    "print('Median of funded: {}'.format(funded.median()))"
   ]
  },
  {
   "cell_type": "code",
   "execution_count": 28,
   "metadata": {},
   "outputs": [
    {
     "data": {
      "image/png": "[encoded data removed]",
      "text/plain": [
       "<Figure size 288x360 with 1 Axes>"
      ]
     },
     "metadata": {
      "needs_background": "light"
     },
     "output_type": "display_data"
    }
   ],
   "source": [
    "plt.figure(figsize=(4,5))\n",
    "plt.hist(s_funded[s_funded <= 25000],color = 'green', label = 'successful', bins=8)\n",
    "plt.hist(f_funded[f_funded <= 25000],color = 'red', label = 'failed', bins=8)\n",
    "plt.xlabel('Funded money in Euros')\n",
    "plt.ylabel('Number of projects')\n",
    "plt.title('Histogram of funded')\n",
    "plt.legend()\n",
    "plt.show()"
   ]
  },
  {
   "cell_type": "code",
   "execution_count": 29,
   "metadata": {},
   "outputs": [
    {
     "name": "stdout",
     "output_type": "stream",
     "text": [
      "Mean of target: 5316.945178170944\n",
      "Standard deviation of target: 8138.254335788316\n",
      "Max of target: 360000.0\n",
      "Min of target: 5.0\n",
      "Median of target: 4000.0\n"
     ]
    }
   ],
   "source": [
    "target = pd.concat([s_projects['target'],f_projects['target']])\n",
    "s_target = s_projects['target']\n",
    "f_target = f_projects['target']\n",
    "print('Mean of target: {}'.format(target.mean()))\n",
    "print('Standard deviation of target: {}'.format(target.std()))\n",
    "print('Max of target: {}'.format(target.max()))\n",
    "print('Min of target: {}'.format(target.min()))\n",
    "print('Median of target: {}'.format(target.median()))"
   ]
  },
  {
   "cell_type": "code",
   "execution_count": 32,
   "metadata": {},
   "outputs": [
    {
     "data": {
      "image/png": "[encoded data removed]",
      "text/plain": [
       "<Figure size 288x360 with 1 Axes>"
      ]
     },
     "metadata": {
      "needs_background": "light"
     },
     "output_type": "display_data"
    }
   ],
   "source": [
    "plt.figure(figsize=(4,5))\n",
    "plt.hist(s_target[s_target <= 50000],color = 'green', label = 'successful', bins=8)\n",
    "plt.hist(f_target[f_target <= 50000],color = 'red', label = 'failed', bins=8)\n",
    "plt.xlabel('Target money in Euros')\n",
    "plt.ylabel('Number of projects')\n",
    "plt.title('Histogram of target')\n",
    "plt.legend()\n",
    "plt.show()"
   ]
  },
  {
   "cell_type": "markdown",
   "metadata": {},
   "source": [
    "#### 3.4 The average, median, standard deviation of backers"
   ]
  },
  {
   "cell_type": "code",
   "execution_count": 34,
   "metadata": {},
   "outputs": [
    {
     "name": "stdout",
     "output_type": "stream",
     "text": [
      "Mean of backers: 97.34927949061662\n",
      "Standard deviation of backers: 205.6162643503152\n",
      "Max of backers: 10266.0\n",
      "Min of backers: 1.0\n",
      "Median of backers: 66.0\n"
     ]
    }
   ],
   "source": [
    "backers = pd.concat([s_projects['backers'],f_projects['backers']])\n",
    "print('Mean of backers: {}'.format(backers.mean()))\n",
    "print('Standard deviation of backers: {}'.format(backers.std()))\n",
    "print('Max of backers: {}'.format(backers.max()))\n",
    "print('Min of backers: {}'.format(backers.min()))\n",
    "print('Median of backers: {}'.format(backers.median()))"
   ]
  },
  {
   "cell_type": "code",
   "execution_count": 35,
   "metadata": {},
   "outputs": [
    {
     "name": "stderr",
     "output_type": "stream",
     "text": [
      "D:\\Anaconda\\Install\\lib\\site-packages\\numpy\\lib\\histograms.py:839: RuntimeWarning: invalid value encountered in greater_equal\n",
      "  keep = (tmp_a >= first_edge)\n",
      "D:\\Anaconda\\Install\\lib\\site-packages\\numpy\\lib\\histograms.py:840: RuntimeWarning: invalid value encountered in less_equal\n",
      "  keep &= (tmp_a <= last_edge)\n"
     ]
    },
    {
     "data": {
      "image/png": "[encoded data removed]",
      "text/plain": [
       "<Figure size 432x288 with 1 Axes>"
      ]
     },
     "metadata": {
      "needs_background": "light"
     },
     "output_type": "display_data"
    }
   ],
   "source": [
    "plt.figure()\n",
    "plt.hist(np.log(backers),bins=50)\n",
    "plt.xlabel('Number of backers')\n",
    "plt.ylabel('Number of projects')\n",
    "plt.title('Histogram of backers')\n",
    "plt.show()"
   ]
  },
  {
   "cell_type": "markdown",
   "metadata": {},
   "source": [
    "#### 3.5 The number of projects that have thumbnail is an jpeg, png, gif, or svg"
   ]
  },
  {
   "cell_type": "code",
   "execution_count": 36,
   "metadata": {},
   "outputs": [
    {
     "name": "stdout",
     "output_type": "stream",
     "text": [
      "The number of projects with jpeg thumbnail: 8560\n",
      "The number of projects with png thumbnail: 2582\n",
      "The number of projects with gif thumbnail: 497\n",
      "The number of projects with svg thumbnail: 1\n"
     ]
    }
   ],
   "source": [
    "thumbnail_type = pd.concat([s_projects['thumbnail_type'],f_projects['thumbnail_type']])\n",
    "print('The number of projects with jpeg thumbnail: {}'.format(len(thumbnail_type[(thumbnail_type == 'jpg') | (thumbnail_type == 'jpg')])))\n",
    "print('The number of projects with png thumbnail: {}'.format(len(thumbnail_type[thumbnail_type == 'png'])))\n",
    "print('The number of projects with gif thumbnail: {}'.format(len(thumbnail_type[thumbnail_type == 'gif'])))\n",
    "print('The number of projects with svg thumbnail: {}'.format(len(thumbnail_type[thumbnail_type == 'svg'])))\n"
   ]
  },
  {
   "cell_type": "markdown",
   "metadata": {},
   "source": [
    "#### 3.6 The average, median, standard deviation of the number of rewards"
   ]
  },
  {
   "cell_type": "code",
   "execution_count": 37,
   "metadata": {},
   "outputs": [
    {
     "name": "stdout",
     "output_type": "stream",
     "text": [
      "Mean of number_rewards: 8.560096353517734\n",
      "Standard deviation of number_rewards: 4.15237948434103\n",
      "Max of number_rewards: 143.0\n",
      "Min of number_rewards: 0.0\n",
      "Median of number_rewards: 8.0\n"
     ]
    }
   ],
   "source": [
    "number_rewards = pd.concat([s_projects['number_rewards'],f_projects['number_rewards']])\n",
    "print('Mean of number_rewards: {}'.format(number_rewards.mean()))\n",
    "print('Standard deviation of number_rewards: {}'.format(number_rewards.std()))\n",
    "print('Max of number_rewards: {}'.format(number_rewards.max()))\n",
    "print('Min of number_rewards: {}'.format(number_rewards.min()))\n",
    "print('Median of number_rewards: {}'.format(number_rewards.median()))"
   ]
  },
  {
   "cell_type": "markdown",
   "metadata": {},
   "source": [
    "#### 3.7 The average, median, standard deviation of the number of comments"
   ]
  },
  {
   "cell_type": "code",
   "execution_count": 38,
   "metadata": {},
   "outputs": [
    {
     "name": "stdout",
     "output_type": "stream",
     "text": [
      "Mean of num_comments: 19.595398288894426\n",
      "Standard deviation of num_comments: 50.22404711104708\n",
      "Max of num_comments: 4394.0\n",
      "Min of num_comments: 0.0\n",
      "Median of num_comments: 13.0\n"
     ]
    }
   ],
   "source": [
    "num_comments = pd.concat([s_projects['num_comments'],f_projects['num_comments']])\n",
    "print('Mean of num_comments: {}'.format(num_comments.mean()))\n",
    "print('Standard deviation of num_comments: {}'.format(num_comments.std()))\n",
    "print('Max of num_comments: {}'.format(num_comments.max()))\n",
    "print('Min of num_comments: {}'.format(num_comments.min()))\n",
    "print('Median of num_comments: {}'.format(num_comments.median()))"
   ]
  },
  {
   "cell_type": "markdown",
   "metadata": {},
   "source": [
    "#### 3.8 The number of words in each text, the most frequent words, the number of spelling errors"
   ]
  },
  {
   "cell_type": "code",
   "execution_count": null,
   "metadata": {},
   "outputs": [],
   "source": []
  },
  {
   "cell_type": "markdown",
   "metadata": {},
   "source": [
    "### 4. Analysis"
   ]
  },
  {
   "cell_type": "markdown",
   "metadata": {},
   "source": [
    "#### 4.1 Tables"
   ]
  },
  {
   "cell_type": "markdown",
   "metadata": {},
   "source": [
    "##### 4.1.1 Analyse data by years\n"
   ]
  },
  {
   "cell_type": "code",
   "execution_count": 39,
   "metadata": {},
   "outputs": [],
   "source": [
    "by_year = pd.concat([s_projects,f_projects])[['percentage_fund','funded','backers','subcategory','end_date']]\n",
    "years = []\n",
    "for i, p in by_year.iterrows():\n",
    "    try:\n",
    "        num_cate = len(p['subcategory'].split(','))\n",
    "    except:\n",
    "        num_cate = 0\n",
    "    years.append([\n",
    "        p['end_date'].split('-')[0],\n",
    "        p['percentage_fund'],\n",
    "        p['funded'],\n",
    "        p['backers'],\n",
    "        num_cate\n",
    "    ])\n",
    "cols = ['year','percentage_fund','funded','backers','num_subcategories']\n",
    "years_df = pd.DataFrame(years,columns=cols)\n",
    "\n"
   ]
  },
  {
   "cell_type": "code",
   "execution_count": 40,
   "metadata": {},
   "outputs": [
    {
     "data": {
      "text/html": [
       "<div>\n",
       "<style scoped>\n",
       "    .dataframe tbody tr th:only-of-type {\n",
       "        vertical-align: middle;\n",
       "    }\n",
       "\n",
       "    .dataframe tbody tr th {\n",
       "        vertical-align: top;\n",
       "    }\n",
       "\n",
       "    .dataframe thead th {\n",
       "        text-align: right;\n",
       "    }\n",
       "</style>\n",
       "<table border=\"1\" class=\"dataframe\">\n",
       "  <thead>\n",
       "    <tr style=\"text-align: right;\">\n",
       "      <th></th>\n",
       "      <th>year</th>\n",
       "      <th>num_projects</th>\n",
       "      <th>num_successful</th>\n",
       "      <th>num_failed</th>\n",
       "      <th>num_has_sub_cate</th>\n",
       "    </tr>\n",
       "  </thead>\n",
       "  <tbody>\n",
       "    <tr>\n",
       "      <th>11</th>\n",
       "      <td>2010</td>\n",
       "      <td>11</td>\n",
       "      <td>11</td>\n",
       "      <td>0</td>\n",
       "      <td>0</td>\n",
       "    </tr>\n",
       "    <tr>\n",
       "      <th>10</th>\n",
       "      <td>2011</td>\n",
       "      <td>48</td>\n",
       "      <td>47</td>\n",
       "      <td>1</td>\n",
       "      <td>0</td>\n",
       "    </tr>\n",
       "    <tr>\n",
       "      <th>9</th>\n",
       "      <td>2012</td>\n",
       "      <td>156</td>\n",
       "      <td>153</td>\n",
       "      <td>3</td>\n",
       "      <td>0</td>\n",
       "    </tr>\n",
       "    <tr>\n",
       "      <th>8</th>\n",
       "      <td>2013</td>\n",
       "      <td>695</td>\n",
       "      <td>676</td>\n",
       "      <td>19</td>\n",
       "      <td>0</td>\n",
       "    </tr>\n",
       "    <tr>\n",
       "      <th>7</th>\n",
       "      <td>2014</td>\n",
       "      <td>1377</td>\n",
       "      <td>1346</td>\n",
       "      <td>31</td>\n",
       "      <td>2</td>\n",
       "    </tr>\n",
       "    <tr>\n",
       "      <th>6</th>\n",
       "      <td>2015</td>\n",
       "      <td>1462</td>\n",
       "      <td>1420</td>\n",
       "      <td>42</td>\n",
       "      <td>2</td>\n",
       "    </tr>\n",
       "    <tr>\n",
       "      <th>5</th>\n",
       "      <td>2016</td>\n",
       "      <td>1563</td>\n",
       "      <td>1546</td>\n",
       "      <td>17</td>\n",
       "      <td>1</td>\n",
       "    </tr>\n",
       "    <tr>\n",
       "      <th>4</th>\n",
       "      <td>2017</td>\n",
       "      <td>1359</td>\n",
       "      <td>1337</td>\n",
       "      <td>22</td>\n",
       "      <td>3</td>\n",
       "    </tr>\n",
       "    <tr>\n",
       "      <th>0</th>\n",
       "      <td>2018</td>\n",
       "      <td>1909</td>\n",
       "      <td>1865</td>\n",
       "      <td>44</td>\n",
       "      <td>5</td>\n",
       "    </tr>\n",
       "    <tr>\n",
       "      <th>1</th>\n",
       "      <td>2019</td>\n",
       "      <td>1833</td>\n",
       "      <td>1807</td>\n",
       "      <td>26</td>\n",
       "      <td>44</td>\n",
       "    </tr>\n",
       "    <tr>\n",
       "      <th>3</th>\n",
       "      <td>2020</td>\n",
       "      <td>1469</td>\n",
       "      <td>1452</td>\n",
       "      <td>17</td>\n",
       "      <td>1305</td>\n",
       "    </tr>\n",
       "    <tr>\n",
       "      <th>2</th>\n",
       "      <td>2021</td>\n",
       "      <td>157</td>\n",
       "      <td>157</td>\n",
       "      <td>0</td>\n",
       "      <td>146</td>\n",
       "    </tr>\n",
       "  </tbody>\n",
       "</table>\n",
       "</div>"
      ],
      "text/plain": [
       "    year  num_projects  num_successful  num_failed  num_has_sub_cate\n",
       "11  2010            11              11           0                 0\n",
       "10  2011            48              47           1                 0\n",
       "9   2012           156             153           3                 0\n",
       "8   2013           695             676          19                 0\n",
       "7   2014          1377            1346          31                 2\n",
       "6   2015          1462            1420          42                 2\n",
       "5   2016          1563            1546          17                 1\n",
       "4   2017          1359            1337          22                 3\n",
       "0   2018          1909            1865          44                 5\n",
       "1   2019          1833            1807          26                44\n",
       "3   2020          1469            1452          17              1305\n",
       "2   2021           157             157           0               146"
      ]
     },
     "execution_count": 40,
     "metadata": {},
     "output_type": "execute_result"
    }
   ],
   "source": [
    "l_year = years_df['year'].drop_duplicates()\n",
    "res_year = []\n",
    "for _,y in l_year.iteritems():\n",
    "    yi = years_df[years_df['year'] == y]\n",
    "    res_year.append([\n",
    "        y,\n",
    "        len(yi),\n",
    "        len(yi[yi['percentage_fund'] >= 100]),\n",
    "        len(yi[yi['percentage_fund'] < 100]),\n",
    "        len(yi[yi['num_subcategories'] > 0])\n",
    "    ])\n",
    "res_year_df = pd.DataFrame(res_year, columns=['year','num_projects','num_successful', 'num_failed','num_has_sub_cate'])\n",
    "res_year_df = res_year_df.sort_values(by='year')\n",
    "res_year_df"
   ]
  },
  {
   "cell_type": "code",
   "execution_count": 41,
   "metadata": {},
   "outputs": [
    {
     "data": {
      "text/plain": [
       "Text(0.5, 1.0, 'The change of number of projects over years, from 2010 to 2021')"
      ]
     },
     "execution_count": 41,
     "metadata": {},
     "output_type": "execute_result"
    },
    {
     "data": {
      "image/png": "[encoded data removed]",
      "text/plain": [
       "<Figure size 1080x432 with 1 Axes>"
      ]
     },
     "metadata": {
      "needs_background": "light"
     },
     "output_type": "display_data"
    }
   ],
   "source": [
    "plt.figure(figsize=(15,6))\n",
    "plt.bar(res_year_df['year'],res_year_df['num_projects'])\n",
    "plt.xlabel('Number of projects')\n",
    "plt.ylabel('Years')\n",
    "plt.title('The change of number of projects over years, from 2010 to 2021')"
   ]
  },
  {
   "cell_type": "code",
   "execution_count": 42,
   "metadata": {},
   "outputs": [
    {
     "data": {
      "text/plain": [
       "Text(0.5, 1.0, 'The change of number of failed projects \\n over years, from 2010 to 2021')"
      ]
     },
     "execution_count": 42,
     "metadata": {},
     "output_type": "execute_result"
    },
    {
     "data": {
      "image/png": "[encoded data removed]",
      "text/plain": [
       "<Figure size 1080x432 with 2 Axes>"
      ]
     },
     "metadata": {
      "needs_background": "light"
     },
     "output_type": "display_data"
    }
   ],
   "source": [
    "fig = plt.figure(figsize=(15,6))\n",
    "fig1 = fig.add_subplot(1,2,1)\n",
    "plt.bar(res_year_df['year'],res_year_df['num_successful'], color='green')\n",
    "plt.xlabel('Number of projects')\n",
    "plt.ylabel('Years')\n",
    "plt.title('The change of number of successful projects \\n over years, from 2010 to 2021')\n",
    "\n",
    "fig2 = fig.add_subplot(1,2,2)\n",
    "plt.bar(res_year_df['year'],res_year_df['num_failed'], color='gray')\n",
    "plt.xlabel('Number of projects')\n",
    "plt.ylabel('Years')\n",
    "plt.title('The change of number of failed projects \\n over years, from 2010 to 2021')"
   ]
  },
  {
   "cell_type": "markdown",
   "metadata": {},
   "source": [
    "##### 4.1.2 The average number of comments, number of projects, average funded regarding the top 5 most popular language"
   ]
  },
  {
   "cell_type": "code",
   "execution_count": 43,
   "metadata": {},
   "outputs": [
    {
     "data": {
      "text/html": [
       "<div>\n",
       "<style scoped>\n",
       "    .dataframe tbody tr th:only-of-type {\n",
       "        vertical-align: middle;\n",
       "    }\n",
       "\n",
       "    .dataframe tbody tr th {\n",
       "        vertical-align: top;\n",
       "    }\n",
       "\n",
       "    .dataframe thead th {\n",
       "        text-align: right;\n",
       "    }\n",
       "</style>\n",
       "<table border=\"1\" class=\"dataframe\">\n",
       "  <thead>\n",
       "    <tr style=\"text-align: right;\">\n",
       "      <th></th>\n",
       "      <th>language</th>\n",
       "      <th>num_projects</th>\n",
       "      <th>avg_percentage_fund</th>\n",
       "      <th>avg_funded</th>\n",
       "      <th>avg_backers</th>\n",
       "      <th>avg_comments</th>\n",
       "    </tr>\n",
       "  </thead>\n",
       "  <tbody>\n",
       "    <tr>\n",
       "      <th>0</th>\n",
       "      <td>fr</td>\n",
       "      <td>9564</td>\n",
       "      <td>120.076</td>\n",
       "      <td>5974.530</td>\n",
       "      <td>94.623</td>\n",
       "      <td>19.199</td>\n",
       "    </tr>\n",
       "    <tr>\n",
       "      <th>1</th>\n",
       "      <td>en</td>\n",
       "      <td>1915</td>\n",
       "      <td>120.703</td>\n",
       "      <td>8445.865</td>\n",
       "      <td>115.629</td>\n",
       "      <td>23.144</td>\n",
       "    </tr>\n",
       "    <tr>\n",
       "      <th>2</th>\n",
       "      <td>de</td>\n",
       "      <td>148</td>\n",
       "      <td>122.703</td>\n",
       "      <td>5319.574</td>\n",
       "      <td>75.276</td>\n",
       "      <td>13.351</td>\n",
       "    </tr>\n",
       "    <tr>\n",
       "      <th>4</th>\n",
       "      <td>hr</td>\n",
       "      <td>118</td>\n",
       "      <td>130.356</td>\n",
       "      <td>4370.356</td>\n",
       "      <td>71.362</td>\n",
       "      <td>13.212</td>\n",
       "    </tr>\n",
       "    <tr>\n",
       "      <th>3</th>\n",
       "      <td>fi</td>\n",
       "      <td>50</td>\n",
       "      <td>127.060</td>\n",
       "      <td>4315.300</td>\n",
       "      <td>90.500</td>\n",
       "      <td>16.040</td>\n",
       "    </tr>\n",
       "  </tbody>\n",
       "</table>\n",
       "</div>"
      ],
      "text/plain": [
       "  language  num_projects  avg_percentage_fund  avg_funded  avg_backers  \\\n",
       "0       fr          9564              120.076    5974.530       94.623   \n",
       "1       en          1915              120.703    8445.865      115.629   \n",
       "2       de           148              122.703    5319.574       75.276   \n",
       "4       hr           118              130.356    4370.356       71.362   \n",
       "3       fi            50              127.060    4315.300       90.500   \n",
       "\n",
       "   avg_comments  \n",
       "0        19.199  \n",
       "1        23.144  \n",
       "2        13.351  \n",
       "4        13.212  \n",
       "3        16.040  "
      ]
     },
     "execution_count": 43,
     "metadata": {},
     "output_type": "execute_result"
    }
   ],
   "source": [
    "by_lang = pd.concat([s_projects,f_projects])[['percentage_fund','funded','backers','num_comments','language']]\n",
    "langs = by_lang['language'].drop_duplicates()\n",
    "lang_count = []\n",
    "for i,lang in langs.iteritems():\n",
    "    lang_i = by_lang[by_lang['language'] == lang]\n",
    "    lang_count.append([\n",
    "        lang,\n",
    "        len(lang_i),\n",
    "        round(lang_i['percentage_fund'].mean(),3),\n",
    "        round(lang_i['funded'].mean(),3),\n",
    "        round(lang_i['backers'].mean(),3),\n",
    "        round(lang_i['num_comments'].mean(),3)\n",
    "    ])\n",
    "    \n",
    "lang_df = pd.DataFrame(lang_count, columns = ['language','num_projects','avg_percentage_fund','avg_funded','avg_backers','avg_comments'])\n",
    "top5 = lang_df.sort_values(by='num_projects', ascending = False).head(5)\n",
    "top5"
   ]
  },
  {
   "cell_type": "code",
   "execution_count": 44,
   "metadata": {},
   "outputs": [
    {
     "data": {
      "text/html": [
       "<div>\n",
       "<style scoped>\n",
       "    .dataframe tbody tr th:only-of-type {\n",
       "        vertical-align: middle;\n",
       "    }\n",
       "\n",
       "    .dataframe tbody tr th {\n",
       "        vertical-align: top;\n",
       "    }\n",
       "\n",
       "    .dataframe thead th {\n",
       "        text-align: right;\n",
       "    }\n",
       "</style>\n",
       "<table border=\"1\" class=\"dataframe\">\n",
       "  <thead>\n",
       "    <tr style=\"text-align: right;\">\n",
       "      <th></th>\n",
       "      <th>language</th>\n",
       "      <th>num_projects</th>\n",
       "      <th>avg_percentage_fund</th>\n",
       "      <th>avg_funded</th>\n",
       "      <th>avg_backers</th>\n",
       "      <th>avg_comments</th>\n",
       "    </tr>\n",
       "  </thead>\n",
       "  <tbody>\n",
       "    <tr>\n",
       "      <th>0</th>\n",
       "      <td>fr</td>\n",
       "      <td>9564</td>\n",
       "      <td>120.076</td>\n",
       "      <td>5974.530</td>\n",
       "      <td>94.623</td>\n",
       "      <td>19.199</td>\n",
       "    </tr>\n",
       "    <tr>\n",
       "      <th>1</th>\n",
       "      <td>en</td>\n",
       "      <td>1915</td>\n",
       "      <td>120.703</td>\n",
       "      <td>8445.865</td>\n",
       "      <td>115.629</td>\n",
       "      <td>23.144</td>\n",
       "    </tr>\n",
       "    <tr>\n",
       "      <th>2</th>\n",
       "      <td>de</td>\n",
       "      <td>148</td>\n",
       "      <td>122.703</td>\n",
       "      <td>5319.574</td>\n",
       "      <td>75.276</td>\n",
       "      <td>13.351</td>\n",
       "    </tr>\n",
       "    <tr>\n",
       "      <th>4</th>\n",
       "      <td>hr</td>\n",
       "      <td>118</td>\n",
       "      <td>130.356</td>\n",
       "      <td>4370.356</td>\n",
       "      <td>71.362</td>\n",
       "      <td>13.212</td>\n",
       "    </tr>\n",
       "    <tr>\n",
       "      <th>3</th>\n",
       "      <td>fi</td>\n",
       "      <td>50</td>\n",
       "      <td>127.060</td>\n",
       "      <td>4315.300</td>\n",
       "      <td>90.500</td>\n",
       "      <td>16.040</td>\n",
       "    </tr>\n",
       "    <tr>\n",
       "      <th>8</th>\n",
       "      <td>nl</td>\n",
       "      <td>41</td>\n",
       "      <td>128.780</td>\n",
       "      <td>5465.756</td>\n",
       "      <td>66.195</td>\n",
       "      <td>9.683</td>\n",
       "    </tr>\n",
       "    <tr>\n",
       "      <th>7</th>\n",
       "      <td>ca</td>\n",
       "      <td>35</td>\n",
       "      <td>120.371</td>\n",
       "      <td>3836.486</td>\n",
       "      <td>61.429</td>\n",
       "      <td>10.429</td>\n",
       "    </tr>\n",
       "    <tr>\n",
       "      <th>5</th>\n",
       "      <td>it</td>\n",
       "      <td>25</td>\n",
       "      <td>136.520</td>\n",
       "      <td>6041.040</td>\n",
       "      <td>93.760</td>\n",
       "      <td>19.840</td>\n",
       "    </tr>\n",
       "    <tr>\n",
       "      <th>13</th>\n",
       "      <td>pt</td>\n",
       "      <td>21</td>\n",
       "      <td>130.762</td>\n",
       "      <td>3363.476</td>\n",
       "      <td>60.286</td>\n",
       "      <td>11.381</td>\n",
       "    </tr>\n",
       "    <tr>\n",
       "      <th>6</th>\n",
       "      <td>no</td>\n",
       "      <td>19</td>\n",
       "      <td>143.895</td>\n",
       "      <td>8495.474</td>\n",
       "      <td>140.474</td>\n",
       "      <td>21.632</td>\n",
       "    </tr>\n",
       "    <tr>\n",
       "      <th>11</th>\n",
       "      <td>es</td>\n",
       "      <td>18</td>\n",
       "      <td>110.389</td>\n",
       "      <td>4949.889</td>\n",
       "      <td>86.000</td>\n",
       "      <td>14.722</td>\n",
       "    </tr>\n",
       "    <tr>\n",
       "      <th>15</th>\n",
       "      <td>ro</td>\n",
       "      <td>14</td>\n",
       "      <td>121.286</td>\n",
       "      <td>5025.214</td>\n",
       "      <td>78.929</td>\n",
       "      <td>20.571</td>\n",
       "    </tr>\n",
       "    <tr>\n",
       "      <th>17</th>\n",
       "      <td>tl</td>\n",
       "      <td>7</td>\n",
       "      <td>118.143</td>\n",
       "      <td>17541.143</td>\n",
       "      <td>265.857</td>\n",
       "      <td>31.714</td>\n",
       "    </tr>\n",
       "    <tr>\n",
       "      <th>10</th>\n",
       "      <td>da</td>\n",
       "      <td>5</td>\n",
       "      <td>133.600</td>\n",
       "      <td>8669.000</td>\n",
       "      <td>75.400</td>\n",
       "      <td>13.000</td>\n",
       "    </tr>\n",
       "    <tr>\n",
       "      <th>9</th>\n",
       "      <td>hu</td>\n",
       "      <td>5</td>\n",
       "      <td>127.800</td>\n",
       "      <td>2983.800</td>\n",
       "      <td>65.800</td>\n",
       "      <td>10.200</td>\n",
       "    </tr>\n",
       "    <tr>\n",
       "      <th>21</th>\n",
       "      <td>id</td>\n",
       "      <td>5</td>\n",
       "      <td>114.800</td>\n",
       "      <td>6916.600</td>\n",
       "      <td>49.600</td>\n",
       "      <td>10.200</td>\n",
       "    </tr>\n",
       "    <tr>\n",
       "      <th>16</th>\n",
       "      <td>sv</td>\n",
       "      <td>4</td>\n",
       "      <td>131.250</td>\n",
       "      <td>4923.500</td>\n",
       "      <td>108.000</td>\n",
       "      <td>32.000</td>\n",
       "    </tr>\n",
       "    <tr>\n",
       "      <th>19</th>\n",
       "      <td>af</td>\n",
       "      <td>4</td>\n",
       "      <td>114.000</td>\n",
       "      <td>3429.750</td>\n",
       "      <td>39.500</td>\n",
       "      <td>11.500</td>\n",
       "    </tr>\n",
       "    <tr>\n",
       "      <th>30</th>\n",
       "      <td>vi</td>\n",
       "      <td>4</td>\n",
       "      <td>105.500</td>\n",
       "      <td>2633.000</td>\n",
       "      <td>58.500</td>\n",
       "      <td>6.250</td>\n",
       "    </tr>\n",
       "    <tr>\n",
       "      <th>26</th>\n",
       "      <td>cs</td>\n",
       "      <td>3</td>\n",
       "      <td>106.000</td>\n",
       "      <td>3288.333</td>\n",
       "      <td>44.000</td>\n",
       "      <td>8.333</td>\n",
       "    </tr>\n",
       "    <tr>\n",
       "      <th>12</th>\n",
       "      <td>sl</td>\n",
       "      <td>2</td>\n",
       "      <td>102.000</td>\n",
       "      <td>4726.000</td>\n",
       "      <td>74.000</td>\n",
       "      <td>1.500</td>\n",
       "    </tr>\n",
       "    <tr>\n",
       "      <th>25</th>\n",
       "      <td>et</td>\n",
       "      <td>2</td>\n",
       "      <td>192.500</td>\n",
       "      <td>2530.000</td>\n",
       "      <td>46.000</td>\n",
       "      <td>6.500</td>\n",
       "    </tr>\n",
       "    <tr>\n",
       "      <th>32</th>\n",
       "      <td>el</td>\n",
       "      <td>2</td>\n",
       "      <td>102.500</td>\n",
       "      <td>3312.000</td>\n",
       "      <td>57.000</td>\n",
       "      <td>11.000</td>\n",
       "    </tr>\n",
       "    <tr>\n",
       "      <th>31</th>\n",
       "      <td>cy</td>\n",
       "      <td>2</td>\n",
       "      <td>108.500</td>\n",
       "      <td>1477.500</td>\n",
       "      <td>44.500</td>\n",
       "      <td>8.500</td>\n",
       "    </tr>\n",
       "    <tr>\n",
       "      <th>23</th>\n",
       "      <td>so</td>\n",
       "      <td>2</td>\n",
       "      <td>146.500</td>\n",
       "      <td>7942.500</td>\n",
       "      <td>41.000</td>\n",
       "      <td>10.500</td>\n",
       "    </tr>\n",
       "    <tr>\n",
       "      <th>24</th>\n",
       "      <td>sk</td>\n",
       "      <td>2</td>\n",
       "      <td>198.000</td>\n",
       "      <td>468.500</td>\n",
       "      <td>448.000</td>\n",
       "      <td>42.500</td>\n",
       "    </tr>\n",
       "    <tr>\n",
       "      <th>18</th>\n",
       "      <td>lt</td>\n",
       "      <td>2</td>\n",
       "      <td>146.000</td>\n",
       "      <td>10155.000</td>\n",
       "      <td>192.500</td>\n",
       "      <td>10.500</td>\n",
       "    </tr>\n",
       "    <tr>\n",
       "      <th>33</th>\n",
       "      <td>Other</td>\n",
       "      <td>2</td>\n",
       "      <td>115.000</td>\n",
       "      <td>1540.500</td>\n",
       "      <td>40.500</td>\n",
       "      <td>5.000</td>\n",
       "    </tr>\n",
       "    <tr>\n",
       "      <th>14</th>\n",
       "      <td>ja</td>\n",
       "      <td>1</td>\n",
       "      <td>151.000</td>\n",
       "      <td>6825.000</td>\n",
       "      <td>36.000</td>\n",
       "      <td>6.000</td>\n",
       "    </tr>\n",
       "    <tr>\n",
       "      <th>28</th>\n",
       "      <td>sw</td>\n",
       "      <td>1</td>\n",
       "      <td>103.000</td>\n",
       "      <td>10265.000</td>\n",
       "      <td>130.000</td>\n",
       "      <td>36.000</td>\n",
       "    </tr>\n",
       "    <tr>\n",
       "      <th>29</th>\n",
       "      <td>pl</td>\n",
       "      <td>1</td>\n",
       "      <td>106.000</td>\n",
       "      <td>3920.000</td>\n",
       "      <td>50.000</td>\n",
       "      <td>18.000</td>\n",
       "    </tr>\n",
       "    <tr>\n",
       "      <th>22</th>\n",
       "      <td>sq</td>\n",
       "      <td>1</td>\n",
       "      <td>104.000</td>\n",
       "      <td>3654.000</td>\n",
       "      <td>68.000</td>\n",
       "      <td>8.000</td>\n",
       "    </tr>\n",
       "    <tr>\n",
       "      <th>20</th>\n",
       "      <td>ru</td>\n",
       "      <td>1</td>\n",
       "      <td>110.000</td>\n",
       "      <td>4971.000</td>\n",
       "      <td>86.000</td>\n",
       "      <td>4.000</td>\n",
       "    </tr>\n",
       "    <tr>\n",
       "      <th>27</th>\n",
       "      <td>NaN</td>\n",
       "      <td>0</td>\n",
       "      <td>NaN</td>\n",
       "      <td>NaN</td>\n",
       "      <td>NaN</td>\n",
       "      <td>NaN</td>\n",
       "    </tr>\n",
       "  </tbody>\n",
       "</table>\n",
       "</div>"
      ],
      "text/plain": [
       "   language  num_projects  avg_percentage_fund  avg_funded  avg_backers  \\\n",
       "0        fr          9564              120.076    5974.530       94.623   \n",
       "1        en          1915              120.703    8445.865      115.629   \n",
       "2        de           148              122.703    5319.574       75.276   \n",
       "4        hr           118              130.356    4370.356       71.362   \n",
       "3        fi            50              127.060    4315.300       90.500   \n",
       "8        nl            41              128.780    5465.756       66.195   \n",
       "7        ca            35              120.371    3836.486       61.429   \n",
       "5        it            25              136.520    6041.040       93.760   \n",
       "13       pt            21              130.762    3363.476       60.286   \n",
       "6        no            19              143.895    8495.474      140.474   \n",
       "11       es            18              110.389    4949.889       86.000   \n",
       "15       ro            14              121.286    5025.214       78.929   \n",
       "17       tl             7              118.143   17541.143      265.857   \n",
       "10       da             5              133.600    8669.000       75.400   \n",
       "9        hu             5              127.800    2983.800       65.800   \n",
       "21       id             5              114.800    6916.600       49.600   \n",
       "16       sv             4              131.250    4923.500      108.000   \n",
       "19       af             4              114.000    3429.750       39.500   \n",
       "30       vi             4              105.500    2633.000       58.500   \n",
       "26       cs             3              106.000    3288.333       44.000   \n",
       "12       sl             2              102.000    4726.000       74.000   \n",
       "25       et             2              192.500    2530.000       46.000   \n",
       "32       el             2              102.500    3312.000       57.000   \n",
       "31       cy             2              108.500    1477.500       44.500   \n",
       "23       so             2              146.500    7942.500       41.000   \n",
       "24       sk             2              198.000     468.500      448.000   \n",
       "18       lt             2              146.000   10155.000      192.500   \n",
       "33    Other             2              115.000    1540.500       40.500   \n",
       "14       ja             1              151.000    6825.000       36.000   \n",
       "28       sw             1              103.000   10265.000      130.000   \n",
       "29       pl             1              106.000    3920.000       50.000   \n",
       "22       sq             1              104.000    3654.000       68.000   \n",
       "20       ru             1              110.000    4971.000       86.000   \n",
       "27      NaN             0                  NaN         NaN          NaN   \n",
       "\n",
       "    avg_comments  \n",
       "0         19.199  \n",
       "1         23.144  \n",
       "2         13.351  \n",
       "4         13.212  \n",
       "3         16.040  \n",
       "8          9.683  \n",
       "7         10.429  \n",
       "5         19.840  \n",
       "13        11.381  \n",
       "6         21.632  \n",
       "11        14.722  \n",
       "15        20.571  \n",
       "17        31.714  \n",
       "10        13.000  \n",
       "9         10.200  \n",
       "21        10.200  \n",
       "16        32.000  \n",
       "19        11.500  \n",
       "30         6.250  \n",
       "26         8.333  \n",
       "12         1.500  \n",
       "25         6.500  \n",
       "32        11.000  \n",
       "31         8.500  \n",
       "23        10.500  \n",
       "24        42.500  \n",
       "18        10.500  \n",
       "33         5.000  \n",
       "14         6.000  \n",
       "28        36.000  \n",
       "29        18.000  \n",
       "22         8.000  \n",
       "20         4.000  \n",
       "27           NaN  "
      ]
     },
     "execution_count": 44,
     "metadata": {},
     "output_type": "execute_result"
    }
   ],
   "source": [
    "lang_df.sort_values(by='num_projects', ascending = False)"
   ]
  },
  {
   "cell_type": "markdown",
   "metadata": {},
   "source": [
    "##### 4.1.3 Comparing 2020 with other years, due to COVID 19:"
   ]
  },
  {
   "cell_type": "code",
   "execution_count": null,
   "metadata": {},
   "outputs": [],
   "source": []
  },
  {
   "cell_type": "markdown",
   "metadata": {},
   "source": [
    "\n"
   ]
  },
  {
   "cell_type": "code",
   "execution_count": null,
   "metadata": {},
   "outputs": [],
   "source": []
  },
  {
   "cell_type": "markdown",
   "metadata": {},
   "source": [
    "#### 4.2 Graphs"
   ]
  },
  {
   "cell_type": "markdown",
   "metadata": {},
   "source": []
  },
  {
   "cell_type": "code",
   "execution_count": null,
   "metadata": {},
   "outputs": [],
   "source": []
  },
  {
   "cell_type": "markdown",
   "metadata": {},
   "source": [
    "##### 4.2.2 Bar chart, line: Total funded by year, a total of successful projects per year"
   ]
  },
  {
   "cell_type": "code",
   "execution_count": null,
   "metadata": {},
   "outputs": [],
   "source": []
  },
  {
   "cell_type": "markdown",
   "metadata": {},
   "source": [
    "##### 4.2.3 Bar chart: The number of backers per year"
   ]
  },
  {
   "cell_type": "code",
   "execution_count": null,
   "metadata": {},
   "outputs": [],
   "source": []
  },
  {
   "cell_type": "markdown",
   "metadata": {},
   "source": [
    "##### 4.2.4 Correlation map"
   ]
  },
  {
   "cell_type": "code",
   "execution_count": 37,
   "metadata": {},
   "outputs": [
    {
     "data": {
      "text/html": [
       "<div>\n",
       "<style scoped>\n",
       "    .dataframe tbody tr th:only-of-type {\n",
       "        vertical-align: middle;\n",
       "    }\n",
       "\n",
       "    .dataframe tbody tr th {\n",
       "        vertical-align: top;\n",
       "    }\n",
       "\n",
       "    .dataframe thead th {\n",
       "        text-align: right;\n",
       "    }\n",
       "</style>\n",
       "<table border=\"1\" class=\"dataframe\">\n",
       "  <thead>\n",
       "    <tr style=\"text-align: right;\">\n",
       "      <th></th>\n",
       "      <th>backers</th>\n",
       "      <th>creater_link</th>\n",
       "      <th>end_date</th>\n",
       "      <th>funded</th>\n",
       "      <th>language</th>\n",
       "      <th>max_price</th>\n",
       "      <th>min_price</th>\n",
       "      <th>num_comments</th>\n",
       "      <th>num_contributions</th>\n",
       "      <th>num_news</th>\n",
       "      <th>number_rewards</th>\n",
       "      <th>percentage_fund</th>\n",
       "      <th>pro_link</th>\n",
       "      <th>short_des</th>\n",
       "      <th>status</th>\n",
       "      <th>subcategory</th>\n",
       "      <th>target</th>\n",
       "      <th>thumbnail_type</th>\n",
       "      <th>title</th>\n",
       "    </tr>\n",
       "  </thead>\n",
       "  <tbody>\n",
       "    <tr>\n",
       "      <th>0</th>\n",
       "      <td>244.0</td>\n",
       "      <td>https://www.kisskissbankbank.com/en/users/chic...</td>\n",
       "      <td>2018-12-06</td>\n",
       "      <td>13345.0</td>\n",
       "      <td>fr</td>\n",
       "      <td>10001.0</td>\n",
       "      <td>5.0</td>\n",
       "      <td>49.0</td>\n",
       "      <td>244.0</td>\n",
       "      <td>3.0</td>\n",
       "      <td>13.0</td>\n",
       "      <td>111.0</td>\n",
       "      <td>https://www.kisskissbankbank.com/en/projects/c...</td>\n",
       "      <td>aidez, atteindre, 15, 000e, chiche, mobile, no...</td>\n",
       "      <td>Successful</td>\n",
       "      <td>NaN</td>\n",
       "      <td>12000.0</td>\n",
       "      <td>jpg</td>\n",
       "      <td>CHICHE se lance dans le pois chiche chocolaté !</td>\n",
       "    </tr>\n",
       "  </tbody>\n",
       "</table>\n",
       "</div>"
      ],
      "text/plain": [
       "   backers                                       creater_link    end_date  \\\n",
       "0    244.0  https://www.kisskissbankbank.com/en/users/chic...  2018-12-06   \n",
       "\n",
       "    funded language  max_price  min_price  num_comments  num_contributions  \\\n",
       "0  13345.0       fr    10001.0        5.0          49.0              244.0   \n",
       "\n",
       "   num_news  number_rewards  percentage_fund  \\\n",
       "0       3.0            13.0            111.0   \n",
       "\n",
       "                                            pro_link  \\\n",
       "0  https://www.kisskissbankbank.com/en/projects/c...   \n",
       "\n",
       "                                           short_des      status subcategory  \\\n",
       "0  aidez, atteindre, 15, 000e, chiche, mobile, no...  Successful         NaN   \n",
       "\n",
       "    target thumbnail_type                                            title  \n",
       "0  12000.0            jpg  CHICHE se lance dans le pois chiche chocolaté !  "
      ]
     },
     "execution_count": 37,
     "metadata": {},
     "output_type": "execute_result"
    }
   ],
   "source": [
    "pd.concat([s_projects,f_projects]).head(1)"
   ]
  },
  {
   "cell_type": "markdown",
   "metadata": {},
   "source": [
    "##### Heat map of percentage fund and other nummeric variables"
   ]
  },
  {
   "cell_type": "code",
   "execution_count": 29,
   "metadata": {},
   "outputs": [
    {
     "data": {
      "text/plain": [
       "<matplotlib.axes._subplots.AxesSubplot at 0x1e8a92747f0>"
      ]
     },
     "execution_count": 29,
     "metadata": {},
     "output_type": "execute_result"
    },
    {
     "data": {
      "image/png": "[encoded data removed]",
      "text/plain": [
       "<Figure size 432x288 with 2 Axes>"
      ]
     },
     "metadata": {
      "needs_background": "light"
     },
     "output_type": "display_data"
    }
   ],
   "source": [
    "var_1 = ['percentage_fund','backers','target','max_price','min_price','num_comments','num_news','number_rewards']\n",
    "pro_1 = pd.concat([s_projects,f_projects])[var_1]\n",
    "corr_1 = pro_1.corr()\n",
    "sns.heatmap(corr_1, xticklabels=corr_1.columns, yticklabels=corr_1.columns, cmap='RdBu')"
   ]
  },
  {
   "cell_type": "markdown",
   "metadata": {},
   "source": [
    "##### Heat map between percentage fund and categorical variables"
   ]
  },
  {
   "cell_type": "code",
   "execution_count": 69,
   "metadata": {},
   "outputs": [],
   "source": [
    "# Change into numeric value\n",
    "def to_year(end_date):\n",
    "    return int(end_date.split('-')[0])\n",
    "\n",
    "def is_french(lang):\n",
    "    if (lang == 'fr'):\n",
    "        return 1\n",
    "    return 0\n",
    "\n",
    "def is_english(lang):\n",
    "    if (lang == 'en'):\n",
    "        return 1\n",
    "    return 0\n",
    "\n",
    "def has_category(subcategory):\n",
    "    try:\n",
    "        temp = subcategory[0]\n",
    "        return 1\n",
    "    except:\n",
    "        return 0\n",
    "\n",
    "def is_gif(thumbnail):\n",
    "    if(thumbnail.lower() == 'gif'):\n",
    "        return 1\n",
    "    else:\n",
    "        return 0\n",
    "    \n",
    "def len_title(title):\n",
    "    return len(title)\n",
    "\n",
    "def is_successful(status):\n",
    "    if(status.lower() == 'successful'):\n",
    "        return 1\n",
    "    return 0"
   ]
  },
  {
   "cell_type": "code",
   "execution_count": 112,
   "metadata": {},
   "outputs": [
    {
     "data": {
      "text/plain": [
       "<matplotlib.axes._subplots.AxesSubplot at 0x1e8abb56550>"
      ]
     },
     "execution_count": 112,
     "metadata": {},
     "output_type": "execute_result"
    },
    {
     "data": {
      "image/png": "[encoded data removed]",
      "text/plain": [
       "<Figure size 432x288 with 2 Axes>"
      ]
     },
     "metadata": {
      "needs_background": "light"
     },
     "output_type": "display_data"
    }
   ],
   "source": [
    "var_2 = ['percentage_fund','status','end_date','language','subcategory','thumbnail_type','title']\n",
    "pro_2 = pd.concat([s_projects,f_projects])[var_2]\n",
    "\n",
    "# Change into numeric data\n",
    "pro_2_new = pd.DataFrame(columns=['is_successful', 'percentage_fund','year','is_french','is_english','has_category','is_gif','len_title'])\n",
    "pro_2_new['is_successful'] = pro_2['status'].apply(lambda x: is_successful(x))\n",
    "pro_2_new['percentage_fund'] = pro_2['percentage_fund']\n",
    "pro_2_new['year'] = pro_2['end_date'].apply(lambda x: to_year(x))\n",
    "pro_2_new['is_french'] = pro_2['language'].apply(lambda x: is_french(x))\n",
    "pro_2_new['is_english'] = pro_2['language'].apply(lambda x: is_english(x))\n",
    "pro_2_new['has_category'] = pro_2['subcategory'].apply(lambda x: has_category(x))\n",
    "pro_2_new['is_gif'] = pro_2['thumbnail_type'].apply(lambda x: is_gif(x))\n",
    "pro_2_new['len_title'] = pro_2['title'].apply(lambda x: len_title(x))\n",
    "\n",
    "\n",
    "corr_2 = pro_2_new.corr()\n",
    "sns.heatmap(corr_2, xticklabels=corr_2.columns, yticklabels=corr_2.columns, cmap='RdBu')\n"
   ]
  },
  {
   "cell_type": "markdown",
   "metadata": {},
   "source": [
    "##### Heat map of percentage_fund and creater informations"
   ]
  },
  {
   "cell_type": "code",
   "execution_count": 101,
   "metadata": {},
   "outputs": [],
   "source": [
    "creaters = pd.concat([s_creaters,f_creaters])\n",
    "def get_num_created(creater_link):\n",
    "    global creaters\n",
    "    return creaters[creaters['creater_link'] == creater_link].iloc[0]['num_created']\n",
    "\n",
    "def get_num_backed(creater_link):\n",
    "    global creaters\n",
    "    return creaters[creaters['creater_link'] == creater_link].iloc[0]['num_backed']\n",
    "\n",
    "def get_num_followed(creater_link):\n",
    "    global creaters\n",
    "    return creaters[creaters['creater_link'] == creater_link].iloc[0]['num_followed']"
   ]
  },
  {
   "cell_type": "code",
   "execution_count": 103,
   "metadata": {},
   "outputs": [
    {
     "data": {
      "text/html": [
       "<div>\n",
       "<style scoped>\n",
       "    .dataframe tbody tr th:only-of-type {\n",
       "        vertical-align: middle;\n",
       "    }\n",
       "\n",
       "    .dataframe tbody tr th {\n",
       "        vertical-align: top;\n",
       "    }\n",
       "\n",
       "    .dataframe thead th {\n",
       "        text-align: right;\n",
       "    }\n",
       "</style>\n",
       "<table border=\"1\" class=\"dataframe\">\n",
       "  <thead>\n",
       "    <tr style=\"text-align: right;\">\n",
       "      <th></th>\n",
       "      <th>percentage_fund</th>\n",
       "      <th>is_successful</th>\n",
       "      <th>num_created</th>\n",
       "      <th>num_backed</th>\n",
       "      <th>num_followed</th>\n",
       "    </tr>\n",
       "  </thead>\n",
       "  <tbody>\n",
       "    <tr>\n",
       "      <th>0</th>\n",
       "      <td>111.0</td>\n",
       "      <td>1</td>\n",
       "      <td>1.0</td>\n",
       "      <td>1.0</td>\n",
       "      <td>0.0</td>\n",
       "    </tr>\n",
       "    <tr>\n",
       "      <th>1</th>\n",
       "      <td>101.0</td>\n",
       "      <td>1</td>\n",
       "      <td>1.0</td>\n",
       "      <td>1.0</td>\n",
       "      <td>1.0</td>\n",
       "    </tr>\n",
       "    <tr>\n",
       "      <th>2</th>\n",
       "      <td>237.0</td>\n",
       "      <td>1</td>\n",
       "      <td>2.0</td>\n",
       "      <td>2.0</td>\n",
       "      <td>0.0</td>\n",
       "    </tr>\n",
       "    <tr>\n",
       "      <th>3</th>\n",
       "      <td>128.0</td>\n",
       "      <td>1</td>\n",
       "      <td>1.0</td>\n",
       "      <td>0.0</td>\n",
       "      <td>0.0</td>\n",
       "    </tr>\n",
       "    <tr>\n",
       "      <th>4</th>\n",
       "      <td>137.0</td>\n",
       "      <td>1</td>\n",
       "      <td>1.0</td>\n",
       "      <td>1.0</td>\n",
       "      <td>0.0</td>\n",
       "    </tr>\n",
       "    <tr>\n",
       "      <th>...</th>\n",
       "      <td>...</td>\n",
       "      <td>...</td>\n",
       "      <td>...</td>\n",
       "      <td>...</td>\n",
       "      <td>...</td>\n",
       "    </tr>\n",
       "    <tr>\n",
       "      <th>233</th>\n",
       "      <td>0.0</td>\n",
       "      <td>0</td>\n",
       "      <td>1.0</td>\n",
       "      <td>0.0</td>\n",
       "      <td>0.0</td>\n",
       "    </tr>\n",
       "    <tr>\n",
       "      <th>234</th>\n",
       "      <td>1.0</td>\n",
       "      <td>0</td>\n",
       "      <td>1.0</td>\n",
       "      <td>0.0</td>\n",
       "      <td>0.0</td>\n",
       "    </tr>\n",
       "    <tr>\n",
       "      <th>235</th>\n",
       "      <td>52.0</td>\n",
       "      <td>0</td>\n",
       "      <td>1.0</td>\n",
       "      <td>1.0</td>\n",
       "      <td>0.0</td>\n",
       "    </tr>\n",
       "    <tr>\n",
       "      <th>236</th>\n",
       "      <td>32.0</td>\n",
       "      <td>0</td>\n",
       "      <td>1.0</td>\n",
       "      <td>0.0</td>\n",
       "      <td>0.0</td>\n",
       "    </tr>\n",
       "    <tr>\n",
       "      <th>237</th>\n",
       "      <td>0.0</td>\n",
       "      <td>0</td>\n",
       "      <td>1.0</td>\n",
       "      <td>0.0</td>\n",
       "      <td>0.0</td>\n",
       "    </tr>\n",
       "  </tbody>\n",
       "</table>\n",
       "<p>12039 rows × 5 columns</p>\n",
       "</div>"
      ],
      "text/plain": [
       "     percentage_fund  is_successful  num_created  num_backed  num_followed\n",
       "0              111.0              1          1.0         1.0           0.0\n",
       "1              101.0              1          1.0         1.0           1.0\n",
       "2              237.0              1          2.0         2.0           0.0\n",
       "3              128.0              1          1.0         0.0           0.0\n",
       "4              137.0              1          1.0         1.0           0.0\n",
       "..               ...            ...          ...         ...           ...\n",
       "233              0.0              0          1.0         0.0           0.0\n",
       "234              1.0              0          1.0         0.0           0.0\n",
       "235             52.0              0          1.0         1.0           0.0\n",
       "236             32.0              0          1.0         0.0           0.0\n",
       "237              0.0              0          1.0         0.0           0.0\n",
       "\n",
       "[12039 rows x 5 columns]"
      ]
     },
     "execution_count": 103,
     "metadata": {},
     "output_type": "execute_result"
    }
   ],
   "source": [
    "var_3 = ['pro_link','percentage_fund','status','creater_link']\n",
    "pro_3 = pd.concat([s_projects,f_projects])[var_3]\n",
    "\n",
    "pro_3_new = pd.DataFrame(columns=['percentage_fund', 'is_successful', 'num_created', 'num_backed', 'num_followed'])\n",
    "pro_3_new['percentage_fund'] = pro_3['percentage_fund']\n",
    "pro_3_new['is_successful'] = pro_3['status'].apply(lambda x: is_successful(x))\n",
    "pro_3_new['num_created'] = pro_3['creater_link'].apply(lambda x: get_num_created(x))\n",
    "pro_3_new['num_backed'] = pro_3['creater_link'].apply(lambda x: get_num_backed(x))\n",
    "pro_3_new['num_followed'] = pro_3['creater_link'].apply(lambda x: get_num_followed(x))\n",
    "pro_3_new"
   ]
  },
  {
   "cell_type": "code",
   "execution_count": 104,
   "metadata": {},
   "outputs": [
    {
     "data": {
      "text/plain": [
       "<matplotlib.axes._subplots.AxesSubplot at 0x1e8abc0dd30>"
      ]
     },
     "execution_count": 104,
     "metadata": {},
     "output_type": "execute_result"
    },
    {
     "data": {
      "image/png": "[encoded data removed]",
      "text/plain": [
       "<Figure size 432x288 with 2 Axes>"
      ]
     },
     "metadata": {
      "needs_background": "light"
     },
     "output_type": "display_data"
    }
   ],
   "source": [
    "corr_3 = pro_3_new.corr()\n",
    "sns.heatmap(corr_3, xticklabels=corr_3.columns, yticklabels=corr_3.columns, cmap='RdBu')"
   ]
  },
  {
   "cell_type": "markdown",
   "metadata": {},
   "source": [
    "##### Heat map for rewards"
   ]
  },
  {
   "cell_type": "code",
   "execution_count": 108,
   "metadata": {},
   "outputs": [
    {
     "data": {
      "text/plain": [
       "<matplotlib.axes._subplots.AxesSubplot at 0x1e8abc5d9d0>"
      ]
     },
     "execution_count": 108,
     "metadata": {},
     "output_type": "execute_result"
    },
    {
     "data": {
      "image/png": "[encoded data removed]",
      "text/plain": [
       "<Figure size 432x288 with 2 Axes>"
      ]
     },
     "metadata": {
      "needs_background": "light"
     },
     "output_type": "display_data"
    }
   ],
   "source": [
    "def has_media_int(has_media):\n",
    "    if has_media:\n",
    "        return 1\n",
    "    return 0\n",
    "rewards = pd.concat([s_rewards,f_rewards])\n",
    "reward_1 = rewards.drop(columns=['Unnamed: 0.1.1.1', 'pro_link'])\n",
    "reward_1['has_media'] = reward_1['has_media'].apply(lambda x: has_media_int(x))\n",
    "corr_4 = reward_1.corr()\n",
    "sns.heatmap(corr_4, xticklabels=corr_4.columns, yticklabels=corr_4.columns, cmap='RdBu')"
   ]
  },
  {
   "cell_type": "markdown",
   "metadata": {},
   "source": [
    "#### 4.3 Linear Regression"
   ]
  },
  {
   "cell_type": "markdown",
   "metadata": {},
   "source": [
    "##### 4.3.1 y = percentage_fund, x = has_category, year"
   ]
  },
  {
   "cell_type": "code",
   "execution_count": 120,
   "metadata": {},
   "outputs": [
    {
     "name": "stdout",
     "output_type": "stream",
     "text": [
      "                            OLS Regression Results                            \n",
      "==============================================================================\n",
      "Dep. Variable:        percentage_fund   R-squared:                       0.035\n",
      "Model:                            OLS   Adj. R-squared:                  0.035\n",
      "Method:                 Least Squares   F-statistic:                     221.3\n",
      "Date:                Sat, 23 Jan 2021   Prob (F-statistic):           4.01e-95\n",
      "Time:                        00:35:47   Log-Likelihood:                -64612.\n",
      "No. Observations:               12039   AIC:                         1.292e+05\n",
      "Df Residuals:                   12036   BIC:                         1.293e+05\n",
      "Df Model:                           2                                         \n",
      "Covariance Type:            nonrobust                                         \n",
      "==============================================================================\n",
      "                 coef    std err          t      P>|t|      [0.025      0.975]\n",
      "------------------------------------------------------------------------------\n",
      "const      -4179.4782    497.602     -8.399      0.000   -5154.859   -3204.097\n",
      "x1             2.1308      0.247      8.634      0.000       1.647       2.615\n",
      "x2            19.5914      1.689     11.603      0.000      16.282      22.901\n",
      "==============================================================================\n",
      "Omnibus:                    14351.610   Durbin-Watson:                   1.811\n",
      "Prob(Omnibus):                  0.000   Jarque-Bera (JB):          2317924.716\n",
      "Skew:                           6.273   Prob(JB):                         0.00\n",
      "Kurtosis:                      69.809   Cond. No.                     2.12e+06\n",
      "==============================================================================\n",
      "\n",
      "Warnings:\n",
      "[1] Standard Errors assume that the covariance matrix of the errors is correctly specified.\n",
      "[2] The condition number is large, 2.12e+06. This might indicate that there are\n",
      "strong multicollinearity or other numerical problems.\n"
     ]
    }
   ],
   "source": [
    "X1 = np.column_stack((np.ones(pro_2_new.shape[0]),pro_2_new[['year', 'has_category']]))\n",
    "y1 = pro_2_new['percentage_fund']\n",
    "res1 = sm.OLS(y1,X1).fit()\n",
    "print(res1.summary())"
   ]
  },
  {
   "cell_type": "markdown",
   "metadata": {},
   "source": [
    "##### 4.3.2 y = percentage, x = the remaining features, except: pro_link, title, percentage_fund, end_date, num_contributions, and creater_link\n"
   ]
  },
  {
   "cell_type": "code",
   "execution_count": 124,
   "metadata": {},
   "outputs": [
    {
     "data": {
      "text/html": [
       "<table class=\"simpletable\">\n",
       "<caption>OLS Regression Results</caption>\n",
       "<tr>\n",
       "  <th>Dep. Variable:</th>     <td>percentage_fund</td> <th>  R-squared:         </th> <td>   0.048</td> \n",
       "</tr>\n",
       "<tr>\n",
       "  <th>Model:</th>                   <td>OLS</td>       <th>  Adj. R-squared:    </th> <td>   0.048</td> \n",
       "</tr>\n",
       "<tr>\n",
       "  <th>Method:</th>             <td>Least Squares</td>  <th>  F-statistic:       </th> <td>   101.2</td> \n",
       "</tr>\n",
       "<tr>\n",
       "  <th>Date:</th>             <td>Sat, 23 Jan 2021</td> <th>  Prob (F-statistic):</th> <td>1.08e-124</td>\n",
       "</tr>\n",
       "<tr>\n",
       "  <th>Time:</th>                 <td>00:42:51</td>     <th>  Log-Likelihood:    </th> <td> -64533.</td> \n",
       "</tr>\n",
       "<tr>\n",
       "  <th>No. Observations:</th>      <td> 12039</td>      <th>  AIC:               </th> <td>1.291e+05</td>\n",
       "</tr>\n",
       "<tr>\n",
       "  <th>Df Residuals:</th>          <td> 12032</td>      <th>  BIC:               </th> <td>1.291e+05</td>\n",
       "</tr>\n",
       "<tr>\n",
       "  <th>Df Model:</th>              <td>     6</td>      <th>                     </th>     <td> </td>    \n",
       "</tr>\n",
       "<tr>\n",
       "  <th>Covariance Type:</th>      <td>nonrobust</td>    <th>                     </th>     <td> </td>    \n",
       "</tr>\n",
       "</table>\n",
       "<table class=\"simpletable\">\n",
       "<tr>\n",
       "    <td></td>       <th>coef</th>     <th>std err</th>      <th>t</th>      <th>P>|t|</th>  <th>[0.025</th>    <th>0.975]</th>  \n",
       "</tr>\n",
       "<tr>\n",
       "  <th>const</th> <td>  111.8172</td> <td>    1.214</td> <td>   92.128</td> <td> 0.000</td> <td>  109.438</td> <td>  114.196</td>\n",
       "</tr>\n",
       "<tr>\n",
       "  <th>x1</th>    <td>   -0.0007</td> <td> 6.27e-05</td> <td>  -10.590</td> <td> 0.000</td> <td>   -0.001</td> <td>   -0.001</td>\n",
       "</tr>\n",
       "<tr>\n",
       "  <th>x2</th>    <td> -1.02e-08</td> <td>  3.6e-08</td> <td>   -0.283</td> <td> 0.777</td> <td>-8.07e-08</td> <td> 6.03e-08</td>\n",
       "</tr>\n",
       "<tr>\n",
       "  <th>x3</th>    <td>    0.6486</td> <td>    0.059</td> <td>   11.009</td> <td> 0.000</td> <td>    0.533</td> <td>    0.764</td>\n",
       "</tr>\n",
       "<tr>\n",
       "  <th>x4</th>    <td>    0.2082</td> <td>    0.010</td> <td>   20.762</td> <td> 0.000</td> <td>    0.189</td> <td>    0.228</td>\n",
       "</tr>\n",
       "<tr>\n",
       "  <th>x5</th>    <td>    0.4093</td> <td>    0.077</td> <td>    5.292</td> <td> 0.000</td> <td>    0.258</td> <td>    0.561</td>\n",
       "</tr>\n",
       "<tr>\n",
       "  <th>x6</th>    <td>    0.2270</td> <td>    0.117</td> <td>    1.937</td> <td> 0.053</td> <td>   -0.003</td> <td>    0.457</td>\n",
       "</tr>\n",
       "</table>\n",
       "<table class=\"simpletable\">\n",
       "<tr>\n",
       "  <th>Omnibus:</th>       <td>14024.859</td> <th>  Durbin-Watson:     </th>  <td>   1.761</td>  \n",
       "</tr>\n",
       "<tr>\n",
       "  <th>Prob(Omnibus):</th>  <td> 0.000</td>   <th>  Jarque-Bera (JB):  </th> <td>2336757.815</td>\n",
       "</tr>\n",
       "<tr>\n",
       "  <th>Skew:</th>           <td> 5.991</td>   <th>  Prob(JB):          </th>  <td>    0.00</td>  \n",
       "</tr>\n",
       "<tr>\n",
       "  <th>Kurtosis:</th>       <td>70.192</td>   <th>  Cond. No.          </th>  <td>3.38e+07</td>  \n",
       "</tr>\n",
       "</table><br/><br/>Warnings:<br/>[1] Standard Errors assume that the covariance matrix of the errors is correctly specified.<br/>[2] The condition number is large, 3.38e+07. This might indicate that there are<br/>strong multicollinearity or other numerical problems."
      ],
      "text/plain": [
       "<class 'statsmodels.iolib.summary.Summary'>\n",
       "\"\"\"\n",
       "                            OLS Regression Results                            \n",
       "==============================================================================\n",
       "Dep. Variable:        percentage_fund   R-squared:                       0.048\n",
       "Model:                            OLS   Adj. R-squared:                  0.048\n",
       "Method:                 Least Squares   F-statistic:                     101.2\n",
       "Date:                Sat, 23 Jan 2021   Prob (F-statistic):          1.08e-124\n",
       "Time:                        00:42:51   Log-Likelihood:                -64533.\n",
       "No. Observations:               12039   AIC:                         1.291e+05\n",
       "Df Residuals:                   12032   BIC:                         1.291e+05\n",
       "Df Model:                           6                                         \n",
       "Covariance Type:            nonrobust                                         \n",
       "==============================================================================\n",
       "                 coef    std err          t      P>|t|      [0.025      0.975]\n",
       "------------------------------------------------------------------------------\n",
       "const        111.8172      1.214     92.128      0.000     109.438     114.196\n",
       "x1            -0.0007   6.27e-05    -10.590      0.000      -0.001      -0.001\n",
       "x2          -1.02e-08    3.6e-08     -0.283      0.777   -8.07e-08    6.03e-08\n",
       "x3             0.6486      0.059     11.009      0.000       0.533       0.764\n",
       "x4             0.2082      0.010     20.762      0.000       0.189       0.228\n",
       "x5             0.4093      0.077      5.292      0.000       0.258       0.561\n",
       "x6             0.2270      0.117      1.937      0.053      -0.003       0.457\n",
       "==============================================================================\n",
       "Omnibus:                    14024.859   Durbin-Watson:                   1.761\n",
       "Prob(Omnibus):                  0.000   Jarque-Bera (JB):          2336757.815\n",
       "Skew:                           5.991   Prob(JB):                         0.00\n",
       "Kurtosis:                      70.192   Cond. No.                     3.38e+07\n",
       "==============================================================================\n",
       "\n",
       "Warnings:\n",
       "[1] Standard Errors assume that the covariance matrix of the errors is correctly specified.\n",
       "[2] The condition number is large, 3.38e+07. This might indicate that there are\n",
       "strong multicollinearity or other numerical problems.\n",
       "\"\"\""
      ]
     },
     "execution_count": 124,
     "metadata": {},
     "output_type": "execute_result"
    }
   ],
   "source": [
    "X2 = np.column_stack((np.ones(pro_1.shape[0]),pro_1[['target','max_price','min_price','num_comments','num_news','number_rewards']]))\n",
    "y2 = pro_1['percentage_fund']\n",
    "res2 = sm.OLS(y2,X2).fit()\n",
    "res2.summary()"
   ]
  },
  {
   "cell_type": "markdown",
   "metadata": {},
   "source": [
    "##### 4.3.3 y = num_backers, x = all features"
   ]
  },
  {
   "cell_type": "code",
   "execution_count": 126,
   "metadata": {},
   "outputs": [
    {
     "data": {
      "text/plain": [
       "<matplotlib.axes._subplots.AxesSubplot at 0x1e8ad69e070>"
      ]
     },
     "execution_count": 126,
     "metadata": {},
     "output_type": "execute_result"
    },
    {
     "data": {
      "image/png": "[encoded data removed]",
      "text/plain": [
       "<Figure size 432x288 with 2 Axes>"
      ]
     },
     "metadata": {
      "needs_background": "light"
     },
     "output_type": "display_data"
    }
   ],
   "source": [
    "pro_all = pd.concat([s_projects,f_projects])\n",
    "pro_all['is_successful'] = pro_all['status'].apply(lambda x: is_successful(x))\n",
    "pro_all['percentage_fund'] = pro_all['percentage_fund']\n",
    "pro_all['year'] = pro_all['end_date'].apply(lambda x: to_year(x))\n",
    "pro_all['is_french'] = pro_all['language'].apply(lambda x: is_french(x))\n",
    "pro_all['is_english'] = pro_all['language'].apply(lambda x: is_english(x))\n",
    "pro_all['has_category'] = pro_all['subcategory'].apply(lambda x: has_category(x))\n",
    "pro_all['is_gif'] = pro_all['thumbnail_type'].apply(lambda x: is_gif(x))\n",
    "pro_all['len_title'] = pro_all['title'].apply(lambda x: len_title(x))\n",
    "\n",
    "corr_all = pro_all.corr()\n",
    "sns.heatmap(corr_all, xticklabels=corr_all.columns, yticklabels=corr_all.columns, cmap='RdBu')"
   ]
  },
  {
   "cell_type": "code",
   "execution_count": 129,
   "metadata": {},
   "outputs": [
    {
     "data": {
      "text/html": [
       "<table class=\"simpletable\">\n",
       "<caption>OLS Regression Results</caption>\n",
       "<tr>\n",
       "  <th>Dep. Variable:</th>     <td>percentage_fund</td> <th>  R-squared:         </th> <td>   0.147</td> \n",
       "</tr>\n",
       "<tr>\n",
       "  <th>Model:</th>                   <td>OLS</td>       <th>  Adj. R-squared:    </th> <td>   0.146</td> \n",
       "</tr>\n",
       "<tr>\n",
       "  <th>Method:</th>             <td>Least Squares</td>  <th>  F-statistic:       </th> <td>   159.1</td> \n",
       "</tr>\n",
       "<tr>\n",
       "  <th>Date:</th>             <td>Sat, 23 Jan 2021</td> <th>  Prob (F-statistic):</th>  <td>  0.00</td>  \n",
       "</tr>\n",
       "<tr>\n",
       "  <th>Time:</th>                 <td>00:55:54</td>     <th>  Log-Likelihood:    </th> <td> -63874.</td> \n",
       "</tr>\n",
       "<tr>\n",
       "  <th>No. Observations:</th>      <td> 12039</td>      <th>  AIC:               </th> <td>1.278e+05</td>\n",
       "</tr>\n",
       "<tr>\n",
       "  <th>Df Residuals:</th>          <td> 12025</td>      <th>  BIC:               </th> <td>1.279e+05</td>\n",
       "</tr>\n",
       "<tr>\n",
       "  <th>Df Model:</th>              <td>    13</td>      <th>                     </th>     <td> </td>    \n",
       "</tr>\n",
       "<tr>\n",
       "  <th>Covariance Type:</th>      <td>nonrobust</td>    <th>                     </th>     <td> </td>    \n",
       "</tr>\n",
       "</table>\n",
       "<table class=\"simpletable\">\n",
       "<tr>\n",
       "    <td></td>       <th>coef</th>     <th>std err</th>      <th>t</th>      <th>P>|t|</th>  <th>[0.025</th>    <th>0.975]</th>  \n",
       "</tr>\n",
       "<tr>\n",
       "  <th>const</th> <td>-4345.0378</td> <td>  490.606</td> <td>   -8.856</td> <td> 0.000</td> <td>-5306.706</td> <td>-3383.370</td>\n",
       "</tr>\n",
       "<tr>\n",
       "  <th>x1</th>    <td> -9.08e-09</td> <td> 3.41e-08</td> <td>   -0.266</td> <td> 0.790</td> <td>-7.59e-08</td> <td> 5.77e-08</td>\n",
       "</tr>\n",
       "<tr>\n",
       "  <th>x2</th>    <td>    0.3643</td> <td>    0.057</td> <td>    6.373</td> <td> 0.000</td> <td>    0.252</td> <td>    0.476</td>\n",
       "</tr>\n",
       "<tr>\n",
       "  <th>x3</th>    <td>    0.0932</td> <td>    0.003</td> <td>   30.524</td> <td> 0.000</td> <td>    0.087</td> <td>    0.099</td>\n",
       "</tr>\n",
       "<tr>\n",
       "  <th>x4</th>    <td>    0.5530</td> <td>    0.075</td> <td>    7.418</td> <td> 0.000</td> <td>    0.407</td> <td>    0.699</td>\n",
       "</tr>\n",
       "<tr>\n",
       "  <th>x5</th>    <td>   -0.0014</td> <td>    0.012</td> <td>   -0.124</td> <td> 0.902</td> <td>   -0.024</td> <td>    0.021</td>\n",
       "</tr>\n",
       "<tr>\n",
       "  <th>x6</th>    <td>    0.3856</td> <td>    0.113</td> <td>    3.423</td> <td> 0.001</td> <td>    0.165</td> <td>    0.606</td>\n",
       "</tr>\n",
       "<tr>\n",
       "  <th>x7</th>    <td>   -0.0015</td> <td> 6.71e-05</td> <td>  -22.931</td> <td> 0.000</td> <td>   -0.002</td> <td>   -0.001</td>\n",
       "</tr>\n",
       "<tr>\n",
       "  <th>x8</th>    <td>    2.2081</td> <td>    0.243</td> <td>    9.079</td> <td> 0.000</td> <td>    1.731</td> <td>    2.685</td>\n",
       "</tr>\n",
       "<tr>\n",
       "  <th>x9</th>    <td>   -0.2962</td> <td>    2.155</td> <td>   -0.137</td> <td> 0.891</td> <td>   -4.521</td> <td>    3.929</td>\n",
       "</tr>\n",
       "<tr>\n",
       "  <th>x10</th>   <td>    1.1954</td> <td>    2.392</td> <td>    0.500</td> <td> 0.617</td> <td>   -3.492</td> <td>    5.883</td>\n",
       "</tr>\n",
       "<tr>\n",
       "  <th>x11</th>   <td>   13.1535</td> <td>    1.613</td> <td>    8.155</td> <td> 0.000</td> <td>    9.992</td> <td>   16.315</td>\n",
       "</tr>\n",
       "<tr>\n",
       "  <th>x12</th>   <td>    8.9371</td> <td>    2.254</td> <td>    3.966</td> <td> 0.000</td> <td>    4.520</td> <td>   13.355</td>\n",
       "</tr>\n",
       "<tr>\n",
       "  <th>x13</th>   <td>    0.0428</td> <td>    0.024</td> <td>    1.769</td> <td> 0.077</td> <td>   -0.005</td> <td>    0.090</td>\n",
       "</tr>\n",
       "</table>\n",
       "<table class=\"simpletable\">\n",
       "<tr>\n",
       "  <th>Omnibus:</th>       <td>13518.566</td> <th>  Durbin-Watson:     </th>  <td>   1.839</td>  \n",
       "</tr>\n",
       "<tr>\n",
       "  <th>Prob(Omnibus):</th>  <td> 0.000</td>   <th>  Jarque-Bera (JB):  </th> <td>2382586.722</td>\n",
       "</tr>\n",
       "<tr>\n",
       "  <th>Skew:</th>           <td> 5.566</td>   <th>  Prob(JB):          </th>  <td>    0.00</td>  \n",
       "</tr>\n",
       "<tr>\n",
       "  <th>Kurtosis:</th>       <td>71.013</td>   <th>  Cond. No.          </th>  <td>1.44e+10</td>  \n",
       "</tr>\n",
       "</table><br/><br/>Warnings:<br/>[1] Standard Errors assume that the covariance matrix of the errors is correctly specified.<br/>[2] The condition number is large, 1.44e+10. This might indicate that there are<br/>strong multicollinearity or other numerical problems."
      ],
      "text/plain": [
       "<class 'statsmodels.iolib.summary.Summary'>\n",
       "\"\"\"\n",
       "                            OLS Regression Results                            \n",
       "==============================================================================\n",
       "Dep. Variable:        percentage_fund   R-squared:                       0.147\n",
       "Model:                            OLS   Adj. R-squared:                  0.146\n",
       "Method:                 Least Squares   F-statistic:                     159.1\n",
       "Date:                Sat, 23 Jan 2021   Prob (F-statistic):               0.00\n",
       "Time:                        00:55:54   Log-Likelihood:                -63874.\n",
       "No. Observations:               12039   AIC:                         1.278e+05\n",
       "Df Residuals:                   12025   BIC:                         1.279e+05\n",
       "Df Model:                          13                                         \n",
       "Covariance Type:            nonrobust                                         \n",
       "==============================================================================\n",
       "                 coef    std err          t      P>|t|      [0.025      0.975]\n",
       "------------------------------------------------------------------------------\n",
       "const      -4345.0378    490.606     -8.856      0.000   -5306.706   -3383.370\n",
       "x1          -9.08e-09   3.41e-08     -0.266      0.790   -7.59e-08    5.77e-08\n",
       "x2             0.3643      0.057      6.373      0.000       0.252       0.476\n",
       "x3             0.0932      0.003     30.524      0.000       0.087       0.099\n",
       "x4             0.5530      0.075      7.418      0.000       0.407       0.699\n",
       "x5            -0.0014      0.012     -0.124      0.902      -0.024       0.021\n",
       "x6             0.3856      0.113      3.423      0.001       0.165       0.606\n",
       "x7            -0.0015   6.71e-05    -22.931      0.000      -0.002      -0.001\n",
       "x8             2.2081      0.243      9.079      0.000       1.731       2.685\n",
       "x9            -0.2962      2.155     -0.137      0.891      -4.521       3.929\n",
       "x10            1.1954      2.392      0.500      0.617      -3.492       5.883\n",
       "x11           13.1535      1.613      8.155      0.000       9.992      16.315\n",
       "x12            8.9371      2.254      3.966      0.000       4.520      13.355\n",
       "x13            0.0428      0.024      1.769      0.077      -0.005       0.090\n",
       "==============================================================================\n",
       "Omnibus:                    13518.566   Durbin-Watson:                   1.839\n",
       "Prob(Omnibus):                  0.000   Jarque-Bera (JB):          2382586.722\n",
       "Skew:                           5.566   Prob(JB):                         0.00\n",
       "Kurtosis:                      71.013   Cond. No.                     1.44e+10\n",
       "==============================================================================\n",
       "\n",
       "Warnings:\n",
       "[1] Standard Errors assume that the covariance matrix of the errors is correctly specified.\n",
       "[2] The condition number is large, 1.44e+10. This might indicate that there are\n",
       "strong multicollinearity or other numerical problems.\n",
       "\"\"\""
      ]
     },
     "execution_count": 129,
     "metadata": {},
     "output_type": "execute_result"
    }
   ],
   "source": [
    "var_all = [\n",
    "    'max_price',\n",
    "    'min_price',\n",
    "    'num_contributions',\n",
    "    'num_news',\n",
    "    'num_comments',\n",
    "    'number_rewards',\n",
    "    'target',\n",
    "    'year',\n",
    "    'is_french',\n",
    "    'is_english',\n",
    "    'has_category',\n",
    "    'is_gif',\n",
    "    'len_title'\n",
    "]\n",
    "X3 = np.column_stack((np.ones(pro_all.shape[0]),pro_all[var_all]))\n",
    "y3 = pro_all['percentage_fund']\n",
    "res3 = sm.OLS(y3,X3).fit()\n",
    "res3.summary()"
   ]
  },
  {
   "cell_type": "markdown",
   "metadata": {},
   "source": [
    "##### 4.3.4 y = percentage_fund, x = num_created, num_backed, num_follwed"
   ]
  },
  {
   "cell_type": "code",
   "execution_count": null,
   "metadata": {},
   "outputs": [],
   "source": []
  }
 ],
 "metadata": {
  "kernelspec": {
   "display_name": "Python 3",
   "language": "python",
   "name": "python3"
  },
  "language_info": {
   "codemirror_mode": {
    "name": "ipython",
    "version": 3
   },
   "file_extension": ".py",
   "mimetype": "text/x-python",
   "name": "python",
   "nbconvert_exporter": "python",
   "pygments_lexer": "ipython3",
   "version": "3.8.3"
  }
 },
 "nbformat": 4,
 "nbformat_minor": 4
}
