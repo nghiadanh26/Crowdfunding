{
 "cells": [
  {
   "cell_type": "code",
   "execution_count": 6,
   "metadata": {},
   "outputs": [],
   "source": [
    "import pandas as pd\n",
    "import numpy as np\n",
    "from bs4 import BeautifulSoup\n",
    "import requests\n",
    "import re\n",
    "from urllib.request import urlopen\n",
    "import time\n",
    "from selenium import webdriver"
   ]
  },
  {
   "cell_type": "code",
   "execution_count": 8,
   "metadata": {},
   "outputs": [],
   "source": [
    "from math import ceil\n",
    "from time import sleep\n",
    "from random import randint\n",
    "from bs4 import BeautifulSoup\n",
    "\n",
    "\n",
    "from selenium import webdriver\n",
    "from selenium.common.exceptions import NoSuchElementException\n",
    "from selenium.webdriver.support import expected_conditions as EC\n",
    "from selenium.webdriver.support.ui import WebDriverWait\n",
    "from selenium.webdriver.common.by import By\n",
    "from webdriver_manager.chrome import ChromeDriverManager\n",
    "\n",
    "import pandas as pd\n",
    "import numpy as np\n",
    "import requests\n",
    "import json"
   ]
  },
  {
   "cell_type": "code",
   "execution_count": 2,
   "metadata": {},
   "outputs": [],
   "source": [
    "chrome_path = r'D:\\\\Telecom 1e anne\\\\Telecom Period 1\\\\Jupyter\\\\MODS203\\\\Project\\\\chromedriver.exe'\n",
    "driver = webdriver.Chrome(chrome_path)\n",
    "# driver.get(\"https://www.kisskissbankbank.com/en/discover\")"
   ]
  },
  {
   "cell_type": "code",
   "execution_count": 7,
   "metadata": {},
   "outputs": [
    {
     "name": "stdout",
     "output_type": "stream",
     "text": [
      "Collecting webdriver_managerNote: you may need to restart the kernel to use updated packages.\n",
      "  Downloading webdriver_manager-3.2.2-py2.py3-none-any.whl (16 kB)\n",
      "Requirement already satisfied: requests in d:\\users\\lenovo\\appdata\\local\\programs\\python\\python38-32\\lib\\site-packages (from webdriver_manager) (2.24.0)\n",
      "Collecting configparser\n",
      "  Downloading configparser-5.0.1-py3-none-any.whl (22 kB)\n",
      "Collecting crayons\n",
      "  Downloading crayons-0.4.0-py2.py3-none-any.whl (4.6 kB)\n",
      "Requirement already satisfied: colorama in d:\\users\\lenovo\\appdata\\local\\programs\\python\\python38-32\\lib\\site-packages (from crayons->webdriver_manager) (0.4.3)\n",
      "Requirement already satisfied: chardet<4,>=3.0.2 in d:\\users\\lenovo\\appdata\\local\\programs\\python\\python38-32\\lib\\site-packages (from requests->webdriver_manager) (3.0.4)\n",
      "Requirement already satisfied: certifi>=2017.4.17 in d:\\users\\lenovo\\appdata\\local\\programs\\python\\python38-32\\lib\\site-packages (from requests->webdriver_manager) (2020.6.20)\n",
      "Requirement already satisfied: idna<3,>=2.5 in d:\\users\\lenovo\\appdata\\local\\programs\\python\\python38-32\\lib\\site-packages (from requests->webdriver_manager) (2.10)\n",
      "Requirement already satisfied: urllib3!=1.25.0,!=1.25.1,<1.26,>=1.21.1 in d:\\users\\lenovo\\appdata\\local\\programs\\python\\python38-32\\lib\\site-packages (from requests->webdriver_manager) (1.25.10)\n",
      "Installing collected packages: crayons, configparser, webdriver-manager\n",
      "Successfully installed configparser-5.0.1 crayons-0.4.0 webdriver-manager-3.2.2\n",
      "\n"
     ]
    },
    {
     "name": "stderr",
     "output_type": "stream",
     "text": [
      "WARNING: You are using pip version 20.3.1; however, version 20.3.3 is available.\n",
      "You should consider upgrading via the 'd:\\users\\lenovo\\appdata\\local\\programs\\python\\python38-32\\python.exe -m pip install --upgrade pip' command.\n"
     ]
    }
   ],
   "source": [
    "pip install webdriver_manager"
   ]
  },
  {
   "cell_type": "code",
   "execution_count": 3,
   "metadata": {},
   "outputs": [],
   "source": [
    "base_url = 'https://www.kisskissbankbank.com'"
   ]
  },
  {
   "cell_type": "code",
   "execution_count": 9,
   "metadata": {},
   "outputs": [],
   "source": [
    "url = f'{base_url}/en/discover?project[successful]=on&filter=all'\n",
    "\n",
    "response = requests.get(url)\n",
    "soup = BeautifulSoup(response.content, \"html5lib\")\n",
    "\n",
    "script = json.loads(soup.find('script', class_='js-react-on-rails-component').text)\n",
    "nb_projects = script['BROWSING']['projects']['totalCount']\n",
    "\n",
    "nb_pages = ceil(nb_projects/9)"
   ]
  },
  {
   "cell_type": "code",
   "execution_count": 14,
   "metadata": {},
   "outputs": [
    {
     "name": "stderr",
     "output_type": "stream",
     "text": [
      "[WDM] - Current google-chrome version is 86.0.4240\n",
      "[WDM] - Get LATEST driver version for 86.0.4240\n",
      "[WDM] - Driver [C:\\Users\\lenovo\\.wdm\\drivers\\chromedriver\\win32\\86.0.4240.22\\chromedriver.exe] found in cache\n"
     ]
    },
    {
     "name": "stdout",
     "output_type": "stream",
     "text": [
      " \n"
     ]
    },
    {
     "ename": "TimeoutException",
     "evalue": "Message: \n",
     "output_type": "error",
     "traceback": [
      "\u001b[1;31m---------------------------------------------------------------------------\u001b[0m",
      "\u001b[1;31mTimeoutException\u001b[0m                          Traceback (most recent call last)",
      "\u001b[1;32m<ipython-input-14-8cabb5bf548c>\u001b[0m in \u001b[0;36m<module>\u001b[1;34m\u001b[0m\n\u001b[0;32m      8\u001b[0m     \u001b[0msleep\u001b[0m\u001b[1;33m(\u001b[0m\u001b[1;36m2\u001b[0m\u001b[1;33m)\u001b[0m\u001b[1;33m\u001b[0m\u001b[1;33m\u001b[0m\u001b[0m\n\u001b[0;32m      9\u001b[0m \u001b[1;33m\u001b[0m\u001b[0m\n\u001b[1;32m---> 10\u001b[1;33m     \u001b[1;32mfor\u001b[0m \u001b[0mitem\u001b[0m \u001b[1;32min\u001b[0m \u001b[0mwait\u001b[0m\u001b[1;33m.\u001b[0m\u001b[0muntil\u001b[0m\u001b[1;33m(\u001b[0m\u001b[0mEC\u001b[0m\u001b[1;33m.\u001b[0m\u001b[0mpresence_of_all_elements_located\u001b[0m\u001b[1;33m(\u001b[0m\u001b[1;33m(\u001b[0m\u001b[0mBy\u001b[0m\u001b[1;33m.\u001b[0m\u001b[0mCSS_SELECTOR\u001b[0m\u001b[1;33m,\u001b[0m \u001b[1;34m'div.k-LegoGrid__item__content>a'\u001b[0m\u001b[1;33m)\u001b[0m\u001b[1;33m)\u001b[0m\u001b[1;33m)\u001b[0m\u001b[1;33m:\u001b[0m\u001b[1;33m\u001b[0m\u001b[1;33m\u001b[0m\u001b[0m\n\u001b[0m\u001b[0;32m     11\u001b[0m         \u001b[0mcats\u001b[0m \u001b[1;33m=\u001b[0m \u001b[0mitem\u001b[0m\u001b[1;33m.\u001b[0m\u001b[0mfind_element_by_css_selector\u001b[0m\u001b[1;33m(\u001b[0m\u001b[1;34m'div.k-CrowdfundingCard__subtitle__container>p>span>span>span'\u001b[0m\u001b[1;33m)\u001b[0m\u001b[1;33m.\u001b[0m\u001b[0mtext\u001b[0m\u001b[1;33m\u001b[0m\u001b[1;33m\u001b[0m\u001b[0m\n\u001b[0;32m     12\u001b[0m         \u001b[0mlinks\u001b[0m\u001b[1;33m.\u001b[0m\u001b[0mappend\u001b[0m\u001b[1;33m(\u001b[0m\u001b[1;33m{\u001b[0m\u001b[1;34m'url'\u001b[0m\u001b[1;33m:\u001b[0m \u001b[0mitem\u001b[0m\u001b[1;33m.\u001b[0m\u001b[0mget_attribute\u001b[0m\u001b[1;33m(\u001b[0m\u001b[1;34m'href'\u001b[0m\u001b[1;33m)\u001b[0m\u001b[1;33m,\u001b[0m \u001b[1;34m'cats'\u001b[0m\u001b[1;33m:\u001b[0m \u001b[0mcats\u001b[0m\u001b[1;33m}\u001b[0m\u001b[1;33m)\u001b[0m\u001b[1;33m\u001b[0m\u001b[1;33m\u001b[0m\u001b[0m\n",
      "\u001b[1;32md:\\users\\lenovo\\appdata\\local\\programs\\python\\python38-32\\lib\\site-packages\\selenium\\webdriver\\support\\wait.py\u001b[0m in \u001b[0;36muntil\u001b[1;34m(self, method, message)\u001b[0m\n\u001b[0;32m     78\u001b[0m             \u001b[1;32mif\u001b[0m \u001b[0mtime\u001b[0m\u001b[1;33m.\u001b[0m\u001b[0mtime\u001b[0m\u001b[1;33m(\u001b[0m\u001b[1;33m)\u001b[0m \u001b[1;33m>\u001b[0m \u001b[0mend_time\u001b[0m\u001b[1;33m:\u001b[0m\u001b[1;33m\u001b[0m\u001b[1;33m\u001b[0m\u001b[0m\n\u001b[0;32m     79\u001b[0m                 \u001b[1;32mbreak\u001b[0m\u001b[1;33m\u001b[0m\u001b[1;33m\u001b[0m\u001b[0m\n\u001b[1;32m---> 80\u001b[1;33m         \u001b[1;32mraise\u001b[0m \u001b[0mTimeoutException\u001b[0m\u001b[1;33m(\u001b[0m\u001b[0mmessage\u001b[0m\u001b[1;33m,\u001b[0m \u001b[0mscreen\u001b[0m\u001b[1;33m,\u001b[0m \u001b[0mstacktrace\u001b[0m\u001b[1;33m)\u001b[0m\u001b[1;33m\u001b[0m\u001b[1;33m\u001b[0m\u001b[0m\n\u001b[0m\u001b[0;32m     81\u001b[0m \u001b[1;33m\u001b[0m\u001b[0m\n\u001b[0;32m     82\u001b[0m     \u001b[1;32mdef\u001b[0m \u001b[0muntil_not\u001b[0m\u001b[1;33m(\u001b[0m\u001b[0mself\u001b[0m\u001b[1;33m,\u001b[0m \u001b[0mmethod\u001b[0m\u001b[1;33m,\u001b[0m \u001b[0mmessage\u001b[0m\u001b[1;33m=\u001b[0m\u001b[1;34m''\u001b[0m\u001b[1;33m)\u001b[0m\u001b[1;33m:\u001b[0m\u001b[1;33m\u001b[0m\u001b[1;33m\u001b[0m\u001b[0m\n",
      "\u001b[1;31mTimeoutException\u001b[0m: Message: \n"
     ]
    }
   ],
   "source": [
    "browser = webdriver.Chrome(ChromeDriverManager().install())\n",
    "wait = WebDriverWait(browser, 100)\n",
    "\n",
    "\n",
    "for page_number in range(1, nb_pages+1):\n",
    "    url = f'{base_url}/en/discover?filter=all&project[successful]=on&page={page_number}'\n",
    "    browser.get(url)\n",
    "    sleep(2)\n",
    "    \n",
    "    for item in wait.until(EC.presence_of_all_elements_located((By.CSS_SELECTOR, 'div.k-LegoGrid__item__content>a'))): \n",
    "        cats = item.find_element_by_css_selector('div.k-CrowdfundingCard__subtitle__container>p>span>span>span').text\n",
    "        links.append({'url': item.get_attribute('href'), 'cats': cats})\n",
    "    \n",
    "    if page_number % 100 == 0:\n",
    "        print(f'Page {page_number} / {nb_pages+1} treated')"
   ]
  },
  {
   "cell_type": "code",
   "execution_count": 28,
   "metadata": {},
   "outputs": [],
   "source": [
    "#function to get the html code from the requested url\n",
    "def download_from_the_internet(url):\n",
    "    try:\n",
    "        return urlopen(url).read().decode('utf-8')\n",
    "    except KeyboardInterrupt:\n",
    "        raise\n",
    "    except:\n",
    "        return None\n",
    "\n",
    "#function returns list of the tupels, where [0] – link to the project, [1] – category assigned to this project\n",
    "def extract_links_from_html(html):  \n",
    "    parser = BeautifulSoup(html)\n",
    "#     parser = parser.find('div', attrs = {'class':'styles__StyledGrid-xsvioa-0 iBEewj kiss-BrowsingGrid'})\n",
    "    parser = parser.find('div', attrs = {'class':'styles__StyledGrid-xsvioa-0'})\n",
    "    return [(link.get('href'), link.find('div', attrs={'class':'k-CrowdfundingCard__subtitle__container'}).text) for link in parser.findAll('a')]\n",
    "\n",
    "#functions return you list of the project links on the web-site\n",
    "def get_all_projects_links(url, number):\n",
    "    links = []\n",
    "    for i in range(1,number):\n",
    "        html = download_from_the_internet(url+'&page='+str(i))\n",
    "#         print(html)\n",
    "        links.extend(extract_links_from_html(html))\n",
    "        time.sleep(5)\n",
    "    return links"
   ]
  },
  {
   "cell_type": "code",
   "execution_count": 55,
   "metadata": {},
   "outputs": [],
   "source": [
    "url = 'https://www.kisskissbankbank.com/en/discover?categories[music]=on&categories[adventure-and-sport]=on&categories[live-performance]=on&categories[film-and-video]=on&filter=all' #url with the filters applied\n",
    "links = get_all_projects_links(url, 15)"
   ]
  },
  {
   "cell_type": "code",
   "execution_count": 30,
   "metadata": {},
   "outputs": [],
   "source": [
    "url = 'https://www.kisskissbankbank.com/en/projects/effervescience-stressdefense'\n",
    "html = requests.get(url)"
   ]
  },
  {
   "cell_type": "code",
   "execution_count": 17,
   "metadata": {},
   "outputs": [
    {
     "name": "stdout",
     "output_type": "stream",
     "text": [
      "[<li class=\"k-NavBar__listItem\" data-test-id=\"comments-tab\" id=\"comments-tab\"><a class=\"k-NavBar__link\" href=\"/en/projects/effervescience-stressdefense/tabs/comments\">Comments</a></li>] [<li class=\"k-NavBar__listItem\" data-test-id=\"backers-tab\" id=\"backers-tab\"><a class=\"k-NavBar__link\" href=\"/en/projects/effervescience-stressdefense/tabs/backers\">Backers</a></li>]\n"
     ]
    }
   ],
   "source": [
    "soup = BeautifulSoup(html.text, 'html.parser')\n",
    "comment = soup.findAll('li',attrs ={'data-test-id':'comments-tab'})\n",
    "# comment\n",
    "contri = soup.find_all('li',attrs ={'data-test-id':'backers-tab'})\n",
    "# contri.get('href')\n",
    "print(comment, contri)"
   ]
  },
  {
   "cell_type": "code",
   "execution_count": 41,
   "metadata": {},
   "outputs": [],
   "source": [
    "driver.get(url)"
   ]
  },
  {
   "cell_type": "code",
   "execution_count": 69,
   "metadata": {},
   "outputs": [
    {
     "data": {
      "text/plain": [
       "'Maison Bagatella Production'"
      ]
     },
     "execution_count": 69,
     "metadata": {},
     "output_type": "execute_result"
    }
   ],
   "source": [
    "a = driver.find_element_by_id('owner_profile_button')\n",
    "a.text\n",
    "# re.sub(\"[^0-9]\",'',a.text)"
   ]
  },
  {
   "cell_type": "code",
   "execution_count": 35,
   "metadata": {
    "scrolled": true
   },
   "outputs": [],
   "source": [
    "# soup\n",
    "html = driver.page_source\n",
    "# html"
   ]
  },
  {
   "cell_type": "code",
   "execution_count": 18,
   "metadata": {},
   "outputs": [
    {
     "name": "stdout",
     "output_type": "stream",
     "text": [
      "None\n"
     ]
    }
   ],
   "source": [
    "comment = soup.find('span', attrs ={'class':'badge__StyledBadge-sc-7liuod-0 eucluz k-Badge k-Badge--spaced'})\n",
    "print(comment)\n",
    "intro = soup.find_all('div', attrs ={'class':'marger__StyledMarger-sc-1qqifp5-0 kFDJHh intro__StyledInfoBlock-sc-1wfo5yh-5 lncbNE'})\n",
    "com = soup.find('span', attrs ={'role':'alert'})"
   ]
  },
  {
   "cell_type": "code",
   "execution_count": 59,
   "metadata": {},
   "outputs": [],
   "source": [
    "#function to create a list of projects for future dataframe \n",
    "def extract_data_from_html(html, category, url):\n",
    "    soup = BeautifulSoup(html)\n",
    "    driver.get(url)\n",
    "    title = soup.find('h1', attrs ={'data-test-id':'project-title'}).text\n",
    "    infos = soup.find_all('div', attrs = {'class':'marger__StyledMarger-sc-1qqifp5-0 kFDJHh intro__StyledInfoBlock-sc-1wfo5yh-5 lncbNE'})\n",
    "    '''\n",
    "        Here we get the data about number of backers, amount of funded and target money.\n",
    "        Also parsing percentage from the progress bar and calculating the 'is_successfull parameter'.\n",
    "    '''\n",
    "    for i in infos:\n",
    "        if len(infos) == 2:\n",
    "        #re.sub here is to clean the string of commas, symbols, etc.. Final output consitst only of digits. \n",
    "            funded = re.sub(\"[^0-9]\", \"\",infos[1].find('div', attrs={'class':'text__StyledText-sc-1jqe2sw-0 kKHxol k-u-color-font1 k-u-weight-bold info__StyledBigText-lcf1ol-0 clfvNf'}).text)\n",
    "            target = re.sub(\"[^0-9]\", \"\",infos[1].find('div', attrs={'class':'text__StyledText-sc-1jqe2sw-0 kKHxol k-u-color-font1 k-u-weight-light info__StyledSmallText-lcf1ol-1 gDdVEG'}).text)\n",
    "            backers = infos[0].find('div').text\n",
    "        else:\n",
    "            funded = re.sub(\"[^0-9]\", \"\",infos[2].find('div', attrs={'class':'text__StyledText-sc-1jqe2sw-0 kKHxol k-u-color-font1 k-u-weight-bold info__StyledBigText-lcf1ol-0 clfvNf'}).text)\n",
    "            target = re.sub(\"[^0-9]\", \"\",infos[2].find('div', attrs={'class':'text__StyledText-sc-1jqe2sw-0 kKHxol k-u-color-font1 k-u-weight-light info__StyledSmallText-lcf1ol-1 gDdVEG'}).text)\n",
    "            backers = infos[0].find('div').text\n",
    "\n",
    "        percentage_fund = soup.find('div', attrs={'class':'text__StyledText-sc-1jqe2sw-0 kKHxol k-u-color-font1 k-u-line-height-normal k-u-weight-regular progress__StyledText-ycznm1-1 iXebEz'}).text.split('\\xa0')[0]\n",
    "        if int(percentage_fund) >= 100: is_successfull = True\n",
    "        else: is_successfull = False\n",
    "\n",
    "    '''\n",
    "        Here parsing the rewards for the backers. Prices is a list of rewards prices. \n",
    "        Number of rewards is the lenght of the prices list.\n",
    "    '''\n",
    "    #re.sub the same to leave only digits\n",
    "    prices = [int(re.sub(\"[^0-9]\", \"\",i.text)) for i in soup.find('div', attrs= {'id':'rewards'}).find_all('h2', attrs={'class':'title__StyledTitle-sc-46lshq-0 iYeFEL k-RewardCard__title k-u-margin-bottom-double k-u-margin-top-none'})]\n",
    "    min_price = min(prices)\n",
    "    max_price = max(prices)\n",
    "    number_rewards = len(prices)\n",
    "    \n",
    "    thumbnail_type = 'https://www.kisskissbankbank.com/' + soup.find('img', attrs = {'class':'k-ButtonImage__img'}).get('src')\n",
    "    \n",
    "    number_rewards = re.sub(\"[^0-9]\",\"\", driver.find_element_by_id('rewards-tab').text)\n",
    "    num_news = re.sub(\"[^0-9]\",\"\", driver.find_element_by_id('news-tab').text)\n",
    "    num_comments = re.sub(\"[^0-9]\",\"\", driver.find_element_by_id('comments-tab').text)\n",
    "    '''\n",
    "        Here parsing the owner web-page to get the number of the created projects.\n",
    "    '''\n",
    "    #going to the creator web-page and parsing the number of created projects\n",
    "    html = download_from_the_internet('https://www.kisskissbankbank.com/'+soup.find('a', attrs = {'id':'owner_profile_button'}).get('href'))\n",
    "    owner = BeautifulSoup(html)\n",
    "    num_creater_projects = owner.find('span', attrs = {'class':'k-Badge k-HorizontalNav__badge'}).text.split('\\n')[1]\n",
    "    \n",
    "\n",
    "    '''\n",
    "        Here creating a dictionary with the obtained data and return in to the result list. \n",
    "        After all the data parsed, from this list of dictionaries a pandas DataFrame will be created.\n",
    "    '''\n",
    "    data = {'title':title, \n",
    "            'category':category,\n",
    "            'is_successfull':is_successfull,\n",
    "            'percentage_fund':percentage_fund,\n",
    "            'funded':funded, \n",
    "            'target':target,  \n",
    "            'backers':backers, \n",
    "            'thumbnail_type':thumbnail_type, \n",
    "            'number_rewards':number_rewards, \n",
    "            'min_price':min_price, \n",
    "            'max_price':max_price, \n",
    "            'num_news':num_news,\n",
    "            'num_comments':num_comments, \n",
    "#             'num_contribution':num_contribution,\n",
    "            'num_creater_projects':num_creater_projects}\n",
    "      \n",
    "    return data"
   ]
  },
  {
   "cell_type": "code",
   "execution_count": 6,
   "metadata": {},
   "outputs": [
    {
     "ename": "SyntaxError",
     "evalue": "invalid syntax (<ipython-input-6-cf2b5944bdb4>, line 29)",
     "output_type": "error",
     "traceback": [
      "\u001b[1;36m  File \u001b[1;32m\"<ipython-input-6-cf2b5944bdb4>\"\u001b[1;36m, line \u001b[1;32m29\u001b[0m\n\u001b[1;33m    tags = #?\u001b[0m\n\u001b[1;37m           ^\u001b[0m\n\u001b[1;31mSyntaxError\u001b[0m\u001b[1;31m:\u001b[0m invalid syntax\n"
     ]
    }
   ],
   "source": [
    "#function to create a list of projects for future dataframe \n",
    "def extract_data_from_html(url, html):\n",
    "    data = []\n",
    "    driver.get(url)\n",
    "    #Better to replace it also with selenium selector to obtain the page and go through the pagination\n",
    "    soup = BeautifulSoup(html)\n",
    "    content = soup.find('div', attrs = {'class':'styles__StyledGrid-xsvioa-0 iBEewj kiss-BrowsingGrid'})\n",
    "    projects = content.find_all('a')\n",
    "    for project in projects:\n",
    "      #for every project creating a dictionary instance with the corresponding columns\n",
    "      #parsing data from the card\n",
    "        title = project.find('div', attrs={'class':'k-CrowdfundingCard__titleAndDesc'}).text\n",
    "        category = project.find('div', attrs={'class':'k-CrowdfundingCard__subtitle__container'}).text\n",
    "        infos = a.find('div', attrs={'class':'k-CrowdfundingCard__informations__infoContainer'})\n",
    "        for i in infos:\n",
    "            if len(infos) == 2:\n",
    "                funded = infos[1].find('strong', attrs={'class':'text__StyledText-sc-1jqe2sw-0 kKHxol k-u-weight-regular info__StyledText-h7ofxb-0 jfWZBp'}).text\n",
    "                target = infos[1].find('span', attrs={'class':'k-u-hidden@m-up'}).text\n",
    "                backers = infos[0].find('strong', attrs={'class':'text__StyledText-sc-1jqe2sw-0 kKHxol k-u-weight-regular info__StyledText-h7ofxb-0 jfWZBp'}).text\n",
    "            else:\n",
    "                funded = infos[2].find('strong', attrs={'class':'text__StyledText-sc-1jqe2sw-0 kKHxol k-u-weight-regular info__StyledText-h7ofxb-0 jfWZBp'}).text\n",
    "                target = infos[2].find('span', attrs={'class':'k-u-hidden@m-up'}).text\n",
    "                backers = infos[0].find('strong', attrs={'class':'text__StyledText-sc-1jqe2sw-0 kKHxol k-u-weight-regular info__StyledText-h7ofxb-0 jfWZBp'}).text\n",
    "\n",
    "        percentage_fund = project.find('div', attrs={'class':'k-CrowdfundingCard__progressBar'}).text.split()[0]\n",
    "        if percentage_fund >= 100: is_successfull = True\n",
    "        else: is_successfull = False\n",
    "        #going to the project web-page\n",
    "        #Here should be code to go to the project page\n",
    "        tags = #?\n",
    "        rewards = #?\n",
    "        prices = #?\n",
    "        min_price = #?\n",
    "        max_price = #?\n",
    "        in_2020 = #?\n",
    "        thumbnail_type = #?\n",
    "        number_rewards = re.sub(\"[^0-9]\",\"\", driver.find_element_by_id('rewards-tab').text)\n",
    "        num_news = re.sub(\"[^0-9]\",\"\", driver.find_element_by_id('news-tab').text)\n",
    "        num_comments = re.sub(\"[^0-9]\",\"\", driver.find_element_by_id('comments-tab').text)\n",
    "        num_creater_projects = #?\n",
    "        num_contributions = #?\n",
    "        \n",
    "        creator_name = driver.find_element_by_id('owner_profile_button').text\n",
    "        \n",
    "        data.append({'title':title, \n",
    "                   'category':category,\n",
    "                   'is_successfull':is_successfull,\n",
    "                   'percentage_fund':percentage_fund,\n",
    "                   'funded':funded, \n",
    "                   'target':target, \n",
    "                   'in_2020':in_2020, \n",
    "                   'backers':backers, \n",
    "                   'thumbnail_type':thumbnail_type, \n",
    "                   'number_rewards':number_rewards, \n",
    "                   'min_price':min_price, \n",
    "                   'max_price':max_price, \n",
    "                   'num_news':num_news,\n",
    "                   'num_comments':num_comments, \n",
    "                   'num_contributions':num_contributions,\n",
    "                   'num_creater_projects':num_creater_projects})\n",
    "      \n",
    "    return data"
   ]
  },
  {
   "cell_type": "code",
   "execution_count": 61,
   "metadata": {},
   "outputs": [],
   "source": [
    "result = []\n",
    "for link in links[:5]:\n",
    "    url, category = link[0], link[1]\n",
    "    html = download_from_the_internet(url)\n",
    "    result.append(extract_data_from_html(html, category, url))\n",
    "    time.sleep(1)\n",
    "    \n",
    "df = pd.DataFrame(result)\n",
    "df.to_csv('output.csv')"
   ]
  },
  {
   "cell_type": "code",
   "execution_count": 56,
   "metadata": {},
   "outputs": [
    {
     "data": {
      "text/plain": [
       "('https://www.kisskissbankbank.com/en/projects/ob2', 'Music, Recording')"
      ]
     },
     "execution_count": 56,
     "metadata": {},
     "output_type": "execute_result"
    }
   ],
   "source": [
    "#recieve the html code of the web-page\n",
    "html = download_from_the_internet('https://www.kisskissbankbank.com/en/projects/way-le-voyage-de-demain')\n",
    "links[1]"
   ]
  },
  {
   "cell_type": "code",
   "execution_count": 64,
   "metadata": {},
   "outputs": [
    {
     "data": {
      "text/html": [
       "<div>\n",
       "<style scoped>\n",
       "    .dataframe tbody tr th:only-of-type {\n",
       "        vertical-align: middle;\n",
       "    }\n",
       "\n",
       "    .dataframe tbody tr th {\n",
       "        vertical-align: top;\n",
       "    }\n",
       "\n",
       "    .dataframe thead th {\n",
       "        text-align: right;\n",
       "    }\n",
       "</style>\n",
       "<table border=\"1\" class=\"dataframe\">\n",
       "  <thead>\n",
       "    <tr style=\"text-align: right;\">\n",
       "      <th></th>\n",
       "      <th>title</th>\n",
       "      <th>category</th>\n",
       "      <th>is_successfull</th>\n",
       "      <th>percentage_fund</th>\n",
       "      <th>funded</th>\n",
       "      <th>target</th>\n",
       "      <th>backers</th>\n",
       "      <th>thumbnail_type</th>\n",
       "      <th>number_rewards</th>\n",
       "      <th>min_price</th>\n",
       "      <th>max_price</th>\n",
       "      <th>num_news</th>\n",
       "      <th>num_comments</th>\n",
       "      <th>num_creater_projects</th>\n",
       "    </tr>\n",
       "  </thead>\n",
       "  <tbody>\n",
       "    <tr>\n",
       "      <th>0</th>\n",
       "      <td>TEASER Long-métrage \"L'APPÂT\"</td>\n",
       "      <td>Feature length, Film &amp; video, Digital art</td>\n",
       "      <td>True</td>\n",
       "      <td>152</td>\n",
       "      <td>3292</td>\n",
       "      <td>2160</td>\n",
       "      <td>58</td>\n",
       "      <td>https://www.kisskissbankbank.com/https://d3v4j...</td>\n",
       "      <td></td>\n",
       "      <td>5</td>\n",
       "      <td>80</td>\n",
       "      <td></td>\n",
       "      <td>9</td>\n",
       "      <td>1</td>\n",
       "    </tr>\n",
       "    <tr>\n",
       "      <th>1</th>\n",
       "      <td>ENREGISTREMENT DE L'ALBUM OB2 GREGORY OTT ET V...</td>\n",
       "      <td>Music, Recording</td>\n",
       "      <td>False</td>\n",
       "      <td>98</td>\n",
       "      <td>9815</td>\n",
       "      <td>10000</td>\n",
       "      <td>186</td>\n",
       "      <td>https://www.kisskissbankbank.com//assets/avata...</td>\n",
       "      <td></td>\n",
       "      <td>10</td>\n",
       "      <td>500</td>\n",
       "      <td></td>\n",
       "      <td>45</td>\n",
       "      <td>1</td>\n",
       "    </tr>\n",
       "    <tr>\n",
       "      <th>2</th>\n",
       "      <td>Playschool l'album : LA GARDERIE</td>\n",
       "      <td>Music, Film &amp; video, Clips</td>\n",
       "      <td>True</td>\n",
       "      <td>117</td>\n",
       "      <td>3505</td>\n",
       "      <td>3000</td>\n",
       "      <td>92</td>\n",
       "      <td>https://www.kisskissbankbank.com//assets/avata...</td>\n",
       "      <td></td>\n",
       "      <td>10</td>\n",
       "      <td>1000</td>\n",
       "      <td>4</td>\n",
       "      <td>22</td>\n",
       "      <td>1</td>\n",
       "    </tr>\n",
       "    <tr>\n",
       "      <th>3</th>\n",
       "      <td>Transat Jacques Vabre 2021 - Why it wouldn't b...</td>\n",
       "      <td>Sport, Film &amp; video, Tech</td>\n",
       "      <td>False</td>\n",
       "      <td>60</td>\n",
       "      <td>5985</td>\n",
       "      <td>10000</td>\n",
       "      <td>51</td>\n",
       "      <td>https://www.kisskissbankbank.com/https://d3v4j...</td>\n",
       "      <td></td>\n",
       "      <td>10</td>\n",
       "      <td>1000</td>\n",
       "      <td>2</td>\n",
       "      <td>9</td>\n",
       "      <td>1</td>\n",
       "    </tr>\n",
       "    <tr>\n",
       "      <th>4</th>\n",
       "      <td>\"LA MANOEUVRE\" un film de Victor Azoulay</td>\n",
       "      <td>Film &amp; video, Short film, Feature length</td>\n",
       "      <td>False</td>\n",
       "      <td>99</td>\n",
       "      <td>4970</td>\n",
       "      <td>5000</td>\n",
       "      <td>62</td>\n",
       "      <td>https://www.kisskissbankbank.com/https://d3v4j...</td>\n",
       "      <td></td>\n",
       "      <td>10</td>\n",
       "      <td>1000</td>\n",
       "      <td>1</td>\n",
       "      <td>6</td>\n",
       "      <td>1</td>\n",
       "    </tr>\n",
       "  </tbody>\n",
       "</table>\n",
       "</div>"
      ],
      "text/plain": [
       "                                               title  \\\n",
       "0                      TEASER Long-métrage \"L'APPÂT\"   \n",
       "1  ENREGISTREMENT DE L'ALBUM OB2 GREGORY OTT ET V...   \n",
       "2                   Playschool l'album : LA GARDERIE   \n",
       "3  Transat Jacques Vabre 2021 - Why it wouldn't b...   \n",
       "4           \"LA MANOEUVRE\" un film de Victor Azoulay   \n",
       "\n",
       "                                    category  is_successfull percentage_fund  \\\n",
       "0  Feature length, Film & video, Digital art            True             152   \n",
       "1                           Music, Recording           False              98   \n",
       "2                 Music, Film & video, Clips            True             117   \n",
       "3                  Sport, Film & video, Tech           False              60   \n",
       "4   Film & video, Short film, Feature length           False              99   \n",
       "\n",
       "  funded target backers                                     thumbnail_type  \\\n",
       "0   3292   2160      58  https://www.kisskissbankbank.com/https://d3v4j...   \n",
       "1   9815  10000     186  https://www.kisskissbankbank.com//assets/avata...   \n",
       "2   3505   3000      92  https://www.kisskissbankbank.com//assets/avata...   \n",
       "3   5985  10000      51  https://www.kisskissbankbank.com/https://d3v4j...   \n",
       "4   4970   5000      62  https://www.kisskissbankbank.com/https://d3v4j...   \n",
       "\n",
       "  number_rewards  min_price  max_price num_news num_comments  \\\n",
       "0                         5         80                     9   \n",
       "1                        10        500                    45   \n",
       "2                        10       1000        4           22   \n",
       "3                        10       1000        2            9   \n",
       "4                        10       1000        1            6   \n",
       "\n",
       "  num_creater_projects  \n",
       "0                    1  \n",
       "1                    1  \n",
       "2                    1  \n",
       "3                    1  \n",
       "4                    1  "
      ]
     },
     "execution_count": 64,
     "metadata": {},
     "output_type": "execute_result"
    }
   ],
   "source": [
    "df = pd.DataFrame(result)\n",
    "df.head()\n",
    "# df.to_csv('output.csv')"
   ]
  }
 ],
 "metadata": {
  "kernelspec": {
   "display_name": "Python 3",
   "language": "python",
   "name": "python3"
  },
  "language_info": {
   "codemirror_mode": {
    "name": "ipython",
    "version": 3
   },
   "file_extension": ".py",
   "mimetype": "text/x-python",
   "name": "python",
   "nbconvert_exporter": "python",
   "pygments_lexer": "ipython3",
   "version": "3.8.5"
  }
 },
 "nbformat": 4,
 "nbformat_minor": 4
}
