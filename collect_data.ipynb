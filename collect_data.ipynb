{
 "cells": [
  {
   "cell_type": "markdown",
   "metadata": {},
   "source": [
    "### Import packages"
   ]
  },
  {
   "cell_type": "code",
   "execution_count": 1,
   "metadata": {},
   "outputs": [],
   "source": [
    "import pandas as pd\n",
    "import numpy as np\n",
    "from bs4 import BeautifulSoup\n",
    "import requests\n",
    "import re\n",
    "from urllib.request import urlopen\n",
    "from tqdm import tqdm\n",
    "import random\n",
    "import time\n",
    "from selenium import webdriver"
   ]
  },
  {
   "cell_type": "markdown",
   "metadata": {},
   "source": [
    "### Global variables"
   ]
  },
  {
   "cell_type": "code",
   "execution_count": 2,
   "metadata": {},
   "outputs": [],
   "source": [
    "categories = {'sport': 'adventure-and-sport',\n",
    "             'music': 'music',\n",
    "             'film': 'film-and-video',\n",
    "             'theatre': 'live-performance'}"
   ]
  },
  {
   "cell_type": "markdown",
   "metadata": {},
   "source": [
    "### Functions"
   ]
  },
  {
   "cell_type": "code",
   "execution_count": 3,
   "metadata": {},
   "outputs": [],
   "source": [
    "# Create an url\n",
    "def create_url(page, category):\n",
    "    _filter = '&categories[' + categories[category] + ']=on'\n",
    "    return 'https://www.kisskissbankbank.com/en/discover?project[successful]=on' + _filter + '&page=' + str(page)"
   ]
  },
  {
   "cell_type": "code",
   "execution_count": 4,
   "metadata": {},
   "outputs": [],
   "source": [
    "# Get a page from url\n",
    "def get_page(url):\n",
    "    ok = False\n",
    "    page = requests.get(url)\n",
    "    time.sleep(5)\n",
    "    page = requests.get(url)\n",
    "    if(page.status_code == 200):\n",
    "        ok = True\n",
    "    bs = BeautifulSoup(page.text, 'html.parser')\n",
    "    return bs, ok"
   ]
  },
  {
   "cell_type": "code",
   "execution_count": 5,
   "metadata": {},
   "outputs": [],
   "source": [
    "# Get the number of the projects from bs\n",
    "def get_num_of_projects(bs):\n",
    "    total_projects = bs.findAll('span', 'text__StyledText-sc-1jqe2sw-0 kKHxol k-u-color-font1 k-u-size-tiny k-u-weight-regular')\n",
    "    return int(total_projects[0].contents[0].split(' ')[0].replace(',','')) "
   ]
  },
  {
   "cell_type": "code",
   "execution_count": 6,
   "metadata": {},
   "outputs": [],
   "source": [
    "# Get the number of pages from bs\n",
    "def get_num_of_pages(bs):\n",
    "    num_pro = get_num_of_projects(bs)\n",
    "    return int(num_pro/9) + 1"
   ]
  },
  {
   "cell_type": "code",
   "execution_count": 12,
   "metadata": {},
   "outputs": [],
   "source": [
    "# Function to go to project page and get information\n",
    "def go_to_project(url_pro):\n",
    "    \n",
    "    # Load the website by driver\n",
    "    chrome_path = './chromedriver.exe'\n",
    "    driver = webdriver.Chrome(chrome_path)\n",
    "    driver.get(url_pro)\n",
    "    time.sleep(5)\n",
    "    \n",
    "    # Accept the cookie\n",
    "    cookie_question = driver.find_element_by_xpath(\"//*[@id=\\\"App-react-component\\\"]/div[1]/div/div/div/div/button[2]\")\n",
    "    cookie_question.click()\n",
    "    \n",
    "    # Load the html page\n",
    "    html = driver.page_source\n",
    "    bs = BeautifulSoup(html, 'html.parser')\n",
    "    \n",
    "    # Calculate num_news, num_comments, num_contributions\n",
    "    infos = bs.findAll('a', 'k-NavBar__link')\n",
    "    news_bs = infos[2].findAll('span', 'badge__StyledBadge-sc-7liuod-0 eucluz k-Badge k-Badge--spaced')\n",
    "    comments_bs = infos[3].findAll('span', 'badge__StyledBadge-sc-7liuod-0 eucluz k-Badge k-Badge--spaced')\n",
    "    contributions_bs = infos[4].findAll('span', 'badge__StyledBadge-sc-7liuod-0 eucluz k-Badge k-Badge--spaced')\n",
    "    \n",
    "    if(len(news_bs) == 0):\n",
    "        num_news = 0\n",
    "    else:\n",
    "        num_news = int(news_bs[0].contents[0])\n",
    "\n",
    "    if(len(comments_bs) == 0):\n",
    "        num_comments = 0\n",
    "    else:\n",
    "        num_comments = int(comments_bs[0].contents[0])\n",
    "\n",
    "    if(len(contributions_bs) == 0):\n",
    "        num_contributions = 0\n",
    "    else:\n",
    "        num_contributions = int(contributions_bs[0].contents[0])\n",
    "    \n",
    "    # Calculate num_rewards, min_price, max_price, and backers each price\n",
    "    rewards = bs.findAll('div','marger__StyledMarger-sc-1qqifp5-0 kXGmDY')\n",
    "    prices = []\n",
    "    backers = []\n",
    "    for j in range(len(rewards)):\n",
    "        rj = rewards[j]\n",
    "        price_j = rj.findAll('h2', 'title__StyledTitle-sc-46lshq-0 edmigd k-RewardCard__title k-u-margin-bottom-double k-u-margin-top-none')\n",
    "        if(len(price_j) == 0):\n",
    "            break\n",
    "        price_j = float(price_j[0].contents[0].replace('€','').replace(',',''))\n",
    "        prices.append(price_j)\n",
    "        backers_j = rj.findAll('span', 'text__StyledText-sc-1jqe2sw-0 kKHxol k-u-color-font1 k-u-size-micro k-u-weight-regular k-RewardCard__infos k-RewardCard__infos--hasBottomMargin k-RewardCard__infos--disabled')\n",
    "        bj = 0\n",
    "        if(len(backers_j) != 0 and backers_j[0].contents[0].replace(' ','').isnumeric()):\n",
    "            bj = int(backers_j[0].contents[0])\n",
    "        backers.append(bj)\n",
    "    prices_np = np.array(prices)\n",
    "    backers_np = np.array(backers)\n",
    "    if(len(prices_np) == 0):\n",
    "        min_price = -1\n",
    "        max_price = -1\n",
    "    else:\n",
    "        min_price = np.min(prices_np)\n",
    "        max_price = np.max(prices_np)\n",
    "    num_rewards = len(prices_np)\n",
    "    #print(backers_np)\n",
    "    \n",
    "    # Calculate num_creator_projects\n",
    "    url_owner = bs.findAll('a', 'owner-info__StyledOwnerGrid-tqxc8c-0 jnrkmW')[0].get('href')\n",
    "    driver_owner = webdriver.Chrome(chrome_path)\n",
    "    driver_owner.get('https://www.kisskissbankbank.com'+ url_owner)\n",
    "    time.sleep(5)\n",
    "    cookie_question_owner = driver_owner.find_element_by_xpath('//*[@id=\"Header-react-component\"]/div[1]/div/div/div/div/button[2]')\n",
    "    cookie_question_owner.click()\n",
    "    html_owner = driver_owner.page_source\n",
    "    bs_owner = BeautifulSoup(html_owner, 'html.parser')\n",
    "    num_creator_projects = int(bs_owner.findAll('span', 'k-Badge k-HorizontalNav__badge')[0].contents[0])\n",
    "    #print(num_creator_projects)\n",
    "    \n",
    "    driver_owner.quit()\n",
    "    driver.quit()\n",
    "    return num_news, num_comments, num_contributions, num_rewards, min_price, max_price, prices_np, backers_np, num_creator_projects"
   ]
  },
  {
   "cell_type": "code",
   "execution_count": 37,
   "metadata": {},
   "outputs": [],
   "source": [
    "# Function to collect all features\n",
    "def collect_data(start = 1, end = 2, category = 'music'):\n",
    "    samples = []\n",
    "    reward_prices = []\n",
    "    count = (start - 1)*9\n",
    "    for i in tqdm(range(start,end)):\n",
    "        url_i = create_url(i,category)\n",
    "        #print(url_i)\n",
    "        #bs_i, ok = get_page(url_i)\n",
    "        # Load the website by driver - First time\n",
    "        chrome_path = './chromedriver.exe'\n",
    "        driver_i = webdriver.Chrome(chrome_path)\n",
    "        driver_i.get(url_i)\n",
    "        time.sleep(10)\n",
    "\n",
    "        # Accept the cookie\n",
    "        cookie_question_i = driver_i.find_element_by_xpath(\"//*[@id=\\\"App-react-component\\\"]/div[1]/div/div/div/div/button[2]\")\n",
    "        cookie_question_i.click()\n",
    "\n",
    "        # Load the html page\n",
    "        html_i = driver_i.page_source\n",
    "        bs_i = BeautifulSoup(html_i, 'html.parser')\n",
    "        \n",
    "        projects = bs_i.findAll('a', 'styles__StyledCrowdfundingCard-sc-1dxuhb7-0 dOcwdr k-CrowdfundingCard k-Card k-Card--light k-Card--withoutBoxShadowOnHover k-CrowdfundingCard--titlesMinHeight')\n",
    "        for p in tqdm(projects):\n",
    "            # Extract is_successful\n",
    "            is_successful = p.findAll('span','state-badge__StyledState-sc-1ixvpgd-0 efdutF')[0].contents[1]\n",
    "\n",
    "            # Extract percentage_fund\n",
    "            percentage_fund = p.findAll('span', 'text__StyledText-sc-1jqe2sw-0 kKHxol k-u-color-font1 k-u-size-micro k-u-weight-regular k-CrowdfundingCard__progressBar__percent k-u-hidden@s-down')[0].contents[0]\n",
    "\n",
    "            # Extract funded, target, in_2020, backers\n",
    "            infos = p.findAll('div', 'k-CrowdfundingCard__informations__infoContainer')\n",
    "            funded = infos[2].findAll('strong', 'text__StyledText-sc-1jqe2sw-0 kKHxol k-u-weight-regular info__StyledText-h7ofxb-0 jfWZBp')[0].contents[0]\n",
    "            target = infos[2].findAll('span', 'k-u-hidden@s-down')[0].contents[0]\n",
    "            in_2020 = infos[1].findAll('strong', 'text__StyledText-sc-1jqe2sw-0 kKHxol k-u-weight-regular info__StyledText-h7ofxb-0 jfWZBp')[0].contents[0]\n",
    "            backers = p.findAll('strong', 'text__StyledText-sc-1jqe2sw-0 kKHxol k-u-weight-regular info__StyledText-h7ofxb-0 jfWZBp')[0].contents[0]\n",
    "\n",
    "            # Extract category\n",
    "\n",
    "            # Extract thumbnail type\n",
    "            img = p.findAll('div','k-CrowdfundingCard__image__imageContainer')[0]\n",
    "            thumbnail_type = img.find('img').get('src').split('.')[-1]\n",
    "\n",
    "            # Extract remaining features\n",
    "            url_pro = p.get('href')\n",
    "            num_news, num_comments, num_contributions, num_rewards, min_price, max_price, prices_np, backers_np, num_creator_projects = go_to_project(url_pro)\n",
    "\n",
    "            #print(num_news, num_comments, num_contributions,num_rewards, min_price, max_price)\n",
    "            #print(backers_np)\n",
    "            #print(prices_np)\n",
    "            #print(num_creator_projects)\n",
    "            #print('----------------------------------')\n",
    "            sample_i = [\n",
    "                count,\n",
    "                is_successful,\n",
    "                percentage_fund,\n",
    "                funded,\n",
    "                target,\n",
    "                in_2020,\n",
    "                backers,\n",
    "                category,\n",
    "                thumbnail_type,\n",
    "                num_rewards,\n",
    "                min_price,\n",
    "                max_price,\n",
    "                num_news,\n",
    "                num_comments,\n",
    "                num_contributions,\n",
    "                num_creator_projects\n",
    "            ]\n",
    "            print(sample_i)\n",
    "            for j in range(len(prices_np)):\n",
    "                rp = [count, category, prices_np[j], backers_np[j]]\n",
    "                reward_prices.append(rp)\n",
    "            samples.append(sample_i)\n",
    "            count += 1\n",
    "            time.sleep(random.random()*2)\n",
    "        driver_i.quit()\n",
    "        time.sleep(random.random()*5)\n",
    "    return samples, reward_prices\n"
   ]
  },
  {
   "cell_type": "markdown",
   "metadata": {},
   "source": [
    "### Tests"
   ]
  },
  {
   "cell_type": "code",
   "execution_count": 72,
   "metadata": {},
   "outputs": [
    {
     "data": {
      "text/plain": [
       "('https://www.kisskissbankbank.com/en/discover?project[successful]=on&categories[music]=on&page=2',\n",
       " True)"
      ]
     },
     "execution_count": 72,
     "metadata": {},
     "output_type": "execute_result"
    }
   ],
   "source": [
    "url = create_url(2,'music')\n",
    "bs, ok = get_page(url)\n",
    "url, ok"
   ]
  },
  {
   "cell_type": "code",
   "execution_count": 11,
   "metadata": {},
   "outputs": [
    {
     "data": {
      "text/plain": [
       "5679"
      ]
     },
     "execution_count": 11,
     "metadata": {},
     "output_type": "execute_result"
    }
   ],
   "source": [
    "get_num_of_projects(bs)"
   ]
  },
  {
   "cell_type": "code",
   "execution_count": 12,
   "metadata": {},
   "outputs": [
    {
     "data": {
      "text/plain": [
       "632"
      ]
     },
     "execution_count": 12,
     "metadata": {},
     "output_type": "execute_result"
    }
   ],
   "source": [
    "num_pages = get_num_of_pages(bs)\n",
    "num_pages"
   ]
  },
  {
   "cell_type": "code",
   "execution_count": null,
   "metadata": {},
   "outputs": [],
   "source": [
    "data, rewards = collect_data(7,8,'theatre')"
   ]
  },
  {
   "cell_type": "code",
   "execution_count": 15,
   "metadata": {},
   "outputs": [
    {
     "name": "stdout",
     "output_type": "stream",
     "text": [
      "0\n"
     ]
    }
   ],
   "source": []
  },
  {
   "cell_type": "markdown",
   "metadata": {},
   "source": [
    "### Main"
   ]
  },
  {
   "cell_type": "code",
   "execution_count": 44,
   "metadata": {},
   "outputs": [],
   "source": [
    "features_data = [\n",
    "    'id',\n",
    "    'is_successful',\n",
    "    'percentage_fund',\n",
    "    'funded',\n",
    "    'target',\n",
    "    'in_2020',\n",
    "    'backers',\n",
    "    'category',\n",
    "    'thumbnail_type',\n",
    "    'num_rewards',\n",
    "    'min_price',\n",
    "    'max_price',\n",
    "    'num_news',\n",
    "    'num_comments',\n",
    "    'num_contributions',\n",
    "    'num_creator_projects'\n",
    "]\n",
    "features_rewards = [\n",
    "    'id',\n",
    "    'category',\n",
    "    'price',\n",
    "    'backers'\n",
    "]"
   ]
  },
  {
   "cell_type": "code",
   "execution_count": 41,
   "metadata": {},
   "outputs": [
    {
     "name": "stderr",
     "output_type": "stream",
     "text": [
      "  0%|          | 0/11 [00:00<?, ?it/s]\n",
      "  0%|          | 0/9 [00:00<?, ?it/s]\u001b[A"
     ]
    },
    {
     "name": "stdout",
     "output_type": "stream",
     "text": [
      "[0, 'successful', '100 %', '€4,005', 'Out of €4,000', '12/16/2020', '15', 'theatre', 'jpg', 9, 5.0, 600.0, 0, 3, 18, 1]\n"
     ]
    },
    {
     "name": "stderr",
     "output_type": "stream",
     "text": [
      "\n",
      " 11%|█         | 1/9 [00:37<04:56, 37.03s/it]\u001b[A"
     ]
    },
    {
     "name": "stdout",
     "output_type": "stream",
     "text": [
      "[1, 'successful', '131 %', '€7,859', 'Out of €6,000', '12/16/2020', '40', 'theatre', 'jpeg', 7, 20.0, 500.0, 0, 6, 43, 1]\n"
     ]
    },
    {
     "name": "stderr",
     "output_type": "stream",
     "text": [
      "\n",
      " 22%|██▏       | 2/9 [01:13<04:18, 36.88s/it]\u001b[A"
     ]
    },
    {
     "name": "stdout",
     "output_type": "stream",
     "text": [
      "[2, 'successful', '104 %', '€4,250', 'Out of €4,100', '12/16/2020', '58', 'theatre', 'png', 7, 5.0, 1000.0, 0, 10, 60, 1]\n"
     ]
    },
    {
     "name": "stderr",
     "output_type": "stream",
     "text": [
      "\n",
      " 33%|███▎      | 3/9 [02:13<04:23, 43.90s/it]\u001b[A"
     ]
    },
    {
     "name": "stdout",
     "output_type": "stream",
     "text": [
      "[3, 'successful', '103 %', '€7,761', 'Out of €7,500', '11/28/2020', '52', 'theatre', 'jpg', 7, 25.0, 1000.0, 0, 13, 52, 1]\n"
     ]
    },
    {
     "name": "stderr",
     "output_type": "stream",
     "text": [
      "\n",
      " 44%|████▍     | 4/9 [02:51<03:29, 41.94s/it]\u001b[A"
     ]
    },
    {
     "name": "stdout",
     "output_type": "stream",
     "text": [
      "[4, 'successful', '118 %', '€3,080', 'Out of €2,600', '11/9/2020', '61', 'theatre', 'jpg', 7, 10.0, 1500.0, 5, 12, 61, 6]\n"
     ]
    },
    {
     "name": "stderr",
     "output_type": "stream",
     "text": [
      "\n",
      " 56%|█████▌    | 5/9 [03:27<02:41, 40.35s/it]\u001b[A"
     ]
    },
    {
     "name": "stdout",
     "output_type": "stream",
     "text": [
      "[5, 'successful', '101 %', '€3,030', 'Out of €3,000', '11/7/2020', '26', 'theatre', 'jpeg', 3, 10.0, 50.0, 1, 4, 26, 1]\n"
     ]
    },
    {
     "name": "stderr",
     "output_type": "stream",
     "text": [
      "\n",
      " 67%|██████▋   | 6/9 [04:03<01:56, 38.88s/it]\u001b[A"
     ]
    },
    {
     "name": "stdout",
     "output_type": "stream",
     "text": [
      "[6, 'successful', '100 %', '€3,352', 'Out of €3,350', '10/31/2020', '32', 'theatre', 'jpg', 5, 20.0, 500.0, 0, 1, 33, 1]\n"
     ]
    },
    {
     "name": "stderr",
     "output_type": "stream",
     "text": [
      "\n",
      " 78%|███████▊  | 7/9 [04:39<01:16, 38.13s/it]\u001b[A"
     ]
    },
    {
     "name": "stdout",
     "output_type": "stream",
     "text": [
      "[7, 'successful', '114 %', '€5,369', 'Out of €4,700', '10/3/2020', '103', 'theatre', 'jpg', 7, 5.0, 300.0, 0, 15, 104, 1]\n"
     ]
    },
    {
     "name": "stderr",
     "output_type": "stream",
     "text": [
      "\n",
      " 89%|████████▉ | 8/9 [05:17<00:37, 37.98s/it]\u001b[A"
     ]
    },
    {
     "name": "stdout",
     "output_type": "stream",
     "text": [
      "[8, 'successful', '112 %', '€11,196', 'Out of €10,000', '9/8/2020', '60', 'theatre', 'jpg', 7, 10.0, 1000.0, 1, 16, 63, 1]\n"
     ]
    },
    {
     "name": "stderr",
     "output_type": "stream",
     "text": [
      "\n",
      "100%|██████████| 9/9 [05:53<00:00, 39.26s/it]\u001b[A\n",
      "  9%|▉         | 1/11 [06:20<1:03:24, 380.46s/it]\n",
      "  0%|          | 0/9 [00:00<?, ?it/s]\u001b[A"
     ]
    },
    {
     "name": "stdout",
     "output_type": "stream",
     "text": [
      "[9, 'successful', '125 %', '€6,250', 'Out of €5,000', '9/7/2020', '101', 'theatre', 'JPG', 5, 15.0, 100.0, 0, 16, 102, 1]\n"
     ]
    },
    {
     "name": "stderr",
     "output_type": "stream",
     "text": [
      "\n",
      " 11%|█         | 1/9 [00:36<04:49, 36.16s/it]\u001b[A"
     ]
    },
    {
     "name": "stdout",
     "output_type": "stream",
     "text": [
      "[10, 'successful', '118 %', '€4,735', 'Out of €4,000', '8/31/2020', '38', 'theatre', 'jpg', 6, 10.0, 100.0, 0, 2, 39, 1]\n"
     ]
    },
    {
     "name": "stderr",
     "output_type": "stream",
     "text": [
      "\n",
      " 22%|██▏       | 2/9 [01:13<04:15, 36.50s/it]\u001b[A"
     ]
    },
    {
     "name": "stdout",
     "output_type": "stream",
     "text": [
      "[11, 'successful', '101 %', '€3,430', 'Out of €3,400', '8/11/2020', '60', 'theatre', 'jpeg', 11, 5.0, 800.0, 0, 19, 68, 1]\n"
     ]
    },
    {
     "name": "stderr",
     "output_type": "stream",
     "text": [
      "\n",
      " 33%|███▎      | 3/9 [01:50<03:39, 36.65s/it]\u001b[A"
     ]
    },
    {
     "name": "stdout",
     "output_type": "stream",
     "text": [
      "[12, 'successful', '109 %', '€6,200', 'Out of €5,700', '8/5/2020', '78', 'theatre', 'jpg', 7, 10.0, 400.0, 7, 19, 81, 1]\n"
     ]
    },
    {
     "name": "stderr",
     "output_type": "stream",
     "text": [
      "\n",
      " 44%|████▍     | 4/9 [02:27<03:03, 36.71s/it]\u001b[A"
     ]
    },
    {
     "name": "stdout",
     "output_type": "stream",
     "text": [
      "[13, 'successful', '106 %', '€4,455', 'Out of €4,200', '7/24/2020', '32', 'theatre', 'jpg', 6, 10.0, 1000.0, 1, 3, 32, 1]\n"
     ]
    },
    {
     "name": "stderr",
     "output_type": "stream",
     "text": [
      "\n",
      " 56%|█████▌    | 5/9 [03:06<02:29, 37.32s/it]\u001b[A"
     ]
    },
    {
     "name": "stdout",
     "output_type": "stream",
     "text": [
      "[14, 'successful', '101 %', '€5,035', 'Out of €5,000', '7/18/2020', '72', 'theatre', 'png', 8, 5.0, 500.0, 0, 16, 77, 1]\n"
     ]
    },
    {
     "name": "stderr",
     "output_type": "stream",
     "text": [
      "\n",
      " 67%|██████▋   | 6/9 [03:44<01:52, 37.51s/it]\u001b[A"
     ]
    },
    {
     "name": "stdout",
     "output_type": "stream",
     "text": [
      "[15, 'successful', '106 %', '€10,647', 'Out of €10,000', '6/29/2020', '241', 'theatre', 'jpg', 7, 5.0, 150.0, 3, 16, 244, 1]\n"
     ]
    },
    {
     "name": "stderr",
     "output_type": "stream",
     "text": [
      "\n",
      " 78%|███████▊  | 7/9 [04:19<01:13, 36.98s/it]\u001b[A\n",
      " 89%|████████▉ | 8/9 [04:55<00:36, 36.61s/it]\u001b[A"
     ]
    },
    {
     "name": "stdout",
     "output_type": "stream",
     "text": [
      "[16, 'successful', '111 %', '€7,570', 'Out of €6,800', '6/24/2020', '94', 'theatre', 'jpg', 8, 10.0, 2000.0, 0, 31, 94, 1]\n",
      "[17, 'successful', '104 %', '€9,985', 'Out of €9,600', '6/20/2020', '164', 'theatre', 'jpg', 13, 10.0, 1650.0, 3, 38, 169, 1]\n"
     ]
    },
    {
     "name": "stderr",
     "output_type": "stream",
     "text": [
      "\n",
      "100%|██████████| 9/9 [05:31<00:00, 36.87s/it]\u001b[A\n",
      " 18%|█▊        | 2/11 [12:21<56:12, 374.69s/it]  \n",
      "  0%|          | 0/9 [00:00<?, ?it/s]\u001b[A"
     ]
    },
    {
     "name": "stdout",
     "output_type": "stream",
     "text": [
      "[18, 'successful', '132 %', '€5,270', 'Out of €4,000', '6/17/2020', '80', 'theatre', 'jpg', 11, 10.0, 3000.0, 1, 22, 88, 1]\n"
     ]
    },
    {
     "name": "stderr",
     "output_type": "stream",
     "text": [
      "\n",
      " 11%|█         | 1/9 [00:38<05:07, 38.44s/it]\u001b[A"
     ]
    },
    {
     "name": "stdout",
     "output_type": "stream",
     "text": [
      "[19, 'successful', '111 %', '€16,599', 'Out of €15,000', '6/16/2020', '239', 'theatre', 'jpg', 7, 10.0, 1000.0, 4, 51, 241, 1]\n"
     ]
    },
    {
     "name": "stderr",
     "output_type": "stream",
     "text": [
      "\n",
      " 22%|██▏       | 2/9 [01:14<04:23, 37.63s/it]\u001b[A"
     ]
    },
    {
     "name": "stdout",
     "output_type": "stream",
     "text": [
      "[20, 'successful', '100 %', '€6,020', 'Out of €6,000', '6/8/2020', '36', 'theatre', 'jpg', 11, 10.0, 10000.0, 0, 2, 41, 1]\n"
     ]
    },
    {
     "name": "stderr",
     "output_type": "stream",
     "text": [
      "\n",
      " 33%|███▎      | 3/9 [01:51<03:46, 37.67s/it]\u001b[A"
     ]
    },
    {
     "name": "stdout",
     "output_type": "stream",
     "text": [
      "[21, 'successful', '227 %', '€6,819', 'Out of €3,000', '6/2/2020', '241', 'theatre', 'png', 7, 5.0, 150.0, 2, 54, 243, 1]\n"
     ]
    },
    {
     "name": "stderr",
     "output_type": "stream",
     "text": [
      "\n",
      " 44%|████▍     | 4/9 [02:28<03:07, 37.47s/it]\u001b[A\n",
      " 56%|█████▌    | 5/9 [03:05<02:29, 37.33s/it]\u001b[A"
     ]
    },
    {
     "name": "stdout",
     "output_type": "stream",
     "text": [
      "[22, 'successful', '147 %', '€17,595', 'Out of €12,000', '5/28/2020', '170', 'theatre', 'jpg', 6, 10.0, 3000.0, 9, 49, 177, 1]\n",
      "[23, 'successful', '105 %', '€6,305', 'Out of €6,000', '5/18/2020', '81', 'theatre', 'jpg', 5, 10.0, 1000.0, 0, 6, 93, 1]\n"
     ]
    },
    {
     "name": "stderr",
     "output_type": "stream",
     "text": [
      "\n",
      " 67%|██████▋   | 6/9 [03:42<01:50, 36.96s/it]\u001b[A\n",
      " 78%|███████▊  | 7/9 [04:20<01:14, 37.50s/it]\u001b[A"
     ]
    },
    {
     "name": "stdout",
     "output_type": "stream",
     "text": [
      "[24, 'successful', '108 %', '€4,300', 'Out of €4,000', '5/15/2020', '69', 'theatre', 'jpg', 5, 10.0, 200.0, 2, 12, 72, 1]\n",
      "[25, 'successful', '100 %', '€4,010', 'Out of €4,000', '5/9/2020', '40', 'theatre', 'jpg', 5, 5.0, 400.0, 0, 7, 43, 1]\n"
     ]
    },
    {
     "name": "stderr",
     "output_type": "stream",
     "text": [
      "\n",
      " 89%|████████▉ | 8/9 [04:56<00:36, 36.85s/it]\u001b[A"
     ]
    },
    {
     "name": "stdout",
     "output_type": "stream",
     "text": [
      "[26, 'successful', '114 %', '€9,145', 'Out of €8,000', '5/6/2020', '109', 'theatre', 'jpg', 9, 10.0, 1500.0, 2, 12, 115, 1]\n"
     ]
    },
    {
     "name": "stderr",
     "output_type": "stream",
     "text": [
      "\n",
      "100%|██████████| 9/9 [05:31<00:00, 36.85s/it]\u001b[A\n",
      " 27%|██▋       | 3/11 [18:18<49:13, 369.21s/it]\n",
      "  0%|          | 0/9 [00:00<?, ?it/s]\u001b[A"
     ]
    },
    {
     "name": "stdout",
     "output_type": "stream",
     "text": [
      "[27, 'successful', '237 %', '€4,265', 'Out of €1,800', '5/1/2020', '67', 'theatre', 'png', 8, 5.0, 1800.0, 4, 24, 69, 1]\n"
     ]
    },
    {
     "name": "stderr",
     "output_type": "stream",
     "text": [
      "\n",
      " 11%|█         | 1/9 [00:37<05:03, 37.90s/it]\u001b[A"
     ]
    },
    {
     "name": "stdout",
     "output_type": "stream",
     "text": [
      "[28, 'successful', '105 %', '€7,350', 'Out of €7,000', '4/25/2020', '80', 'theatre', 'jpg', 9, 20.0, 800.0, 8, 4, 84, 1]\n"
     ]
    },
    {
     "name": "stderr",
     "output_type": "stream",
     "text": [
      "\n",
      " 22%|██▏       | 2/9 [01:16<04:26, 38.05s/it]\u001b[A"
     ]
    },
    {
     "name": "stdout",
     "output_type": "stream",
     "text": [
      "[29, 'successful', '105 %', '€3,160', 'Out of €3,000', '4/10/2020', '62', 'theatre', 'jpg', 6, 10.0, 150.0, 0, 6, 82, 1]\n"
     ]
    },
    {
     "name": "stderr",
     "output_type": "stream",
     "text": [
      "\n",
      " 33%|███▎      | 3/9 [01:53<03:47, 37.89s/it]\u001b[A"
     ]
    },
    {
     "name": "stdout",
     "output_type": "stream",
     "text": [
      "[30, 'successful', '109 %', '€5,464', 'Out of €5,000', '4/5/2020', '101', 'theatre', 'jpg', 6, 30.0, 450.0, 0, 29, 103, 1]\n"
     ]
    },
    {
     "name": "stderr",
     "output_type": "stream",
     "text": [
      "\n",
      " 44%|████▍     | 4/9 [02:30<03:07, 37.48s/it]\u001b[A"
     ]
    },
    {
     "name": "stdout",
     "output_type": "stream",
     "text": [
      "[31, 'successful', '120 %', '€3,610', 'Out of €3,000', '3/21/2020', '39', 'theatre', 'png', 7, 10.0, 200.0, 0, 5, 43, 2]\n"
     ]
    },
    {
     "name": "stderr",
     "output_type": "stream",
     "text": [
      "\n",
      " 56%|█████▌    | 5/9 [03:06<02:28, 37.18s/it]\u001b[A"
     ]
    },
    {
     "name": "stdout",
     "output_type": "stream",
     "text": [
      "[32, 'successful', '109 %', '€6,515', 'Out of €6,000', '3/10/2020', '57', 'theatre', 'jpg', 8, 5.0, 1450.0, 13, 5, 63, 2]\n"
     ]
    },
    {
     "name": "stderr",
     "output_type": "stream",
     "text": [
      "\n",
      " 67%|██████▋   | 6/9 [03:43<01:50, 36.91s/it]\u001b[A"
     ]
    },
    {
     "name": "stdout",
     "output_type": "stream",
     "text": [
      "[33, 'successful', '105 %', '€10,471', 'Out of €10,000', '3/8/2020', '148', 'theatre', 'png', 7, 10.0, 600.0, 4, 17, 150, 1]\n"
     ]
    },
    {
     "name": "stderr",
     "output_type": "stream",
     "text": [
      "\n",
      " 78%|███████▊  | 7/9 [04:19<01:13, 36.64s/it]\u001b[A"
     ]
    },
    {
     "name": "stdout",
     "output_type": "stream",
     "text": [
      "[34, 'successful', '110 %', '€4,848', 'Out of €4,400', '3/7/2020', '70', 'theatre', 'jpg', 5, 10.0, 300.0, 12, 18, 75, 1]\n"
     ]
    },
    {
     "name": "stderr",
     "output_type": "stream",
     "text": [
      "\n",
      " 89%|████████▉ | 8/9 [04:54<00:36, 36.39s/it]\u001b[A"
     ]
    },
    {
     "name": "stdout",
     "output_type": "stream",
     "text": [
      "[35, 'successful', '111 %', '€5,570', 'Out of €5,000', '2/19/2020', '84', 'theatre', 'jpg', 5, 10.0, 150.0, 0, 9, 97, 1]\n"
     ]
    },
    {
     "name": "stderr",
     "output_type": "stream",
     "text": [
      "\n",
      "100%|██████████| 9/9 [05:32<00:00, 36.89s/it]\u001b[A\n",
      " 36%|███▋      | 4/11 [24:15<42:40, 365.77s/it]\n",
      "  0%|          | 0/9 [00:00<?, ?it/s]\u001b[A"
     ]
    },
    {
     "name": "stdout",
     "output_type": "stream",
     "text": [
      "[36, 'successful', '111 %', '€4,440', 'Out of €4,000', '2/17/2020', '88', 'theatre', 'png', 8, 10.0, 500.0, 0, 8, 93, 5]\n"
     ]
    },
    {
     "name": "stderr",
     "output_type": "stream",
     "text": [
      "\n",
      " 11%|█         | 1/9 [00:37<05:02, 37.76s/it]\u001b[A"
     ]
    },
    {
     "name": "stdout",
     "output_type": "stream",
     "text": [
      "[37, 'successful', '112 %', '€11,160', 'Out of €10,000', '2/7/2020', '134', 'theatre', 'png', 8, 10.0, 750.0, 0, 17, 138, 1]\n"
     ]
    },
    {
     "name": "stderr",
     "output_type": "stream",
     "text": [
      "\n",
      " 22%|██▏       | 2/9 [01:14<04:22, 37.54s/it]\u001b[A"
     ]
    },
    {
     "name": "stdout",
     "output_type": "stream",
     "text": [
      "[38, 'successful', '121 %', '€4,714', 'Out of €3,888', '2/4/2020', '58', 'theatre', 'JPG', 3, 30.0, 100.0, 0, 12, 63, 1]\n"
     ]
    },
    {
     "name": "stderr",
     "output_type": "stream",
     "text": [
      "\n",
      " 33%|███▎      | 3/9 [01:50<03:41, 36.92s/it]\u001b[A\n",
      " 44%|████▍     | 4/9 [02:25<03:02, 36.56s/it]\u001b[A"
     ]
    },
    {
     "name": "stdout",
     "output_type": "stream",
     "text": [
      "[39, 'successful', '106 %', '€3,170', 'Out of €3,000', '2/3/2020', '54', 'theatre', 'jpg', 10, 5.0, 200.0, 2, 7, 68, 1]\n",
      "[40, 'successful', '102 %', '€5,105', 'Out of €5,000', '2/2/2020', '41', 'theatre', 'jpg', 11, 10.0, 50000.0, 0, 12, 44, 2]\n"
     ]
    },
    {
     "name": "stderr",
     "output_type": "stream",
     "text": [
      "\n",
      " 56%|█████▌    | 5/9 [03:03<02:27, 36.92s/it]\u001b[A"
     ]
    },
    {
     "name": "stdout",
     "output_type": "stream",
     "text": [
      "[41, 'successful', '119 %', '€3,580', 'Out of €3,000', '1/25/2020', '35', 'theatre', 'png', 9, 5.0, 200.0, 0, 4, 35, 1]\n"
     ]
    },
    {
     "name": "stderr",
     "output_type": "stream",
     "text": [
      "\n",
      " 67%|██████▋   | 6/9 [03:41<01:51, 37.19s/it]\u001b[A"
     ]
    },
    {
     "name": "stdout",
     "output_type": "stream",
     "text": [
      "[42, 'successful', '117 %', '€3,495', 'Out of €3,000', '1/24/2020', '41', 'theatre', 'jpg', 12, 10.0, 500.0, 0, 29, 64, 1]\n"
     ]
    },
    {
     "name": "stderr",
     "output_type": "stream",
     "text": [
      "\n",
      " 78%|███████▊  | 7/9 [04:19<01:14, 37.30s/it]\u001b[A"
     ]
    },
    {
     "name": "stdout",
     "output_type": "stream",
     "text": [
      "[43, 'successful', '101 %', '€3,040', 'Out of €3,000', '1/22/2020', '43', 'theatre', 'jpg', 6, 5.0, 250.0, 0, 9, 46, 1]\n"
     ]
    },
    {
     "name": "stderr",
     "output_type": "stream",
     "text": [
      "\n",
      " 89%|████████▉ | 8/9 [04:56<00:37, 37.22s/it]\u001b[A"
     ]
    },
    {
     "name": "stdout",
     "output_type": "stream",
     "text": [
      "[44, 'successful', '118 %', '€5,881', 'Out of €5,000', '1/3/2020', '85', 'theatre', 'jpg', 7, 10.0, 500.0, 0, 16, 88, 1]\n"
     ]
    },
    {
     "name": "stderr",
     "output_type": "stream",
     "text": [
      "\n",
      "100%|██████████| 9/9 [05:36<00:00, 37.35s/it]\u001b[A\n",
      " 45%|████▌     | 5/11 [30:15<36:23, 363.95s/it]\n",
      "  0%|          | 0/9 [00:00<?, ?it/s]\u001b[A"
     ]
    },
    {
     "name": "stdout",
     "output_type": "stream",
     "text": [
      "[45, 'successful', '100 %', '€4,005', 'Out of €4,000', '12/16/2020', '15', 'theatre', 'jpg', 9, 5.0, 600.0, 0, 3, 18, 1]\n"
     ]
    },
    {
     "name": "stderr",
     "output_type": "stream",
     "text": [
      "\n",
      " 11%|█         | 1/9 [00:37<04:56, 37.01s/it]\u001b[A"
     ]
    },
    {
     "name": "stdout",
     "output_type": "stream",
     "text": [
      "[46, 'successful', '131 %', '€7,859', 'Out of €6,000', '12/16/2020', '40', 'theatre', 'jpeg', 7, 20.0, 500.0, 0, 6, 43, 1]\n"
     ]
    },
    {
     "name": "stderr",
     "output_type": "stream",
     "text": [
      "\n",
      " 22%|██▏       | 2/9 [01:16<04:24, 37.77s/it]\u001b[A"
     ]
    },
    {
     "name": "stdout",
     "output_type": "stream",
     "text": [
      "[47, 'successful', '104 %', '€4,250', 'Out of €4,100', '12/16/2020', '58', 'theatre', 'png', 7, 5.0, 1000.0, 0, 10, 60, 1]\n"
     ]
    },
    {
     "name": "stderr",
     "output_type": "stream",
     "text": [
      "\n",
      " 33%|███▎      | 3/9 [01:58<03:53, 38.98s/it]\u001b[A"
     ]
    },
    {
     "name": "stdout",
     "output_type": "stream",
     "text": [
      "[48, 'successful', '103 %', '€7,761', 'Out of €7,500', '11/28/2020', '52', 'theatre', 'jpg', 7, 25.0, 1000.0, 0, 13, 52, 1]\n"
     ]
    },
    {
     "name": "stderr",
     "output_type": "stream",
     "text": [
      "\n",
      " 44%|████▍     | 4/9 [02:36<03:14, 38.81s/it]\u001b[A"
     ]
    },
    {
     "name": "stdout",
     "output_type": "stream",
     "text": [
      "[49, 'successful', '118 %', '€3,080', 'Out of €2,600', '11/9/2020', '61', 'theatre', 'jpg', 7, 10.0, 1500.0, 5, 12, 61, 6]\n"
     ]
    },
    {
     "name": "stderr",
     "output_type": "stream",
     "text": [
      "\n",
      " 56%|█████▌    | 5/9 [03:13<02:32, 38.14s/it]\u001b[A"
     ]
    },
    {
     "name": "stdout",
     "output_type": "stream",
     "text": [
      "[50, 'successful', '101 %', '€3,030', 'Out of €3,000', '11/7/2020', '26', 'theatre', 'jpeg', 3, 10.0, 50.0, 1, 4, 26, 1]\n"
     ]
    },
    {
     "name": "stderr",
     "output_type": "stream",
     "text": [
      "\n",
      " 67%|██████▋   | 6/9 [03:48<01:51, 37.24s/it]\u001b[A"
     ]
    },
    {
     "name": "stdout",
     "output_type": "stream",
     "text": [
      "[51, 'successful', '100 %', '€3,352', 'Out of €3,350', '10/31/2020', '32', 'theatre', 'jpg', 5, 20.0, 500.0, 0, 1, 33, 1]\n"
     ]
    },
    {
     "name": "stderr",
     "output_type": "stream",
     "text": [
      "\n",
      " 78%|███████▊  | 7/9 [04:24<01:13, 36.95s/it]\u001b[A"
     ]
    },
    {
     "name": "stdout",
     "output_type": "stream",
     "text": [
      "[52, 'successful', '114 %', '€5,369', 'Out of €4,700', '10/3/2020', '103', 'theatre', 'jpg', 7, 5.0, 300.0, 0, 15, 104, 1]\n"
     ]
    },
    {
     "name": "stderr",
     "output_type": "stream",
     "text": [
      "\n",
      " 89%|████████▉ | 8/9 [05:01<00:37, 37.04s/it]\u001b[A"
     ]
    },
    {
     "name": "stdout",
     "output_type": "stream",
     "text": [
      "[53, 'successful', '112 %', '€11,196', 'Out of €10,000', '9/8/2020', '60', 'theatre', 'jpg', 7, 10.0, 1000.0, 1, 16, 63, 1]\n"
     ]
    },
    {
     "name": "stderr",
     "output_type": "stream",
     "text": [
      "\n",
      "100%|██████████| 9/9 [05:37<00:00, 37.50s/it]\u001b[A\n",
      " 55%|█████▍    | 6/11 [36:18<30:17, 363.58s/it]\n",
      "  0%|          | 0/9 [00:00<?, ?it/s]\u001b[A"
     ]
    },
    {
     "name": "stdout",
     "output_type": "stream",
     "text": [
      "[54, 'successful', '100 %', '€4,005', 'Out of €4,000', '12/16/2020', '15', 'theatre', 'jpg', 9, 5.0, 600.0, 0, 3, 18, 1]\n"
     ]
    },
    {
     "name": "stderr",
     "output_type": "stream",
     "text": [
      "\n",
      " 11%|█         | 1/9 [00:41<05:34, 41.80s/it]\u001b[A"
     ]
    },
    {
     "name": "stdout",
     "output_type": "stream",
     "text": [
      "[55, 'successful', '131 %', '€7,859', 'Out of €6,000', '12/16/2020', '40', 'theatre', 'jpeg', 7, 20.0, 500.0, 0, 6, 43, 1]\n"
     ]
    },
    {
     "name": "stderr",
     "output_type": "stream",
     "text": [
      "\n",
      " 22%|██▏       | 2/9 [01:18<04:41, 40.15s/it]\u001b[A"
     ]
    },
    {
     "name": "stdout",
     "output_type": "stream",
     "text": [
      "[56, 'successful', '104 %', '€4,250', 'Out of €4,100', '12/16/2020', '58', 'theatre', 'png', 7, 5.0, 1000.0, 0, 10, 60, 1]\n"
     ]
    },
    {
     "name": "stderr",
     "output_type": "stream",
     "text": [
      "\n",
      " 33%|███▎      | 3/9 [01:55<03:55, 39.20s/it]\u001b[A"
     ]
    },
    {
     "name": "stdout",
     "output_type": "stream",
     "text": [
      "[57, 'successful', '103 %', '€7,761', 'Out of €7,500', '11/28/2020', '52', 'theatre', 'jpg', 7, 25.0, 1000.0, 0, 13, 52, 1]\n"
     ]
    },
    {
     "name": "stderr",
     "output_type": "stream",
     "text": [
      "\n",
      " 44%|████▍     | 4/9 [02:31<03:12, 38.40s/it]\u001b[A"
     ]
    },
    {
     "name": "stdout",
     "output_type": "stream",
     "text": [
      "[58, 'successful', '118 %', '€3,080', 'Out of €2,600', '11/9/2020', '61', 'theatre', 'jpg', 7, 10.0, 1500.0, 5, 12, 61, 6]\n"
     ]
    },
    {
     "name": "stderr",
     "output_type": "stream",
     "text": [
      "\n",
      " 56%|█████▌    | 5/9 [03:08<02:31, 37.85s/it]\u001b[A"
     ]
    },
    {
     "name": "stdout",
     "output_type": "stream",
     "text": [
      "[59, 'successful', '101 %', '€3,030', 'Out of €3,000', '11/7/2020', '26', 'theatre', 'jpeg', 3, 10.0, 50.0, 1, 4, 26, 1]\n"
     ]
    },
    {
     "name": "stderr",
     "output_type": "stream",
     "text": [
      "\n",
      " 67%|██████▋   | 6/9 [03:43<01:51, 37.03s/it]\u001b[A"
     ]
    },
    {
     "name": "stdout",
     "output_type": "stream",
     "text": [
      "[60, 'successful', '100 %', '€3,352', 'Out of €3,350', '10/31/2020', '32', 'theatre', 'jpg', 5, 20.0, 500.0, 0, 1, 33, 1]\n"
     ]
    },
    {
     "name": "stderr",
     "output_type": "stream",
     "text": [
      "\n",
      " 78%|███████▊  | 7/9 [04:19<01:13, 36.92s/it]\u001b[A"
     ]
    },
    {
     "name": "stdout",
     "output_type": "stream",
     "text": [
      "[61, 'successful', '114 %', '€5,369', 'Out of €4,700', '10/3/2020', '103', 'theatre', 'jpg', 7, 5.0, 300.0, 0, 15, 104, 1]\n"
     ]
    },
    {
     "name": "stderr",
     "output_type": "stream",
     "text": [
      "\n",
      " 89%|████████▉ | 8/9 [04:55<00:36, 36.51s/it]\u001b[A"
     ]
    },
    {
     "name": "stdout",
     "output_type": "stream",
     "text": [
      "[62, 'successful', '112 %', '€11,196', 'Out of €10,000', '9/8/2020', '60', 'theatre', 'jpg', 7, 10.0, 1000.0, 1, 16, 63, 1]\n"
     ]
    },
    {
     "name": "stderr",
     "output_type": "stream",
     "text": [
      "\n",
      "100%|██████████| 9/9 [05:31<00:00, 36.89s/it]\u001b[A\n",
      " 64%|██████▎   | 7/11 [42:13<24:03, 360.96s/it]\n",
      "  0%|          | 0/9 [00:00<?, ?it/s]\u001b[A"
     ]
    },
    {
     "name": "stdout",
     "output_type": "stream",
     "text": [
      "[63, 'successful', '101 %', '€6,066', 'Out of €6,000', '7/20/2019', '76', 'theatre', 'jpg', 8, 5.0, 1000.0, 1, 7, 82, 1]\n"
     ]
    },
    {
     "name": "stderr",
     "output_type": "stream",
     "text": [
      "\n",
      " 11%|█         | 1/9 [00:36<04:53, 36.72s/it]\u001b[A"
     ]
    },
    {
     "name": "stdout",
     "output_type": "stream",
     "text": [
      "[64, 'successful', '100 %', '€6,019', 'Out of €6,000', '7/14/2019', '35', 'theatre', 'jpg', 8, 10.0, 2000.0, 0, 9, 37, 1]\n"
     ]
    },
    {
     "name": "stderr",
     "output_type": "stream",
     "text": [
      "\n",
      " 22%|██▏       | 2/9 [01:12<04:14, 36.36s/it]\u001b[A"
     ]
    },
    {
     "name": "stdout",
     "output_type": "stream",
     "text": [
      "[65, 'successful', '100 %', '€6,820', 'Out of €6,800', '7/9/2019', '58', 'theatre', 'jpg', 12, 1.0, 6800.0, 1, 18, 64, 1]\n"
     ]
    },
    {
     "name": "stderr",
     "output_type": "stream",
     "text": [
      "\n",
      " 33%|███▎      | 3/9 [01:49<03:39, 36.59s/it]\u001b[A"
     ]
    },
    {
     "name": "stdout",
     "output_type": "stream",
     "text": [
      "[66, 'successful', '100 %', '€5,009', 'Out of €5,000', '7/8/2019', '48', 'theatre', 'JPG', 9, 5.0, 600.0, 0, 6, 49, 1]\n"
     ]
    },
    {
     "name": "stderr",
     "output_type": "stream",
     "text": [
      "\n",
      " 44%|████▍     | 4/9 [02:26<03:04, 36.90s/it]\u001b[A"
     ]
    },
    {
     "name": "stdout",
     "output_type": "stream",
     "text": [
      "[67, 'successful', '134 %', '€4,020', 'Out of €3,000', '7/8/2019', '38', 'theatre', 'jpg', 8, 5.0, 1000.0, 0, 4, 38, 1]\n"
     ]
    },
    {
     "name": "stderr",
     "output_type": "stream",
     "text": [
      "\n",
      " 56%|█████▌    | 5/9 [03:04<02:27, 36.95s/it]\u001b[A"
     ]
    },
    {
     "name": "stdout",
     "output_type": "stream",
     "text": [
      "[68, 'successful', '101 %', '€5,070', 'Out of €5,000', '7/7/2019', '53', 'theatre', 'jpg', 7, 12.0, 500.0, 7, 14, 63, 1]\n"
     ]
    },
    {
     "name": "stderr",
     "output_type": "stream",
     "text": [
      "\n",
      " 67%|██████▋   | 6/9 [03:43<01:53, 37.76s/it]\u001b[A"
     ]
    },
    {
     "name": "stdout",
     "output_type": "stream",
     "text": [
      "[69, 'successful', '162 %', '€8,101', 'Out of €5,000', '7/5/2019', '136', 'theatre', 'gif', 5, 10.0, 200.0, 0, 15, 136, 1]\n"
     ]
    },
    {
     "name": "stderr",
     "output_type": "stream",
     "text": [
      "\n",
      " 78%|███████▊  | 7/9 [04:20<01:15, 37.51s/it]\u001b[A"
     ]
    },
    {
     "name": "stdout",
     "output_type": "stream",
     "text": [
      "[70, 'successful', '113 %', '€6,215', 'Out of €5,500', '7/5/2019', '46', 'theatre', 'jpg', 6, 20.0, 100.0, 7, 15, 46, 1]\n"
     ]
    },
    {
     "name": "stderr",
     "output_type": "stream",
     "text": [
      "\n",
      " 89%|████████▉ | 8/9 [04:56<00:37, 37.02s/it]\u001b[A"
     ]
    },
    {
     "name": "stdout",
     "output_type": "stream",
     "text": [
      "[71, 'successful', '103 %', '€5,140', 'Out of €5,000', '6/27/2019', '80', 'theatre', 'jpg', 7, 10.0, 500.0, 6, 7, 83, 1]\n"
     ]
    },
    {
     "name": "stderr",
     "output_type": "stream",
     "text": [
      "\n",
      "100%|██████████| 9/9 [05:36<00:00, 37.40s/it]\u001b[A\n",
      " 73%|███████▎  | 8/11 [48:18<18:07, 362.44s/it]\n",
      "  0%|          | 0/9 [00:00<?, ?it/s]\u001b[A"
     ]
    },
    {
     "name": "stdout",
     "output_type": "stream",
     "text": [
      "[72, 'successful', '100 %', '€4,005', 'Out of €4,000', '12/16/2020', '15', 'theatre', 'jpg', 9, 5.0, 600.0, 0, 3, 18, 1]\n"
     ]
    },
    {
     "name": "stderr",
     "output_type": "stream",
     "text": [
      "\n",
      " 11%|█         | 1/9 [00:37<04:57, 37.14s/it]\u001b[A"
     ]
    },
    {
     "name": "stdout",
     "output_type": "stream",
     "text": [
      "[73, 'successful', '131 %', '€7,859', 'Out of €6,000', '12/16/2020', '40', 'theatre', 'jpeg', 7, 20.0, 500.0, 0, 6, 43, 1]\n"
     ]
    },
    {
     "name": "stderr",
     "output_type": "stream",
     "text": [
      "\n",
      " 22%|██▏       | 2/9 [01:12<04:16, 36.62s/it]\u001b[A"
     ]
    },
    {
     "name": "stdout",
     "output_type": "stream",
     "text": [
      "[74, 'successful', '104 %', '€4,250', 'Out of €4,100', '12/16/2020', '58', 'theatre', 'png', 7, 5.0, 1000.0, 0, 10, 60, 1]\n"
     ]
    },
    {
     "name": "stderr",
     "output_type": "stream",
     "text": [
      "\n",
      " 33%|███▎      | 3/9 [01:49<03:39, 36.58s/it]\u001b[A"
     ]
    },
    {
     "name": "stdout",
     "output_type": "stream",
     "text": [
      "[75, 'successful', '103 %', '€7,761', 'Out of €7,500', '11/28/2020', '52', 'theatre', 'jpg', 7, 25.0, 1000.0, 0, 13, 52, 1]\n"
     ]
    },
    {
     "name": "stderr",
     "output_type": "stream",
     "text": [
      "\n",
      " 44%|████▍     | 4/9 [02:24<03:01, 36.25s/it]\u001b[A"
     ]
    },
    {
     "name": "stdout",
     "output_type": "stream",
     "text": [
      "[76, 'successful', '118 %', '€3,080', 'Out of €2,600', '11/9/2020', '61', 'theatre', 'jpg', 7, 10.0, 1500.0, 5, 12, 61, 6]\n"
     ]
    },
    {
     "name": "stderr",
     "output_type": "stream",
     "text": [
      "\n",
      " 56%|█████▌    | 5/9 [03:01<02:25, 36.46s/it]\u001b[A\n",
      " 67%|██████▋   | 6/9 [03:35<01:47, 35.83s/it]\u001b[A"
     ]
    },
    {
     "name": "stdout",
     "output_type": "stream",
     "text": [
      "[77, 'successful', '101 %', '€3,030', 'Out of €3,000', '11/7/2020', '26', 'theatre', 'jpeg', 3, 10.0, 50.0, 1, 4, 26, 1]\n",
      "[78, 'successful', '100 %', '€3,352', 'Out of €3,350', '10/31/2020', '32', 'theatre', 'jpg', 5, 20.0, 500.0, 0, 1, 33, 1]\n"
     ]
    },
    {
     "name": "stderr",
     "output_type": "stream",
     "text": [
      "\n",
      " 78%|███████▊  | 7/9 [04:12<01:12, 36.14s/it]\u001b[A"
     ]
    },
    {
     "name": "stdout",
     "output_type": "stream",
     "text": [
      "[79, 'successful', '114 %', '€5,369', 'Out of €4,700', '10/3/2020', '103', 'theatre', 'jpg', 7, 5.0, 300.0, 0, 15, 104, 1]\n"
     ]
    },
    {
     "name": "stderr",
     "output_type": "stream",
     "text": [
      "\n",
      " 89%|████████▉ | 8/9 [04:49<00:36, 36.34s/it]\u001b[A"
     ]
    },
    {
     "name": "stdout",
     "output_type": "stream",
     "text": [
      "[80, 'successful', '112 %', '€11,196', 'Out of €10,000', '9/8/2020', '60', 'theatre', 'jpg', 7, 10.0, 1000.0, 1, 16, 63, 1]\n"
     ]
    },
    {
     "name": "stderr",
     "output_type": "stream",
     "text": [
      "\n",
      "100%|██████████| 9/9 [05:26<00:00, 36.29s/it]\u001b[A\n",
      " 82%|████████▏ | 9/11 [54:12<11:59, 359.80s/it]\n",
      "  0%|          | 0/9 [00:00<?, ?it/s]\u001b[A"
     ]
    },
    {
     "name": "stdout",
     "output_type": "stream",
     "text": [
      "[81, 'successful', '104 %', '€5,202', 'Out of €5,000', '6/13/2019', '107', 'theatre', 'jpg', 9, 5.0, 500.0, 2, 18, 115, 1]\n"
     ]
    },
    {
     "name": "stderr",
     "output_type": "stream",
     "text": [
      "\n",
      " 11%|█         | 1/9 [00:37<05:03, 37.92s/it]\u001b[A"
     ]
    },
    {
     "name": "stdout",
     "output_type": "stream",
     "text": [
      "[82, 'successful', '101 %', '€5,050', 'Out of €5,000', '6/11/2019', '51', 'theatre', 'jpg', 5, 10.0, 500.0, 0, 3, 54, 1]\n"
     ]
    },
    {
     "name": "stderr",
     "output_type": "stream",
     "text": [
      "\n",
      " 22%|██▏       | 2/9 [01:13<04:20, 37.28s/it]\u001b[A"
     ]
    },
    {
     "name": "stdout",
     "output_type": "stream",
     "text": [
      "[83, 'successful', '109 %', '€5,470', 'Out of €5,000', '6/9/2019', '81', 'theatre', 'png', 12, 10.0, 5000.0, 0, 13, 82, 1]\n"
     ]
    },
    {
     "name": "stderr",
     "output_type": "stream",
     "text": [
      "\n",
      " 33%|███▎      | 3/9 [01:50<03:42, 37.14s/it]\u001b[A"
     ]
    },
    {
     "name": "stdout",
     "output_type": "stream",
     "text": [
      "[84, 'successful', '127 %', '€7,600', 'Out of €6,000', '6/7/2019', '81', 'theatre', 'jpg', 5, 10.0, 100.0, 14, 10, 82, 1]\n"
     ]
    },
    {
     "name": "stderr",
     "output_type": "stream",
     "text": [
      "\n",
      " 44%|████▍     | 4/9 [02:28<03:06, 37.25s/it]\u001b[A"
     ]
    },
    {
     "name": "stdout",
     "output_type": "stream",
     "text": [
      "[85, 'successful', '128 %', '€6,954', 'Out of €5,454', '6/3/2019', '97', 'theatre', 'jpg', 9, 15.0, 2000.0, 9, 28, 101, 1]\n"
     ]
    },
    {
     "name": "stderr",
     "output_type": "stream",
     "text": [
      "\n",
      " 56%|█████▌    | 5/9 [03:04<02:28, 37.05s/it]\u001b[A"
     ]
    },
    {
     "name": "stdout",
     "output_type": "stream",
     "text": [
      "[86, 'successful', '100 %', '€3,010', 'Out of €3,000', '5/24/2019', '51', 'theatre', 'jpg', 6, 5.0, 100.0, 0, 9, 55, 2]\n"
     ]
    },
    {
     "name": "stderr",
     "output_type": "stream",
     "text": [
      "\n",
      " 67%|██████▋   | 6/9 [03:40<01:50, 36.67s/it]\u001b[A"
     ]
    },
    {
     "name": "stdout",
     "output_type": "stream",
     "text": [
      "[87, 'successful', '125 %', '€3,490', 'Out of €2,800', '5/20/2019', '68', 'theatre', 'jpg', 11, 5.0, 1500.0, 8, 7, 69, 2]\n"
     ]
    },
    {
     "name": "stderr",
     "output_type": "stream",
     "text": [
      "\n",
      " 78%|███████▊  | 7/9 [04:17<01:13, 36.67s/it]\u001b[A"
     ]
    },
    {
     "name": "stdout",
     "output_type": "stream",
     "text": [
      "[88, 'successful', '104 %', '€3,110', 'Out of €3,000', '5/17/2019', '51', 'theatre', 'JPG', 9, 5.0, 1500.0, 0, 5, 51, 1]\n"
     ]
    },
    {
     "name": "stderr",
     "output_type": "stream",
     "text": [
      "\n",
      " 89%|████████▉ | 8/9 [04:52<00:36, 36.30s/it]\u001b[A"
     ]
    },
    {
     "name": "stdout",
     "output_type": "stream",
     "text": [
      "[89, 'successful', '101 %', '€16,090', 'Out of €16,000', '5/15/2019', '259', 'theatre', 'png', 16, 5.0, 800.0, 1, 65, 274, 1]\n"
     ]
    },
    {
     "name": "stderr",
     "output_type": "stream",
     "text": [
      "\n",
      "100%|██████████| 9/9 [05:29<00:00, 36.61s/it]\u001b[A\n",
      " 91%|█████████ | 10/11 [1:00:08<05:58, 358.71s/it]\n",
      "  0%|          | 0/9 [00:00<?, ?it/s]\u001b[A"
     ]
    },
    {
     "name": "stdout",
     "output_type": "stream",
     "text": [
      "[90, 'successful', '105 %', '€3,135', 'Out of €3,000', '5/9/2019', '51', 'theatre', 'png', 4, 10.0, 500.0, 0, 20, 51, 1]\n"
     ]
    },
    {
     "name": "stderr",
     "output_type": "stream",
     "text": [
      "\n",
      " 11%|█         | 1/9 [00:37<04:58, 37.30s/it]\u001b[A"
     ]
    },
    {
     "name": "stdout",
     "output_type": "stream",
     "text": [
      "[91, 'successful', '100 %', '€5,437', 'Out of €5,435', '5/8/2019', '62', 'theatre', 'png', 10, 5.0, 1000.0, 1, 10, 65, 1]\n"
     ]
    },
    {
     "name": "stderr",
     "output_type": "stream",
     "text": [
      "\n",
      " 22%|██▏       | 2/9 [01:15<04:22, 37.54s/it]\u001b[A"
     ]
    },
    {
     "name": "stdout",
     "output_type": "stream",
     "text": [
      "[92, 'successful', '101 %', '€8,910', 'Out of €8,800', '4/30/2019', '67', 'theatre', 'jpg', 4, 10.0, 300.0, 0, 43, 84, 1]\n"
     ]
    },
    {
     "name": "stderr",
     "output_type": "stream",
     "text": [
      "\n",
      " 33%|███▎      | 3/9 [01:52<03:45, 37.50s/it]\u001b[A"
     ]
    },
    {
     "name": "stdout",
     "output_type": "stream",
     "text": [
      "[93, 'successful', '108 %', '€3,785', 'Out of €3,500', '4/27/2019', '66', 'theatre', 'png', 10, 5.0, 350.0, 0, 8, 74, 5]\n"
     ]
    },
    {
     "name": "stderr",
     "output_type": "stream",
     "text": [
      "\n",
      " 44%|████▍     | 4/9 [02:31<03:09, 37.95s/it]\u001b[A"
     ]
    },
    {
     "name": "stdout",
     "output_type": "stream",
     "text": [
      "[94, 'successful', '103 %', '€6,205', 'Out of €6,000', '4/17/2019', '40', 'theatre', 'jpg', 17, 10.0, 1050.0, 4, 17, 44, 1]\n"
     ]
    },
    {
     "name": "stderr",
     "output_type": "stream",
     "text": [
      "\n",
      " 56%|█████▌    | 5/9 [03:07<02:29, 37.29s/it]\u001b[A"
     ]
    },
    {
     "name": "stdout",
     "output_type": "stream",
     "text": [
      "[95, 'successful', '101 %', '€5,060', 'Out of €5,000', '4/16/2019', '79', 'theatre', 'jpg', 5, 15.0, 120.0, 11, 5, 82, 1]\n"
     ]
    },
    {
     "name": "stderr",
     "output_type": "stream",
     "text": [
      "\n",
      " 67%|██████▋   | 6/9 [03:45<01:52, 37.38s/it]\u001b[A"
     ]
    },
    {
     "name": "stdout",
     "output_type": "stream",
     "text": [
      "[96, 'successful', '109 %', '€3,825', 'Out of €3,500', '4/15/2019', '58', 'theatre', 'jpg', 5, 2.0, 250.0, 27, 17, 82, 1]\n"
     ]
    },
    {
     "name": "stderr",
     "output_type": "stream",
     "text": [
      "\n",
      " 78%|███████▊  | 7/9 [04:21<01:14, 37.08s/it]\u001b[A"
     ]
    },
    {
     "name": "stdout",
     "output_type": "stream",
     "text": [
      "[97, 'successful', '103 %', '€3,085', 'Out of €3,000', '4/11/2019', '90', 'theatre', 'jpg', 7, 10.0, 1000.0, 3, 22, 91, 1]\n"
     ]
    },
    {
     "name": "stderr",
     "output_type": "stream",
     "text": [
      "\n",
      " 89%|████████▉ | 8/9 [04:58<00:36, 36.89s/it]\u001b[A"
     ]
    },
    {
     "name": "stdout",
     "output_type": "stream",
     "text": [
      "[98, 'successful', '118 %', '€21,150', 'Out of €18,000', '4/8/2019', '164', 'theatre', 'png', 5, 20.0, 500.0, 2, 50, 181, 1]\n"
     ]
    },
    {
     "name": "stderr",
     "output_type": "stream",
     "text": [
      "\n",
      "100%|██████████| 9/9 [05:34<00:00, 37.17s/it]\u001b[A\n",
      "100%|██████████| 11/11 [1:06:13<00:00, 361.20s/it]\n"
     ]
    }
   ],
   "source": [
    "data, rewards = collect_data(1,12,'theatre')"
   ]
  },
  {
   "cell_type": "code",
   "execution_count": 46,
   "metadata": {},
   "outputs": [
    {
     "data": {
      "text/html": [
       "<div>\n",
       "<style scoped>\n",
       "    .dataframe tbody tr th:only-of-type {\n",
       "        vertical-align: middle;\n",
       "    }\n",
       "\n",
       "    .dataframe tbody tr th {\n",
       "        vertical-align: top;\n",
       "    }\n",
       "\n",
       "    .dataframe thead th {\n",
       "        text-align: right;\n",
       "    }\n",
       "</style>\n",
       "<table border=\"1\" class=\"dataframe\">\n",
       "  <thead>\n",
       "    <tr style=\"text-align: right;\">\n",
       "      <th></th>\n",
       "      <th>id</th>\n",
       "      <th>is_successful</th>\n",
       "      <th>percentage_fund</th>\n",
       "      <th>funded</th>\n",
       "      <th>target</th>\n",
       "      <th>in_2020</th>\n",
       "      <th>backers</th>\n",
       "      <th>category</th>\n",
       "      <th>thumbnail_type</th>\n",
       "      <th>num_rewards</th>\n",
       "      <th>min_price</th>\n",
       "      <th>max_price</th>\n",
       "      <th>num_news</th>\n",
       "      <th>num_comments</th>\n",
       "      <th>num_contributions</th>\n",
       "      <th>num_creator_projects</th>\n",
       "    </tr>\n",
       "  </thead>\n",
       "  <tbody>\n",
       "    <tr>\n",
       "      <th>0</th>\n",
       "      <td>0</td>\n",
       "      <td>successful</td>\n",
       "      <td>100 %</td>\n",
       "      <td>€4,005</td>\n",
       "      <td>Out of €4,000</td>\n",
       "      <td>12/16/2020</td>\n",
       "      <td>15</td>\n",
       "      <td>theatre</td>\n",
       "      <td>jpg</td>\n",
       "      <td>9</td>\n",
       "      <td>5.0</td>\n",
       "      <td>600.0</td>\n",
       "      <td>0</td>\n",
       "      <td>3</td>\n",
       "      <td>18</td>\n",
       "      <td>1</td>\n",
       "    </tr>\n",
       "    <tr>\n",
       "      <th>1</th>\n",
       "      <td>1</td>\n",
       "      <td>successful</td>\n",
       "      <td>131 %</td>\n",
       "      <td>€7,859</td>\n",
       "      <td>Out of €6,000</td>\n",
       "      <td>12/16/2020</td>\n",
       "      <td>40</td>\n",
       "      <td>theatre</td>\n",
       "      <td>jpeg</td>\n",
       "      <td>7</td>\n",
       "      <td>20.0</td>\n",
       "      <td>500.0</td>\n",
       "      <td>0</td>\n",
       "      <td>6</td>\n",
       "      <td>43</td>\n",
       "      <td>1</td>\n",
       "    </tr>\n",
       "    <tr>\n",
       "      <th>2</th>\n",
       "      <td>2</td>\n",
       "      <td>successful</td>\n",
       "      <td>104 %</td>\n",
       "      <td>€4,250</td>\n",
       "      <td>Out of €4,100</td>\n",
       "      <td>12/16/2020</td>\n",
       "      <td>58</td>\n",
       "      <td>theatre</td>\n",
       "      <td>png</td>\n",
       "      <td>7</td>\n",
       "      <td>5.0</td>\n",
       "      <td>1000.0</td>\n",
       "      <td>0</td>\n",
       "      <td>10</td>\n",
       "      <td>60</td>\n",
       "      <td>1</td>\n",
       "    </tr>\n",
       "    <tr>\n",
       "      <th>3</th>\n",
       "      <td>3</td>\n",
       "      <td>successful</td>\n",
       "      <td>103 %</td>\n",
       "      <td>€7,761</td>\n",
       "      <td>Out of €7,500</td>\n",
       "      <td>11/28/2020</td>\n",
       "      <td>52</td>\n",
       "      <td>theatre</td>\n",
       "      <td>jpg</td>\n",
       "      <td>7</td>\n",
       "      <td>25.0</td>\n",
       "      <td>1000.0</td>\n",
       "      <td>0</td>\n",
       "      <td>13</td>\n",
       "      <td>52</td>\n",
       "      <td>1</td>\n",
       "    </tr>\n",
       "    <tr>\n",
       "      <th>4</th>\n",
       "      <td>4</td>\n",
       "      <td>successful</td>\n",
       "      <td>118 %</td>\n",
       "      <td>€3,080</td>\n",
       "      <td>Out of €2,600</td>\n",
       "      <td>11/9/2020</td>\n",
       "      <td>61</td>\n",
       "      <td>theatre</td>\n",
       "      <td>jpg</td>\n",
       "      <td>7</td>\n",
       "      <td>10.0</td>\n",
       "      <td>1500.0</td>\n",
       "      <td>5</td>\n",
       "      <td>12</td>\n",
       "      <td>61</td>\n",
       "      <td>6</td>\n",
       "    </tr>\n",
       "    <tr>\n",
       "      <th>...</th>\n",
       "      <td>...</td>\n",
       "      <td>...</td>\n",
       "      <td>...</td>\n",
       "      <td>...</td>\n",
       "      <td>...</td>\n",
       "      <td>...</td>\n",
       "      <td>...</td>\n",
       "      <td>...</td>\n",
       "      <td>...</td>\n",
       "      <td>...</td>\n",
       "      <td>...</td>\n",
       "      <td>...</td>\n",
       "      <td>...</td>\n",
       "      <td>...</td>\n",
       "      <td>...</td>\n",
       "      <td>...</td>\n",
       "    </tr>\n",
       "    <tr>\n",
       "      <th>94</th>\n",
       "      <td>94</td>\n",
       "      <td>successful</td>\n",
       "      <td>103 %</td>\n",
       "      <td>€6,205</td>\n",
       "      <td>Out of €6,000</td>\n",
       "      <td>4/17/2019</td>\n",
       "      <td>40</td>\n",
       "      <td>theatre</td>\n",
       "      <td>jpg</td>\n",
       "      <td>17</td>\n",
       "      <td>10.0</td>\n",
       "      <td>1050.0</td>\n",
       "      <td>4</td>\n",
       "      <td>17</td>\n",
       "      <td>44</td>\n",
       "      <td>1</td>\n",
       "    </tr>\n",
       "    <tr>\n",
       "      <th>95</th>\n",
       "      <td>95</td>\n",
       "      <td>successful</td>\n",
       "      <td>101 %</td>\n",
       "      <td>€5,060</td>\n",
       "      <td>Out of €5,000</td>\n",
       "      <td>4/16/2019</td>\n",
       "      <td>79</td>\n",
       "      <td>theatre</td>\n",
       "      <td>jpg</td>\n",
       "      <td>5</td>\n",
       "      <td>15.0</td>\n",
       "      <td>120.0</td>\n",
       "      <td>11</td>\n",
       "      <td>5</td>\n",
       "      <td>82</td>\n",
       "      <td>1</td>\n",
       "    </tr>\n",
       "    <tr>\n",
       "      <th>96</th>\n",
       "      <td>96</td>\n",
       "      <td>successful</td>\n",
       "      <td>109 %</td>\n",
       "      <td>€3,825</td>\n",
       "      <td>Out of €3,500</td>\n",
       "      <td>4/15/2019</td>\n",
       "      <td>58</td>\n",
       "      <td>theatre</td>\n",
       "      <td>jpg</td>\n",
       "      <td>5</td>\n",
       "      <td>2.0</td>\n",
       "      <td>250.0</td>\n",
       "      <td>27</td>\n",
       "      <td>17</td>\n",
       "      <td>82</td>\n",
       "      <td>1</td>\n",
       "    </tr>\n",
       "    <tr>\n",
       "      <th>97</th>\n",
       "      <td>97</td>\n",
       "      <td>successful</td>\n",
       "      <td>103 %</td>\n",
       "      <td>€3,085</td>\n",
       "      <td>Out of €3,000</td>\n",
       "      <td>4/11/2019</td>\n",
       "      <td>90</td>\n",
       "      <td>theatre</td>\n",
       "      <td>jpg</td>\n",
       "      <td>7</td>\n",
       "      <td>10.0</td>\n",
       "      <td>1000.0</td>\n",
       "      <td>3</td>\n",
       "      <td>22</td>\n",
       "      <td>91</td>\n",
       "      <td>1</td>\n",
       "    </tr>\n",
       "    <tr>\n",
       "      <th>98</th>\n",
       "      <td>98</td>\n",
       "      <td>successful</td>\n",
       "      <td>118 %</td>\n",
       "      <td>€21,150</td>\n",
       "      <td>Out of €18,000</td>\n",
       "      <td>4/8/2019</td>\n",
       "      <td>164</td>\n",
       "      <td>theatre</td>\n",
       "      <td>png</td>\n",
       "      <td>5</td>\n",
       "      <td>20.0</td>\n",
       "      <td>500.0</td>\n",
       "      <td>2</td>\n",
       "      <td>50</td>\n",
       "      <td>181</td>\n",
       "      <td>1</td>\n",
       "    </tr>\n",
       "  </tbody>\n",
       "</table>\n",
       "<p>99 rows × 16 columns</p>\n",
       "</div>"
      ],
      "text/plain": [
       "    id is_successful percentage_fund   funded          target     in_2020  \\\n",
       "0    0    successful           100 %   €4,005   Out of €4,000  12/16/2020   \n",
       "1    1    successful           131 %   €7,859   Out of €6,000  12/16/2020   \n",
       "2    2    successful           104 %   €4,250   Out of €4,100  12/16/2020   \n",
       "3    3    successful           103 %   €7,761   Out of €7,500  11/28/2020   \n",
       "4    4    successful           118 %   €3,080   Out of €2,600   11/9/2020   \n",
       "..  ..           ...             ...      ...             ...         ...   \n",
       "94  94    successful           103 %   €6,205   Out of €6,000   4/17/2019   \n",
       "95  95    successful           101 %   €5,060   Out of €5,000   4/16/2019   \n",
       "96  96    successful           109 %   €3,825   Out of €3,500   4/15/2019   \n",
       "97  97    successful           103 %   €3,085   Out of €3,000   4/11/2019   \n",
       "98  98    successful           118 %  €21,150  Out of €18,000    4/8/2019   \n",
       "\n",
       "   backers category thumbnail_type  num_rewards  min_price  max_price  \\\n",
       "0       15  theatre            jpg            9        5.0      600.0   \n",
       "1       40  theatre           jpeg            7       20.0      500.0   \n",
       "2       58  theatre            png            7        5.0     1000.0   \n",
       "3       52  theatre            jpg            7       25.0     1000.0   \n",
       "4       61  theatre            jpg            7       10.0     1500.0   \n",
       "..     ...      ...            ...          ...        ...        ...   \n",
       "94      40  theatre            jpg           17       10.0     1050.0   \n",
       "95      79  theatre            jpg            5       15.0      120.0   \n",
       "96      58  theatre            jpg            5        2.0      250.0   \n",
       "97      90  theatre            jpg            7       10.0     1000.0   \n",
       "98     164  theatre            png            5       20.0      500.0   \n",
       "\n",
       "    num_news  num_comments  num_contributions  num_creator_projects  \n",
       "0          0             3                 18                     1  \n",
       "1          0             6                 43                     1  \n",
       "2          0            10                 60                     1  \n",
       "3          0            13                 52                     1  \n",
       "4          5            12                 61                     6  \n",
       "..       ...           ...                ...                   ...  \n",
       "94         4            17                 44                     1  \n",
       "95        11             5                 82                     1  \n",
       "96        27            17                 82                     1  \n",
       "97         3            22                 91                     1  \n",
       "98         2            50                181                     1  \n",
       "\n",
       "[99 rows x 16 columns]"
      ]
     },
     "execution_count": 46,
     "metadata": {},
     "output_type": "execute_result"
    }
   ],
   "source": [
    "data_df = pd.DataFrame(data, columns = features_data)\n",
    "data_df"
   ]
  },
  {
   "cell_type": "code",
   "execution_count": 50,
   "metadata": {},
   "outputs": [
    {
     "data": {
      "text/html": [
       "<div>\n",
       "<style scoped>\n",
       "    .dataframe tbody tr th:only-of-type {\n",
       "        vertical-align: middle;\n",
       "    }\n",
       "\n",
       "    .dataframe tbody tr th {\n",
       "        vertical-align: top;\n",
       "    }\n",
       "\n",
       "    .dataframe thead th {\n",
       "        text-align: right;\n",
       "    }\n",
       "</style>\n",
       "<table border=\"1\" class=\"dataframe\">\n",
       "  <thead>\n",
       "    <tr style=\"text-align: right;\">\n",
       "      <th></th>\n",
       "      <th>id</th>\n",
       "      <th>category</th>\n",
       "      <th>price</th>\n",
       "      <th>backers</th>\n",
       "    </tr>\n",
       "  </thead>\n",
       "  <tbody>\n",
       "    <tr>\n",
       "      <th>0</th>\n",
       "      <td>0</td>\n",
       "      <td>theatre</td>\n",
       "      <td>5.0</td>\n",
       "      <td>0</td>\n",
       "    </tr>\n",
       "    <tr>\n",
       "      <th>1</th>\n",
       "      <td>0</td>\n",
       "      <td>theatre</td>\n",
       "      <td>10.0</td>\n",
       "      <td>4</td>\n",
       "    </tr>\n",
       "    <tr>\n",
       "      <th>2</th>\n",
       "      <td>0</td>\n",
       "      <td>theatre</td>\n",
       "      <td>20.0</td>\n",
       "      <td>3</td>\n",
       "    </tr>\n",
       "    <tr>\n",
       "      <th>3</th>\n",
       "      <td>0</td>\n",
       "      <td>theatre</td>\n",
       "      <td>30.0</td>\n",
       "      <td>1</td>\n",
       "    </tr>\n",
       "    <tr>\n",
       "      <th>4</th>\n",
       "      <td>0</td>\n",
       "      <td>theatre</td>\n",
       "      <td>50.0</td>\n",
       "      <td>1</td>\n",
       "    </tr>\n",
       "    <tr>\n",
       "      <th>...</th>\n",
       "      <td>...</td>\n",
       "      <td>...</td>\n",
       "      <td>...</td>\n",
       "      <td>...</td>\n",
       "    </tr>\n",
       "    <tr>\n",
       "      <th>722</th>\n",
       "      <td>98</td>\n",
       "      <td>theatre</td>\n",
       "      <td>20.0</td>\n",
       "      <td>64</td>\n",
       "    </tr>\n",
       "    <tr>\n",
       "      <th>723</th>\n",
       "      <td>98</td>\n",
       "      <td>theatre</td>\n",
       "      <td>50.0</td>\n",
       "      <td>25</td>\n",
       "    </tr>\n",
       "    <tr>\n",
       "      <th>724</th>\n",
       "      <td>98</td>\n",
       "      <td>theatre</td>\n",
       "      <td>100.0</td>\n",
       "      <td>17</td>\n",
       "    </tr>\n",
       "    <tr>\n",
       "      <th>725</th>\n",
       "      <td>98</td>\n",
       "      <td>theatre</td>\n",
       "      <td>200.0</td>\n",
       "      <td>2</td>\n",
       "    </tr>\n",
       "    <tr>\n",
       "      <th>726</th>\n",
       "      <td>98</td>\n",
       "      <td>theatre</td>\n",
       "      <td>500.0</td>\n",
       "      <td>1</td>\n",
       "    </tr>\n",
       "  </tbody>\n",
       "</table>\n",
       "<p>727 rows × 4 columns</p>\n",
       "</div>"
      ],
      "text/plain": [
       "     id category  price  backers\n",
       "0     0  theatre    5.0        0\n",
       "1     0  theatre   10.0        4\n",
       "2     0  theatre   20.0        3\n",
       "3     0  theatre   30.0        1\n",
       "4     0  theatre   50.0        1\n",
       "..   ..      ...    ...      ...\n",
       "722  98  theatre   20.0       64\n",
       "723  98  theatre   50.0       25\n",
       "724  98  theatre  100.0       17\n",
       "725  98  theatre  200.0        2\n",
       "726  98  theatre  500.0        1\n",
       "\n",
       "[727 rows x 4 columns]"
      ]
     },
     "execution_count": 50,
     "metadata": {},
     "output_type": "execute_result"
    }
   ],
   "source": [
    "rewards_df = pd.DataFrame(rewards, columns = features_rewards)\n",
    "rewards_df"
   ]
  },
  {
   "cell_type": "code",
   "execution_count": null,
   "metadata": {},
   "outputs": [],
   "source": []
  },
  {
   "cell_type": "code",
   "execution_count": 51,
   "metadata": {},
   "outputs": [],
   "source": [
    "data_df.to_csv('./data/data_theatre_1_11.csv', index=False)\n",
    "rewards_df.to_csv('./data/rewards_theatre_1_11.csv', index=False)"
   ]
  },
  {
   "cell_type": "code",
   "execution_count": null,
   "metadata": {},
   "outputs": [],
   "source": []
  }
 ],
 "metadata": {
  "kernelspec": {
   "display_name": "Python 3",
   "language": "python",
   "name": "python3"
  },
  "language_info": {
   "codemirror_mode": {
    "name": "ipython",
    "version": 3
   },
   "file_extension": ".py",
   "mimetype": "text/x-python",
   "name": "python",
   "nbconvert_exporter": "python",
   "pygments_lexer": "ipython3",
   "version": "3.8.3"
  }
 },
 "nbformat": 4,
 "nbformat_minor": 4
}
